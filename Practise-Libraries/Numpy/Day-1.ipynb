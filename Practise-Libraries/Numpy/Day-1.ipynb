{
 "cells": [
  {
   "cell_type": "markdown",
   "metadata": {},
   "source": [
    "# Day 1 - Numpy"
   ]
  },
  {
   "cell_type": "code",
   "execution_count": 1,
   "metadata": {},
   "outputs": [],
   "source": [
    "# Importing numpy library as named np\n",
    "import numpy as np"
   ]
  },
  {
   "cell_type": "markdown",
   "metadata": {},
   "source": [
    "### 1. Check if all elements from the following arrays return the logical value True"
   ]
  },
  {
   "cell_type": "code",
   "execution_count": 3,
   "metadata": {},
   "outputs": [
    {
     "name": "stdout",
     "output_type": "stream",
     "text": [
      "A: True\n",
      "B: False\n",
      "C: False\n",
      "D: True\n",
      "\n",
      "\n",
      "A: True\n",
      "B: False\n",
      "C: False\n",
      "D: True\n"
     ]
    }
   ],
   "source": [
    "A = np.array([[3, 2, 1, 4],\n",
    "              [5, 2, 1, 6]])\n",
    "\n",
    "B = np.array([[3, 2, 1, 4],\n",
    "              [5, 2, 0, 6]])\n",
    "\n",
    "C = np.array([[True, False, False],\n",
    "              [True, True, True]])\n",
    "\n",
    "D = np.array([0.1, 0.3])\n",
    "\n",
    "# <---- Write your code here ---->\n",
    "\n",
    "# Method 1\n",
    "\n",
    "print(\"A: \", end=\"\")\n",
    "print(np.all(A))\n",
    "\n",
    "print(\"B: \", end=\"\")\n",
    "print(np.all(B))\n",
    "\n",
    "print(\"C: \", end=\"\")\n",
    "print(np.all(C))\n",
    "\n",
    "print(\"D: \", end=\"\")\n",
    "print(np.all(D))\n",
    "\n",
    "\n",
    "print('\\n')\n",
    "# Method 2\n",
    "\n",
    "for name, array in zip(list('ABCD'), [A, B, C, D]):\n",
    "    print(f'{name}: {np.all(array)}')\n"
   ]
  },
  {
   "cell_type": "markdown",
   "metadata": {},
   "source": [
    "---"
   ]
  },
  {
   "cell_type": "markdown",
   "metadata": {},
   "source": [
    "### 2. Check if all elements from the following arrays return the logical value True along the axis with index 1"
   ]
  },
  {
   "cell_type": "code",
   "execution_count": 4,
   "metadata": {},
   "outputs": [
    {
     "name": "stdout",
     "output_type": "stream",
     "text": [
      "A: [ True  True]\n",
      "B: [ True False]\n",
      "C: [False  True]\n"
     ]
    }
   ],
   "source": [
    "A = np.array([[3, 2, 1, 4],\n",
    "              [5, 2, 1, 6]])\n",
    "\n",
    "B = np.array([[3, 2, 1, 4],\n",
    "              [5, 2, 0, 6]])\n",
    "\n",
    "C = np.array([[True, False, False],\n",
    "              [True, True, True]])\n",
    "\n",
    "# <---- Write your code here ---->\n",
    "\n",
    "for name, array in zip(list('ABC'), [A, B, C]):\n",
    "    print(f'{name}: {np.all(array, axis=1)}')\n"
   ]
  },
  {
   "cell_type": "markdown",
   "metadata": {},
   "source": [
    "--- "
   ]
  },
  {
   "cell_type": "markdown",
   "metadata": {},
   "source": [
    "### 3. Check if any element of the following arrays returns the logical value True"
   ]
  },
  {
   "cell_type": "code",
   "execution_count": 5,
   "metadata": {},
   "outputs": [
    {
     "name": "stdout",
     "output_type": "stream",
     "text": [
      "A: False\n",
      "B: True\n",
      "C: True\n",
      "D: True\n"
     ]
    }
   ],
   "source": [
    "A = np.array([[0, 0, 0],\n",
    "              [0, 0, 0]])\n",
    "\n",
    "B = np.array([[0, 0, 0],\n",
    "              [0, 1, 0]])\n",
    "\n",
    "C = np.array([[False, False, False],\n",
    "              [True, False, False]])\n",
    "\n",
    "D = np.array([[0.1, 0.0]])\n",
    "\n",
    "# <---- Write your code here ---->\n",
    "\n",
    "for name, array in zip(list('ABCD'), [A, B, C, D]):\n",
    "    print(f'{name}: {np.any(array)}')\n"
   ]
  },
  {
   "cell_type": "markdown",
   "metadata": {},
   "source": [
    "---"
   ]
  },
  {
   "cell_type": "markdown",
   "metadata": {},
   "source": [
    "### 4. Check if any element of the following arrays returns the logical value True along the axis with index 0"
   ]
  },
  {
   "cell_type": "code",
   "execution_count": 6,
   "metadata": {},
   "outputs": [
    {
     "name": "stdout",
     "output_type": "stream",
     "text": [
      "A: [False False False]\n",
      "B: [False  True False]\n",
      "C: [ True False False]\n",
      "D: [ True False]\n"
     ]
    }
   ],
   "source": [
    "A = np.array([[0, 0, 0],\n",
    "              [0, 0, 0]])\n",
    "\n",
    "B = np.array([[0, 0, 0],\n",
    "              [0, 1, 0]])\n",
    "\n",
    "C = np.array([[False, False, False],\n",
    "              [True, False, False]])\n",
    "\n",
    "D = np.array([[0.1, 0.0]])\n",
    "\n",
    "# <---- Write your code here ---->\n",
    "\n",
    "for name, array in zip(list('ABCD'), [A, B, C, D]):\n",
    "    print(f'{name}: {np.any(array, axis=0)}')"
   ]
  },
  {
   "cell_type": "markdown",
   "metadata": {},
   "source": [
    "---"
   ]
  },
  {
   "cell_type": "markdown",
   "metadata": {},
   "source": [
    "### 5. Check if the following array has missing data (np.nan)"
   ]
  },
  {
   "cell_type": "code",
   "execution_count": 7,
   "metadata": {},
   "outputs": [
    {
     "name": "stdout",
     "output_type": "stream",
     "text": [
      "[[False False False  True]\n",
      " [False  True False False]]\n"
     ]
    }
   ],
   "source": [
    "A = np.array([[3, 2, 1, np.nan],\n",
    "              [5, np.nan, 1, 6]])\n",
    "\n",
    "# <---- Write your code here ---->\n",
    "\n",
    "print(np.isnan(A))\n"
   ]
  },
  {
   "cell_type": "markdown",
   "metadata": {},
   "source": [
    "## Congratulate, Day 1 Finished!"
   ]
  }
 ],
 "metadata": {
  "kernelspec": {
   "display_name": "Python 3",
   "language": "python",
   "name": "python3"
  },
  "language_info": {
   "codemirror_mode": {
    "name": "ipython",
    "version": 3
   },
   "file_extension": ".py",
   "mimetype": "text/x-python",
   "name": "python",
   "nbconvert_exporter": "python",
   "pygments_lexer": "ipython3",
   "version": "3.9.5"
  },
  "orig_nbformat": 4
 },
 "nbformat": 4,
 "nbformat_minor": 2
}
