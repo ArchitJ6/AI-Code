{
 "cells": [
  {
   "cell_type": "markdown",
   "metadata": {},
   "source": [
    "# Day 10 - Numpy"
   ]
  },
  {
   "cell_type": "code",
   "execution_count": 1,
   "metadata": {},
   "outputs": [],
   "source": [
    "import numpy as np"
   ]
  },
  {
   "cell_type": "markdown",
   "metadata": {},
   "source": [
    "### 1. The following array is given:\n",
    "```\n",
    "A = np.array([[0.4],\n",
    "              [0.9],\n",
    "              [0.5],\n",
    "              [0.6]])\n",
    "```\n",
    "Shape of this array is (4, 1). Remove the unnecessary dimension and extract (4, ) array and print result to the console.\n",
    "\n",
    "Tip: Use the np.squeeze() function."
   ]
  },
  {
   "cell_type": "code",
   "execution_count": 2,
   "metadata": {},
   "outputs": [
    {
     "name": "stdout",
     "output_type": "stream",
     "text": [
      "(4,)\n"
     ]
    }
   ],
   "source": [
    "A = np.array([[0.4], [0.9], [0.5], [0.6]])\n",
    "print(np.squeeze(A).shape)"
   ]
  },
  {
   "cell_type": "markdown",
   "metadata": {},
   "source": [
    "---"
   ]
  },
  {
   "cell_type": "markdown",
   "metadata": {},
   "source": [
    "### 2. The following array is given:\n",
    "```\n",
    "array([[ 0,  1,  2,  3],\n",
    "       [ 4,  5,  6,  7],\n",
    "       [ 8,  9, 10, 11]])\n",
    "```\n",
    "Using the slice operator, transform this array into the following:\n",
    "```\n",
    "array([[ 3,  2,  1,  0],\n",
    "       [ 7,  6,  5,  4],\n",
    "       [11, 10,  9,  8]])\n",
    "```\n",
    "In response, print transformed array to the console."
   ]
  },
  {
   "cell_type": "code",
   "execution_count": 3,
   "metadata": {},
   "outputs": [
    {
     "name": "stdout",
     "output_type": "stream",
     "text": [
      "[[ 3  2  1  0]\n",
      " [ 7  6  5  4]\n",
      " [11 10  9  8]]\n"
     ]
    }
   ],
   "source": [
    "B = np.array([[0, 1, 2, 3], [4, 5, 6, 7], [8, 9, 10, 11]])\n",
    "print(B[:, ::-1])"
   ]
  },
  {
   "cell_type": "markdown",
   "metadata": {},
   "source": [
    "---"
   ]
  },
  {
   "cell_type": "markdown",
   "metadata": {},
   "source": [
    "### 3. The following  array is given:\n",
    "```\n",
    "array([[ 0,  1,  2,  3],\n",
    "       [ 4,  5,  6,  7],\n",
    "       [ 8,  9, 10, 11]])\n",
    "```\n",
    "Using the slice operator, transform this array into the following:\n",
    "```\n",
    "array([[11, 10,  9,  8],\n",
    "       [ 7,  6,  5,  4],\n",
    "       [ 3,  2,  1,  0]])\n",
    "```\n",
    "In response, print transformed array to the console."
   ]
  },
  {
   "cell_type": "code",
   "execution_count": 4,
   "metadata": {},
   "outputs": [
    {
     "name": "stdout",
     "output_type": "stream",
     "text": [
      "[[11 10  9  8]\n",
      " [ 7  6  5  4]\n",
      " [ 3  2  1  0]]\n"
     ]
    }
   ],
   "source": [
    "A = np.arange(12, dtype='int').reshape(-1, 4)\n",
    "print(A[::-1, ::-1])"
   ]
  },
  {
   "cell_type": "markdown",
   "metadata": {},
   "source": [
    "---"
   ]
  },
  {
   "cell_type": "markdown",
   "metadata": {},
   "source": [
    "### 4. Random seed is set to 42. The following array is given:\n",
    "```\n",
    "image = np.random.randint(low=0, high=256, size=(10, 10, 3), dtype=np.uint8)\n",
    "```\n",
    "Extract the first channel (index 0) of this image array and print it to the console."
   ]
  },
  {
   "cell_type": "code",
   "execution_count": 5,
   "metadata": {},
   "outputs": [
    {
     "name": "stdout",
     "output_type": "stream",
     "text": [
      "[[102  95 234   3  14  46  99 212 188 153]\n",
      " [203 214 121 114 239 244  74  14 145 184]\n",
      " [116  85 226 235 151 181 160   6  52  14]\n",
      " [ 76 233 235 213  68 219 129   0 140 147]\n",
      " [ 20  46  19 209  57 156  86  24 235 110]\n",
      " [231 254 218 134 162  73 169  35  11 201]\n",
      " [ 10 207  93 150   0 189  23   1 139  50]\n",
      " [ 51 233 222 243 251 168 197 130  11  37]\n",
      " [ 15 134 174 167 235 166  16 101  41  88]\n",
      " [241  51 168 241 206 170  43  89   4   1]]\n"
     ]
    }
   ],
   "source": [
    "np.random.seed(42)\n",
    "image = np.random.randint(low=0, high=255, size=(10, 10, 3), dtype=np.uint8)\n",
    "\n",
    "# Start your code here\n",
    "print(image[:, :, 0])"
   ]
  },
  {
   "cell_type": "markdown",
   "metadata": {},
   "source": [
    "---"
   ]
  },
  {
   "cell_type": "markdown",
   "metadata": {},
   "source": [
    "### 5. The following array is given:\n",
    "```\n",
    "image = np.random.randint(low=0, high=256, size=(10, 10, 3), dtype=np.uint8)\n",
    "```\n",
    "Extract any array of shape (5, 5, 3) from this array and assign to the result variable."
   ]
  },
  {
   "cell_type": "code",
   "execution_count": 6,
   "metadata": {},
   "outputs": [
    {
     "name": "stdout",
     "output_type": "stream",
     "text": [
      "[[[102 220 225]\n",
      "  [ 95 179  61]\n",
      "  [234 203  92]\n",
      "  [  3  98 243]\n",
      "  [ 14 149 245]]\n",
      "\n",
      " [[203 152 102]\n",
      "  [214 240  39]\n",
      "  [121  24  34]\n",
      "  [114 210  65]\n",
      "  [239  39 214]]\n",
      "\n",
      " [[116 237 109]\n",
      "  [ 85  99 172]\n",
      "  [226 153 103]\n",
      "  [235 146  36]\n",
      "  [151  62  68]]\n",
      "\n",
      " [[ 76 248  87]\n",
      "  [233 212 184]\n",
      "  [235 245  26]\n",
      "  [213 157 253]\n",
      "  [ 68 240  37]]\n",
      "\n",
      " [[ 20 153 243]\n",
      "  [ 46 160  68]\n",
      "  [ 19 158 203]\n",
      "  [209 226  77]\n",
      "  [ 57  77 149]]]\n"
     ]
    }
   ],
   "source": [
    "result = image[:5, :5, :]\n",
    "print(result)"
   ]
  },
  {
   "cell_type": "markdown",
   "metadata": {},
   "source": [
    "## Congratulate, Day 10 Finished!"
   ]
  }
 ],
 "metadata": {
  "kernelspec": {
   "display_name": "Python 3",
   "language": "python",
   "name": "python3"
  },
  "language_info": {
   "codemirror_mode": {
    "name": "ipython",
    "version": 3
   },
   "file_extension": ".py",
   "mimetype": "text/x-python",
   "name": "python",
   "nbconvert_exporter": "python",
   "pygments_lexer": "ipython3",
   "version": "3.9.5"
  }
 },
 "nbformat": 4,
 "nbformat_minor": 2
}
