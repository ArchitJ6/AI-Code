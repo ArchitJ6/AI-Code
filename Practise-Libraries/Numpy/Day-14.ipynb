{
 "cells": [
  {
   "cell_type": "markdown",
   "metadata": {},
   "source": [
    "# Day 14 - Numpy"
   ]
  },
  {
   "cell_type": "code",
   "execution_count": 1,
   "metadata": {},
   "outputs": [],
   "source": [
    "import numpy as np"
   ]
  },
  {
   "cell_type": "markdown",
   "metadata": {},
   "source": [
    "### 1. The following array (square matrix) is given:\n",
    "```\n",
    "A = np.array([[-2, 0, 4],\n",
    "              [5, 2, -1],\n",
    "              [-4, 2, 4]])\n",
    "```\n",
    "Calculate the determinant of this matrix and print it to the console.\n",
    "\n",
    "Tip: Use the np.linalg.det() function."
   ]
  },
  {
   "cell_type": "code",
   "execution_count": 2,
   "metadata": {},
   "outputs": [
    {
     "name": "stdout",
     "output_type": "stream",
     "text": [
      "51.999999999999986\n"
     ]
    }
   ],
   "source": [
    "A = np.array([[-2, 0, 4], [5, 2, -1], [-4, 2, 4]])\n",
    "\n",
    "# Start your code here\n",
    "print(np.linalg.det(A))"
   ]
  },
  {
   "cell_type": "markdown",
   "metadata": {},
   "source": [
    "---"
   ]
  },
  {
   "cell_type": "markdown",
   "metadata": {},
   "source": [
    "### 2. The following array (square matrix) is given:\n",
    "```\n",
    "A = np.array([[5, 8, 16],\n",
    "              [4, 1, 8],\n",
    "              [-4, 4, -11]])\n",
    "```\n",
    "Calculate eigenvalues and their corresponding eigenvectors of this matrix and print to the console as shown below.\n",
    "\n",
    "Tip: Use the np.linalg.eig() function."
   ]
  },
  {
   "cell_type": "code",
   "execution_count": 4,
   "metadata": {},
   "outputs": [
    {
     "name": "stdout",
     "output_type": "stream",
     "text": [
      "[-9.24621125 -3.          7.24621125]\n",
      "[[-6.26164716e-01 -8.94427191e-01  8.90159406e-01]\n",
      " [-3.13082358e-01  2.82399734e-16  4.45079703e-01]\n",
      " [ 7.14070855e-01  4.47213595e-01 -9.75719719e-02]]\n"
     ]
    }
   ],
   "source": [
    "A = np.array([[5, 8, 16], [4, 1, 8], [-4, 4, -11]])\n",
    "\n",
    "# Start your code here\n",
    "eigenvalues, eigenvectors = np.linalg.eig(A)\n",
    "print(eigenvalues)\n",
    "print(eigenvectors)"
   ]
  },
  {
   "cell_type": "markdown",
   "metadata": {},
   "source": [
    "---"
   ]
  },
  {
   "cell_type": "markdown",
   "metadata": {},
   "source": [
    "### 3. The following array (square matrix) is given:\n",
    "```\n",
    "A = np.array([[5, 8, 16],\n",
    "              [4, 1, 8],\n",
    "              [-4, 4, -11]])\n",
    "```\n",
    "Find the inverse matrix to this matrix and print it to the console.\n",
    "\n",
    "Tip: Use the np.linalg.inv() function."
   ]
  },
  {
   "cell_type": "code",
   "execution_count": 5,
   "metadata": {},
   "outputs": [
    {
     "name": "stdout",
     "output_type": "stream",
     "text": [
      "[[-0.21393035  0.75621891  0.23880597]\n",
      " [ 0.05970149  0.04477612  0.11940299]\n",
      " [ 0.09950249 -0.25870647 -0.13432836]]\n"
     ]
    }
   ],
   "source": [
    "print(np.linalg.inv(A))"
   ]
  },
  {
   "cell_type": "markdown",
   "metadata": {},
   "source": [
    "---"
   ]
  },
  {
   "cell_type": "markdown",
   "metadata": {},
   "source": [
    "### 4. The following array (square matrix) is given:\n",
    "```\n",
    "A = np.array([[5, 8, 16],\n",
    "              [4, 1, 8],\n",
    "              [-4, 4, -11]])\n",
    "```\n",
    "Find the trace of this matrix (sum of elements on the main diagonal) and print result to the console.\n",
    "\n",
    "Tip: Use the np.trace() function."
   ]
  },
  {
   "cell_type": "code",
   "execution_count": 6,
   "metadata": {},
   "outputs": [
    {
     "name": "stdout",
     "output_type": "stream",
     "text": [
      "-5\n"
     ]
    }
   ],
   "source": [
    "print(np.trace(A))"
   ]
  },
  {
   "cell_type": "markdown",
   "metadata": {},
   "source": [
    "---"
   ]
  },
  {
   "cell_type": "markdown",
   "metadata": {},
   "source": [
    "### 5. The following arrays are given:\n",
    "```\n",
    "A = np.array([[2, 0],\n",
    "              [4, 2],\n",
    "              [5, 3],\n",
    "              [4, 2]])\n",
    "B = np.array([[4, 0, 2, 1, 1, 0, 2, 9]])\n",
    "```\n",
    "Shapes of these arrays:\n",
    "```\n",
    "A - 4x2\n",
    "\n",
    "B - 1x8\n",
    "```\n",
    "Transform B array to perform the matrix multiplication A x B. Then perform this multiplication and print result to the console."
   ]
  },
  {
   "cell_type": "code",
   "execution_count": 9,
   "metadata": {},
   "outputs": [
    {
     "name": "stdout",
     "output_type": "stream",
     "text": [
      "[[ 8  0  4  2]\n",
      " [18  0 12 22]\n",
      " [23  0 16 32]\n",
      " [18  0 12 22]]\n"
     ]
    }
   ],
   "source": [
    "A = np.array([[2, 0], [4, 2], [5, 3], [4, 2]])\n",
    "B = np.array([[4, 0, 2, 1, 1, 0, 2, 9]])\n",
    "\n",
    "# Start your code here\n",
    "B = B.reshape(A.shape[1], A.shape[0])\n",
    "print(A.dot(B))"
   ]
  },
  {
   "cell_type": "markdown",
   "metadata": {},
   "source": [
    "## Congratulate, Day 14 Finished!"
   ]
  }
 ],
 "metadata": {
  "kernelspec": {
   "display_name": "Python 3",
   "language": "python",
   "name": "python3"
  },
  "language_info": {
   "codemirror_mode": {
    "name": "ipython",
    "version": 3
   },
   "file_extension": ".py",
   "mimetype": "text/x-python",
   "name": "python",
   "nbconvert_exporter": "python",
   "pygments_lexer": "ipython3",
   "version": "3.9.5"
  }
 },
 "nbformat": 4,
 "nbformat_minor": 2
}
