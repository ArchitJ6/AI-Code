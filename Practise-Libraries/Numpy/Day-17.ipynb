{
 "cells": [
  {
   "cell_type": "markdown",
   "id": "91ae390a-3579-44bd-b30c-bc8b9619e1c7",
   "metadata": {},
   "source": [
    "# Day 17 - Numpy"
   ]
  },
  {
   "cell_type": "code",
   "execution_count": 1,
   "id": "f54ebda0-800a-4baf-8995-b6d78b741f86",
   "metadata": {},
   "outputs": [],
   "source": [
    "import numpy as np"
   ]
  },
  {
   "cell_type": "markdown",
   "id": "25abb115-e600-48fe-8502-8ffb8f047633",
   "metadata": {},
   "source": [
    "### 1. Using Numpy generate all dates for mondays from January and February 2020 as an array and print result to the console."
   ]
  },
  {
   "cell_type": "code",
   "execution_count": 2,
   "id": "c47b02d6-0fec-4a3e-9e2f-3845c7006594",
   "metadata": {},
   "outputs": [
    {
     "name": "stdout",
     "output_type": "stream",
     "text": [
      "['2020-01-06' '2020-01-13' '2020-01-20' '2020-01-27' '2020-02-03'\n",
      " '2020-02-10' '2020-02-17' '2020-02-24']\n"
     ]
    }
   ],
   "source": [
    "print(np.arange('2020-01-06', '2020-03', dtype='datetime64[D]')[::7])"
   ]
  },
  {
   "cell_type": "markdown",
   "id": "550ae7d2-39db-43d0-92a3-e4a3864209f9",
   "metadata": {},
   "source": [
    "---"
   ]
  },
  {
   "cell_type": "markdown",
   "id": "0f9fdb73-76d0-4a6b-a11e-ffd977c605ee",
   "metadata": {},
   "source": [
    "### 2. The following arrays are given:\n",
    "```\n",
    "A = np.array(['001', '002', '003'], dtype=np.str)\n",
    "B = np.array(['XC', 'YC', 'ZC'], dtype=np.str)\n",
    "```\n",
    "Merge them together as shown below and print result to the console.\n",
    "\n",
    "Tip: Use the np.char.add() function."
   ]
  },
  {
   "cell_type": "code",
   "execution_count": 3,
   "id": "b5462fad-a542-4a45-8960-44b2966c5291",
   "metadata": {},
   "outputs": [
    {
     "name": "stdout",
     "output_type": "stream",
     "text": [
      "['001XC' '002YC' '003ZC']\n"
     ]
    }
   ],
   "source": [
    "A = np.array(['001', '002', '003'], dtype=str)\n",
    "B = np.array(['XC', 'YC', 'ZC'], dtype=str)\n",
    "\n",
    "# Start your code here\n",
    "print(np.char.add(A, B))"
   ]
  },
  {
   "cell_type": "markdown",
   "id": "d82872ff-b331-4d66-a613-76c2804fec66",
   "metadata": {},
   "source": [
    "---"
   ]
  },
  {
   "cell_type": "markdown",
   "id": "b3a70264-f5aa-4686-a55e-55f499c39f0a",
   "metadata": {},
   "source": [
    "### 3. The following array is given:\n",
    "```\n",
    "A = np.array(['1', '2', '3'], dtype=np.str)\n",
    "```\n",
    "Add '000' (3 zeros) at the beginning of each element of this array as shown below and print result to the console.\n",
    "\n",
    "Tip: Use the np.char.add() or np.char.rjust() or np.char.zfill() function."
   ]
  },
  {
   "cell_type": "code",
   "execution_count": 4,
   "id": "12acf48c-e1e1-4812-93b6-f25552f222df",
   "metadata": {},
   "outputs": [
    {
     "name": "stdout",
     "output_type": "stream",
     "text": [
      "['0001' '0002' '0003']\n",
      "['0001' '0002' '0003']\n",
      "['0001' '0002' '0003']\n"
     ]
    }
   ],
   "source": [
    "A = np.array(['1', '2', '3'], dtype=str)\n",
    "\n",
    "# Start your code here\n",
    "r1 = np.char.add('000', A)\n",
    "r2 = np.char.rjust(A, 4, fillchar='0')\n",
    "r3 = np.char.zfill(A, 4)\n",
    "\n",
    "print(r1)\n",
    "print(r2)\n",
    "print(r3)"
   ]
  },
  {
   "cell_type": "markdown",
   "id": "df827a2b-1f30-4576-83f8-1a9798c485b7",
   "metadata": {},
   "source": [
    "---"
   ]
  },
  {
   "cell_type": "markdown",
   "id": "15756fd7-d1e8-4a97-866e-31ecde0bfea5",
   "metadata": {},
   "source": [
    "### 4. The following array is given:\n",
    "```\n",
    "A = np.array([['PLW CDR 11B TEN', 'AMC LPP'],\n",
    "              ['CDR PKO KGH', 'CCC QMK']], dtype=np.str)\n",
    "```\n",
    "Split each element of this array by space character as shown below.\n",
    "\n",
    "Tip: Use the np.char.split() function."
   ]
  },
  {
   "cell_type": "code",
   "execution_count": 5,
   "id": "fe1ea077-fa09-48e8-b969-7e6ff5b37df8",
   "metadata": {},
   "outputs": [
    {
     "name": "stdout",
     "output_type": "stream",
     "text": [
      "[[list(['PLW', 'CDR', '11B', 'TEN']) list(['AMC', 'LPP'])]\n",
      " [list(['CDR', 'PKO', 'KGH']) list(['CCC', 'QMK'])]]\n"
     ]
    }
   ],
   "source": [
    "A = np.array([['PLW CDR 11B TEN', 'AMC LPP'],\n",
    "              ['CDR PKO KGH', 'CCC QMK']], dtype=str)\n",
    "print(np.char.split(A, ' '))"
   ]
  },
  {
   "cell_type": "markdown",
   "id": "45305d84-caaf-4727-b4c8-330c9a169ebf",
   "metadata": {},
   "source": [
    "---"
   ]
  },
  {
   "cell_type": "markdown",
   "id": "14cfc142-c95b-4245-8f99-f0529cc38aac",
   "metadata": {},
   "source": [
    "### 5. The following array is given:\n",
    "```\n",
    "A = np.array([['#summer#time#mood'],\n",
    "              ['#sport#time']])\n",
    "```\n",
    "Replace all # characters with spaces and then strip all unnecessary white characters around the text as shown below. In response, print this array to the console.\n",
    "\n",
    "Tip: Use np.char.replace() and np.char.strip() function."
   ]
  },
  {
   "cell_type": "code",
   "execution_count": 6,
   "id": "9b89c091-2cbe-44b1-baeb-259c6a0d129e",
   "metadata": {},
   "outputs": [
    {
     "name": "stdout",
     "output_type": "stream",
     "text": [
      "[['summer time mood']\n",
      " ['sport time']]\n"
     ]
    }
   ],
   "source": [
    "A = np.array([['#summer#time#mood'],\n",
    "              ['#sport#time']])\n",
    "r1 = np.char.replace(A, '#', ' ')\n",
    "r1 = np.char.strip(r1)\n",
    "print(r1)"
   ]
  },
  {
   "cell_type": "markdown",
   "id": "e6d1abe7-86a7-4941-a0a2-8100c2059ef0",
   "metadata": {},
   "source": [
    "## Congratulate, Day 17 Finished!"
   ]
  }
 ],
 "metadata": {
  "kernelspec": {
   "display_name": "Python 3 (ipykernel)",
   "language": "python",
   "name": "python3"
  },
  "language_info": {
   "codemirror_mode": {
    "name": "ipython",
    "version": 3
   },
   "file_extension": ".py",
   "mimetype": "text/x-python",
   "name": "python",
   "nbconvert_exporter": "python",
   "pygments_lexer": "ipython3",
   "version": "3.9.5"
  }
 },
 "nbformat": 4,
 "nbformat_minor": 5
}
