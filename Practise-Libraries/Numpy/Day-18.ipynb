{
 "cells": [
  {
   "cell_type": "markdown",
   "id": "43528d43-1de4-4740-a257-33262bfa7c12",
   "metadata": {},
   "source": [
    "# Day 18 - Numpy"
   ]
  },
  {
   "cell_type": "code",
   "execution_count": 1,
   "id": "edaefe91-c9e9-4ec8-aa07-d326404b0b1a",
   "metadata": {},
   "outputs": [],
   "source": [
    "import numpy as np"
   ]
  },
  {
   "cell_type": "markdown",
   "id": "dca38462-a99b-410c-aaa3-ffe43dfb158e",
   "metadata": {},
   "source": [
    "### 1. The following array is given:\n",
    "```\n",
    "A = np.array([['#summer#time#mood', '#vibe'],\n",
    "              ['#sport#time', '#good#time'],\n",
    "              ['#event#summer', '#fast#move']])\n",
    "```\n",
    "Count the number of occurrences of the word 'time' in each element of this array.\n",
    "\n",
    "Tip: Use the np.char.count() function."
   ]
  },
  {
   "cell_type": "code",
   "execution_count": 2,
   "id": "9c14b1f8-8da2-4711-a1bb-0fb1888c2bc3",
   "metadata": {},
   "outputs": [
    {
     "name": "stdout",
     "output_type": "stream",
     "text": [
      "[[1 0]\n",
      " [1 1]\n",
      " [0 0]]\n"
     ]
    }
   ],
   "source": [
    "A = np.array([['#summer#time#mood', '#vibe'],\n",
    "              ['#sport#time', '#good#time'],\n",
    "              ['#event#summer', '#fast#move']])\n",
    "# Start your code here\n",
    "print(np.char.count(A, 'time'))"
   ]
  },
  {
   "cell_type": "markdown",
   "id": "591f401e-917f-4039-80c8-dcedb0227190",
   "metadata": {},
   "source": [
    "---"
   ]
  },
  {
   "cell_type": "markdown",
   "id": "2eb9d600-ee67-4d7c-b106-bf848dfc9492",
   "metadata": {},
   "source": [
    "### 2. Columns mean:\n",
    "```\n",
    "Instrument | ISIN code | Package | Package (PLN) | Share in portfolio (%) | Share in trading shares and PDAs per session (%) | Average spread per session\n",
    "```\n",
    "Split text into lines. Then split each line by the tab character `\\t` and create an array (without headers) containing the following data as shown below. Assign this array to the result variable and print it to the console."
   ]
  },
  {
   "cell_type": "code",
   "execution_count": 3,
   "id": "1444062c-cffa-49a1-9c77-fee37b798323",
   "metadata": {},
   "outputs": [
    {
     "name": "stdout",
     "output_type": "stream",
     "text": [
      "[['ALIOR' 'PLALIOR00045' '88 860 000' '1 386 216 000' '0,891' '2,16' '14']\n",
      " ['CCC' 'PLCCC0000016' '27 918 000' '1 292 603 400' '0,831' '5,28' '42']\n",
      " ['CDPROJEKT' 'PLOPTTC00011' '67 348 000' '22 864 646 000' '14,702'\n",
      "  '7,39' '7']\n",
      " ['CYFRPLSAT' 'PLCFRPT00013' '275 301 000' '6 854 994 900' '4,408' '1,17'\n",
      "  '14']\n",
      " ['DINOPL' 'PLDINPL00011' '47 937 000' '8 916 282 000' '5,733' '9,13'\n",
      "  '12']\n",
      " ['JSW' 'PLJSW0000015' '52 636 000' '716 902 320' '0,461' '1,51' '24']\n",
      " ['KGHM' 'PLKGHM000017' '136 410 000' '9 881 540 400' '6,354' '4,78' '8']\n",
      " ['LOTOS' 'PLLOTOS00025' '86 543 000' '5 609 717 260' '3,607' '2,91' '16']\n",
      " ['LPP' 'PLLPP0000011' '1 306 000' '7 444 200 000' '4,787' '1,43' '19']\n",
      " ['MBANK' 'PLBRE0000012' '12 997 000' '2 830 746 600' '1,820' '0,42' '24']\n",
      " ['ORANGEPL' 'PLTLKPL00017' '647 357 000' '4 285 503 340' '2,756' '1,16'\n",
      "  '13']\n",
      " ['PEKAO' 'PLPEKAO00016' '176 379 000' '9 619 710 660' '6,185' '5,27' '9']\n",
      " ['PGE' 'PLPGER000010' '796 776 000' '3 561 588 720' '2,290' '2,88' '18']\n",
      " ['PGNIG' 'PLPGNIG00014' '1 624 608 000' '6 072 784 704' '3,905' '1,56'\n",
      "  '12']\n",
      " ['PKNORLEN' 'PLPKN0000018' '289 049 000' '17 701 360 760' '11,382'\n",
      "  '12,44' '8']\n",
      " ['PKOBP' 'PLPKO0000016' '857 593 000' '18 807 014 490' '12,093' '10,49'\n",
      "  '9']\n",
      " ['PLAY' 'LU1642887738' '114 151 000' '3 696 209 380' '2,377' '1,47' '16']\n",
      " ['PZU' 'PLPZU0000011' '568 305 000' '17 515 160 100' '11,262' '6,64' '6']\n",
      " ['SANPL' 'PLBZ00000044' '33 207 000' '5 213 499 000' '3,352' '1,91' '18']\n",
      " ['TAURONPE' 'PLTAURN00011' '1 043 590 000' '1 252 308 000' '0,805'\n",
      "  '1,21' '33']]\n"
     ]
    }
   ],
   "source": [
    "text = \"\"\"ALIOR\tPLALIOR00045\t88 860 000\t1 386 216 000\t0,891\t2,16\t14\n",
    "CCC\tPLCCC0000016\t27 918 000\t1 292 603 400\t0,831\t5,28\t42\n",
    "CDPROJEKT\tPLOPTTC00011\t67 348 000\t22 864 646 000\t14,702\t7,39\t7\n",
    "CYFRPLSAT\tPLCFRPT00013\t275 301 000\t6 854 994 900\t4,408\t1,17\t14\n",
    "DINOPL\tPLDINPL00011\t47 937 000\t8 916 282 000\t5,733\t9,13\t12\n",
    "JSW\tPLJSW0000015\t52 636 000\t716 902 320\t0,461\t1,51\t24\n",
    "KGHM\tPLKGHM000017\t136 410 000\t9 881 540 400\t6,354\t4,78\t8\n",
    "LOTOS\tPLLOTOS00025\t86 543 000\t5 609 717 260\t3,607\t2,91\t16\n",
    "LPP\tPLLPP0000011\t1 306 000\t7 444 200 000\t4,787\t1,43\t19\n",
    "MBANK\tPLBRE0000012\t12 997 000\t2 830 746 600\t1,820\t0,42\t24\n",
    "ORANGEPL\tPLTLKPL00017\t647 357 000\t4 285 503 340\t2,756\t1,16\t13\n",
    "PEKAO\tPLPEKAO00016\t176 379 000\t9 619 710 660\t6,185\t5,27\t9\n",
    "PGE\tPLPGER000010\t796 776 000\t3 561 588 720\t2,290\t2,88\t18\n",
    "PGNIG\tPLPGNIG00014\t1 624 608 000\t6 072 784 704\t3,905\t1,56\t12\n",
    "PKNORLEN\tPLPKN0000018\t289 049 000\t17 701 360 760\t11,382\t12,44\t8\n",
    "PKOBP\tPLPKO0000016\t857 593 000\t18 807 014 490\t12,093\t10,49\t9\n",
    "PLAY\tLU1642887738\t114 151 000\t3 696 209 380\t2,377\t1,47\t16\n",
    "PZU\tPLPZU0000011\t568 305 000\t17 515 160 100\t11,262\t6,64\t6\n",
    "SANPL\tPLBZ00000044\t33 207 000\t5 213 499 000\t3,352\t1,91\t18\n",
    "TAURONPE\tPLTAURN00011\t1 043 590 000\t1 252 308 000\t0,805\t1,21\t33\"\"\"\n",
    "\n",
    "# Start your code here\n",
    "lines = text.splitlines()\n",
    "lines = [line.split('\\t') for line in lines]\n",
    "result = np.array(lines, dtype=str)\n",
    "print(result)"
   ]
  },
  {
   "cell_type": "markdown",
   "id": "1ea616a7-4d5f-4424-bcc5-8dec366bafde",
   "metadata": {},
   "source": [
    "---"
   ]
  },
  {
   "cell_type": "markdown",
   "id": "e44c93cd-9bd5-48b9-86e7-6cfed11f3582",
   "metadata": {},
   "source": [
    "### 3. Remove all spaces in the text and replace all commas with periods. In response, print this array to the console."
   ]
  },
  {
   "cell_type": "code",
   "execution_count": 4,
   "id": "46906775-5345-46e8-a43c-2267c8625f55",
   "metadata": {},
   "outputs": [
    {
     "name": "stdout",
     "output_type": "stream",
     "text": [
      "[['ALIOR' 'PLALIOR00045' '88860000' '1386216000' '0.891' '2.16' '14']\n",
      " ['CCC' 'PLCCC0000016' '27918000' '1292603400' '0.831' '5.28' '42']\n",
      " ['CDPROJEKT' 'PLOPTTC00011' '67348000' '22864646000' '14.702' '7.39' '7']\n",
      " ['CYFRPLSAT' 'PLCFRPT00013' '275301000' '6854994900' '4.408' '1.17' '14']\n",
      " ['DINOPL' 'PLDINPL00011' '47937000' '8916282000' '5.733' '9.13' '12']\n",
      " ['JSW' 'PLJSW0000015' '52636000' '716902320' '0.461' '1.51' '24']\n",
      " ['KGHM' 'PLKGHM000017' '136410000' '9881540400' '6.354' '4.78' '8']\n",
      " ['LOTOS' 'PLLOTOS00025' '86543000' '5609717260' '3.607' '2.91' '16']\n",
      " ['LPP' 'PLLPP0000011' '1306000' '7444200000' '4.787' '1.43' '19']\n",
      " ['MBANK' 'PLBRE0000012' '12997000' '2830746600' '1.820' '0.42' '24']\n",
      " ['ORANGEPL' 'PLTLKPL00017' '647357000' '4285503340' '2.756' '1.16' '13']\n",
      " ['PEKAO' 'PLPEKAO00016' '176379000' '9619710660' '6.185' '5.27' '9']\n",
      " ['PGE' 'PLPGER000010' '796776000' '3561588720' '2.290' '2.88' '18']\n",
      " ['PGNIG' 'PLPGNIG00014' '1624608000' '6072784704' '3.905' '1.56' '12']\n",
      " ['PKNORLEN' 'PLPKN0000018' '289049000' '17701360760' '11.382' '12.44' '8']\n",
      " ['PKOBP' 'PLPKO0000016' '857593000' '18807014490' '12.093' '10.49' '9']\n",
      " ['PLAY' 'LU1642887738' '114151000' '3696209380' '2.377' '1.47' '16']\n",
      " ['PZU' 'PLPZU0000011' '568305000' '17515160100' '11.262' '6.64' '6']\n",
      " ['SANPL' 'PLBZ00000044' '33207000' '5213499000' '3.352' '1.91' '18']\n",
      " ['TAURONPE' 'PLTAURN00011' '1043590000' '1252308000' '0.805' '1.21' '33']]\n"
     ]
    }
   ],
   "source": [
    "np.set_printoptions(linewidth=150)\n",
    "result = np.array([['ALIOR', 'PLALIOR00045', '88 860 000', '1 386 216 000', '0,891', '2,16', '14'],\n",
    "       ['CCC', 'PLCCC0000016', '27 918 000', '1 292 603 400', '0,831', '5,28', '42'],\n",
    "       ['CDPROJEKT', 'PLOPTTC00011', '67 348 000', '22 864 646 000', '14,702', '7,39', '7'],\n",
    "       ['CYFRPLSAT', 'PLCFRPT00013', '275 301 000', '6 854 994 900', '4,408', '1,17', '14'],\n",
    "       ['DINOPL', 'PLDINPL00011', '47 937 000', '8 916 282 000', '5,733', '9,13', '12'],\n",
    "       ['JSW', 'PLJSW0000015', '52 636 000', '716 902 320', '0,461', '1,51', '24'],\n",
    "       ['KGHM', 'PLKGHM000017', '136 410 000', '9 881 540 400', '6,354', '4,78', '8'],\n",
    "       ['LOTOS', 'PLLOTOS00025', '86 543 000', '5 609 717 260', '3,607', '2,91', '16'],\n",
    "       ['LPP', 'PLLPP0000011', '1 306 000', '7 444 200 000', '4,787', '1,43', '19'],\n",
    "       ['MBANK', 'PLBRE0000012', '12 997 000', '2 830 746 600', '1,820', '0,42', '24'],\n",
    "       ['ORANGEPL', 'PLTLKPL00017', '647 357 000', '4 285 503 340', '2,756', '1,16', '13'],\n",
    "       ['PEKAO', 'PLPEKAO00016', '176 379 000', '9 619 710 660', '6,185', '5,27', '9'],\n",
    "       ['PGE', 'PLPGER000010', '796 776 000', '3 561 588 720', '2,290', '2,88', '18'],\n",
    "       ['PGNIG', 'PLPGNIG00014', '1 624 608 000', '6 072 784 704', '3,905', '1,56', '12'],\n",
    "       ['PKNORLEN', 'PLPKN0000018', '289 049 000', '17 701 360 760', '11,382', '12,44', '8'],\n",
    "       ['PKOBP', 'PLPKO0000016', '857 593 000', '18 807 014 490', '12,093', '10,49', '9'],\n",
    "       ['PLAY', 'LU1642887738', '114 151 000', '3 696 209 380', '2,377', '1,47', '16'],\n",
    "       ['PZU', 'PLPZU0000011', '568 305 000', '17 515 160 100', '11,262', '6,64', '6'],\n",
    "       ['SANPL', 'PLBZ00000044', '33 207 000', '5 213 499 000', '3,352', '1,91', '18'],\n",
    "       ['TAURONPE', 'PLTAURN00011', '1 043 590 000', '1 252 308 000', '0,805', '1,21', '33']], dtype='<U14')\n",
    "\n",
    "# Start your code here\n",
    "result = np.char.replace(result, ' ', '')\n",
    "result = np.char.replace(result, ',', '.')\n",
    "print(result)"
   ]
  },
  {
   "cell_type": "markdown",
   "id": "cd908979-cd49-4c6d-badb-a30a5f6bcb0b",
   "metadata": {},
   "source": [
    "---"
   ]
  },
  {
   "cell_type": "markdown",
   "id": "1c9ae31c-549c-4bca-8e32-12ee24001519",
   "metadata": {},
   "source": [
    "### 4. Extract all rows with the company name starting with the letter 'P' and assign to the stocks_startswith_P variable. In response, print stocks_startswith_P variable to the console."
   ]
  },
  {
   "cell_type": "code",
   "execution_count": 5,
   "id": "f75978ae-c01a-4138-abe6-e22ae87cb120",
   "metadata": {},
   "outputs": [
    {
     "data": {
      "text/plain": [
       "array([['PEKAO', 'PLPEKAO00016', '176379000', '9619710660', '6.185', '5.27', '9'],\n",
       "       ['PGE', 'PLPGER000010', '796776000', '3561588720', '2.290', '2.88', '18'],\n",
       "       ['PGNIG', 'PLPGNIG00014', '1624608000', '6072784704', '3.905', '1.56', '12'],\n",
       "       ['PKNORLEN', 'PLPKN0000018', '289049000', '17701360760', '11.382', '12.44', '8'],\n",
       "       ['PKOBP', 'PLPKO0000016', '857593000', '18807014490', '12.093', '10.49', '9'],\n",
       "       ['PLAY', 'LU1642887738', '114151000', '3696209380', '2.377', '1.47', '16'],\n",
       "       ['PZU', 'PLPZU0000011', '568305000', '17515160100', '11.262', '6.64', '6']], dtype='<U12')"
      ]
     },
     "execution_count": 5,
     "metadata": {},
     "output_type": "execute_result"
    }
   ],
   "source": [
    "np.set_printoptions(linewidth=150)\n",
    "result = np.array([['ALIOR', 'PLALIOR00045', '88860000', '1386216000', '0.891', '2.16', '14'],\n",
    "       ['CCC', 'PLCCC0000016', '27918000', '1292603400', '0.831', '5.28', '42'],\n",
    "       ['CDPROJEKT', 'PLOPTTC00011', '67348000', '22864646000', '14.702', '7.39', '7'],\n",
    "       ['CYFRPLSAT', 'PLCFRPT00013', '275301000', '6854994900', '4.408', '1.17', '14'],\n",
    "       ['DINOPL', 'PLDINPL00011', '47937000', '8916282000', '5.733', '9.13', '12'],\n",
    "       ['JSW', 'PLJSW0000015', '52636000', '716902320', '0.461', '1.51', '24'],\n",
    "       ['KGHM', 'PLKGHM000017', '136410000', '9881540400', '6.354', '4.78', '8'],\n",
    "       ['LOTOS', 'PLLOTOS00025', '86543000', '5609717260', '3.607', '2.91', '16'],\n",
    "       ['LPP', 'PLLPP0000011', '1306000', '7444200000', '4.787', '1.43', '19'],\n",
    "       ['MBANK', 'PLBRE0000012', '12997000', '2830746600', '1.820', '0.42', '24'],\n",
    "       ['ORANGEPL', 'PLTLKPL00017', '647357000', '4285503340', '2.756', '1.16', '13'],\n",
    "       ['PEKAO', 'PLPEKAO00016', '176379000', '9619710660', '6.185', '5.27', '9'],\n",
    "       ['PGE', 'PLPGER000010', '796776000', '3561588720', '2.290', '2.88', '18'],\n",
    "       ['PGNIG', 'PLPGNIG00014', '1624608000', '6072784704', '3.905', '1.56', '12'],\n",
    "       ['PKNORLEN', 'PLPKN0000018', '289049000', '17701360760', '11.382', '12.44', '8'],\n",
    "       ['PKOBP', 'PLPKO0000016', '857593000', '18807014490', '12.093', '10.49', '9'],\n",
    "       ['PLAY', 'LU1642887738', '114151000', '3696209380', '2.377', '1.47', '16'],\n",
    "       ['PZU', 'PLPZU0000011', '568305000', '17515160100', '11.262', '6.64', '6'],\n",
    "       ['SANPL', 'PLBZ00000044', '33207000', '5213499000', '3.352', '1.91', '18'],\n",
    "       ['TAURONPE', 'PLTAURN00011', '1043590000', '1252308000', '0.805', '1.21', '33']], dtype='<U12')\n",
    "\n",
    "# Start your code here\n",
    "stocks_startswith_P = result[np.char.startswith(result[:, 0], 'P')]\n",
    "stocks_startswith_P"
   ]
  },
  {
   "cell_type": "markdown",
   "id": "24fe9da5-9d31-4608-9147-af0e29720e87",
   "metadata": {},
   "source": [
    "---"
   ]
  },
  {
   "cell_type": "markdown",
   "id": "2e4ff439-ab46-46a7-b229-025c5fa8adcd",
   "metadata": {},
   "source": [
    "### 5. Calculate the total share of companies whose name starts with the letter 'P'. Round the result to two decimal places and print it to the console."
   ]
  },
  {
   "cell_type": "code",
   "execution_count": 6,
   "id": "f1d3764f-5c39-4a01-9147-b2e892fbeb49",
   "metadata": {},
   "outputs": [
    {
     "name": "stdout",
     "output_type": "stream",
     "text": [
      "49.49\n"
     ]
    }
   ],
   "source": [
    "np.set_printoptions(linewidth=150)\n",
    "stocks_startswith_P = np.array([['PEKAO', 'PLPEKAO00016', '176379000', '9619710660', '6.185', '5.27', '9'],\n",
    "       ['PGE', 'PLPGER000010', '796776000', '3561588720', '2.290', '2.88', '18'],\n",
    "       ['PGNIG', 'PLPGNIG00014', '1624608000', '6072784704', '3.905', '1.56', '12'],\n",
    "       ['PKNORLEN', 'PLPKN0000018', '289049000', '17701360760', '11.382', '12.44', '8'],\n",
    "       ['PKOBP', 'PLPKO0000016', '857593000', '18807014490', '12.093', '10.49', '9'],\n",
    "       ['PLAY', 'LU1642887738', '114151000', '3696209380', '2.377', '1.47', '16'],\n",
    "       ['PZU', 'PLPZU0000011', '568305000', '17515160100', '11.262', '6.64', '6']], dtype='<U12')\n",
    "\n",
    "# Start your code here\n",
    "sum = stocks_startswith_P[:,4].astype(float).sum()\n",
    "print(np.round(sum, 2))"
   ]
  },
  {
   "cell_type": "markdown",
   "id": "80d0b5ae-cc6d-4fe1-9ccb-e48632445244",
   "metadata": {},
   "source": [
    "## Congratulate, Day 18 Finished!"
   ]
  }
 ],
 "metadata": {
  "kernelspec": {
   "display_name": "Python 3 (ipykernel)",
   "language": "python",
   "name": "python3"
  },
  "language_info": {
   "codemirror_mode": {
    "name": "ipython",
    "version": 3
   },
   "file_extension": ".py",
   "mimetype": "text/x-python",
   "name": "python",
   "nbconvert_exporter": "python",
   "pygments_lexer": "ipython3",
   "version": "3.9.5"
  }
 },
 "nbformat": 4,
 "nbformat_minor": 5
}
