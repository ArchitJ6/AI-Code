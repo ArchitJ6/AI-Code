{
 "cells": [
  {
   "cell_type": "markdown",
   "metadata": {},
   "source": [
    "# Day 2 - Numpy"
   ]
  },
  {
   "cell_type": "code",
   "execution_count": 1,
   "metadata": {},
   "outputs": [],
   "source": [
    "import numpy as np"
   ]
  },
  {
   "cell_type": "markdown",
   "metadata": {},
   "source": [
    "### 1. Check if the following arrays are equal (element-wise)"
   ]
  },
  {
   "cell_type": "code",
   "execution_count": 2,
   "metadata": {},
   "outputs": [
    {
     "name": "stdout",
     "output_type": "stream",
     "text": [
      "True\n"
     ]
    }
   ],
   "source": [
    "A = np.array([0.4, 0.5, 0.3])\n",
    "B = np.array([0.39999999, 0.5000001, 0.3])\n",
    "\n",
    "# <---- Write your code here ---->\n",
    "\n",
    "print(np.allclose(A, B))"
   ]
  },
  {
   "cell_type": "markdown",
   "metadata": {},
   "source": [
    "---"
   ]
  },
  {
   "cell_type": "markdown",
   "metadata": {},
   "source": [
    "### 2. Check if the following arrays are equal (element-wise)"
   ]
  },
  {
   "cell_type": "code",
   "execution_count": 3,
   "metadata": {},
   "outputs": [
    {
     "name": "stdout",
     "output_type": "stream",
     "text": [
      "[False False  True]\n",
      "[False False  True]\n"
     ]
    }
   ],
   "source": [
    "A = np.array([0.4, 0.5, 0.3])\n",
    "B = np.array([0.3999999999, 0.5000000001, 0.3])\n",
    "\n",
    "# <---- Write your code here ---->\n",
    "\n",
    "# Method 1\n",
    "print(A == B)\n",
    "\n",
    "# Method 2\n",
    "print(np.equal(A, B))"
   ]
  },
  {
   "cell_type": "markdown",
   "metadata": {},
   "source": [
    "---"
   ]
  },
  {
   "cell_type": "markdown",
   "metadata": {},
   "source": [
    "### 3. Check which numbers (element-wise) from the A array are greater than numbers from the B array and print result to the console as shown below."
   ]
  },
  {
   "cell_type": "code",
   "execution_count": 4,
   "metadata": {},
   "outputs": [
    {
     "name": "stdout",
     "output_type": "stream",
     "text": [
      "[ True False False False]\n",
      "[ True False False False]\n"
     ]
    }
   ],
   "source": [
    "A = np.array([0.4, 0.5, 0.3, 0.9])\n",
    "B = np.array([0.38, 0.51, 0.3, 0.91])\n",
    "\n",
    "# <---- Write your code here ---->\n",
    "\n",
    "# Method 1\n",
    "print(A > B)\n",
    "\n",
    "# Method 2\n",
    "print(np.greater(A, B))"
   ]
  },
  {
   "cell_type": "markdown",
   "metadata": {},
   "source": [
    "---"
   ]
  },
  {
   "cell_type": "markdown",
   "metadata": {},
   "source": [
    "### 4. Using Numpy create a 4x4 array filled with zeros (set data type to int). In response print this array to the console."
   ]
  },
  {
   "cell_type": "code",
   "execution_count": 5,
   "metadata": {},
   "outputs": [
    {
     "name": "stdout",
     "output_type": "stream",
     "text": [
      "[[0 0 0 0]\n",
      " [0 0 0 0]\n",
      " [0 0 0 0]\n",
      " [0 0 0 0]]\n"
     ]
    }
   ],
   "source": [
    "print(np.zeros((4, 4), dtype='int'))"
   ]
  },
  {
   "cell_type": "markdown",
   "metadata": {},
   "source": [
    "---"
   ]
  },
  {
   "cell_type": "markdown",
   "metadata": {},
   "source": [
    "### 5. Using Numpy, create an array 10x10 filled with number 255 and set the data type to float. Print this array to the console as shown below."
   ]
  },
  {
   "cell_type": "code",
   "execution_count": 7,
   "metadata": {},
   "outputs": [
    {
     "name": "stdout",
     "output_type": "stream",
     "text": [
      "[[255. 255. 255. 255. 255. 255. 255. 255. 255. 255.]\n",
      " [255. 255. 255. 255. 255. 255. 255. 255. 255. 255.]\n",
      " [255. 255. 255. 255. 255. 255. 255. 255. 255. 255.]\n",
      " [255. 255. 255. 255. 255. 255. 255. 255. 255. 255.]\n",
      " [255. 255. 255. 255. 255. 255. 255. 255. 255. 255.]\n",
      " [255. 255. 255. 255. 255. 255. 255. 255. 255. 255.]\n",
      " [255. 255. 255. 255. 255. 255. 255. 255. 255. 255.]\n",
      " [255. 255. 255. 255. 255. 255. 255. 255. 255. 255.]\n",
      " [255. 255. 255. 255. 255. 255. 255. 255. 255. 255.]\n",
      " [255. 255. 255. 255. 255. 255. 255. 255. 255. 255.]]\n",
      "\n",
      "\n",
      "[[255. 255. 255. 255. 255. 255. 255. 255. 255. 255.]\n",
      " [255. 255. 255. 255. 255. 255. 255. 255. 255. 255.]\n",
      " [255. 255. 255. 255. 255. 255. 255. 255. 255. 255.]\n",
      " [255. 255. 255. 255. 255. 255. 255. 255. 255. 255.]\n",
      " [255. 255. 255. 255. 255. 255. 255. 255. 255. 255.]\n",
      " [255. 255. 255. 255. 255. 255. 255. 255. 255. 255.]\n",
      " [255. 255. 255. 255. 255. 255. 255. 255. 255. 255.]\n",
      " [255. 255. 255. 255. 255. 255. 255. 255. 255. 255.]\n",
      " [255. 255. 255. 255. 255. 255. 255. 255. 255. 255.]\n",
      " [255. 255. 255. 255. 255. 255. 255. 255. 255. 255.]]\n"
     ]
    }
   ],
   "source": [
    "# Method 1\n",
    "print(np.full(shape=(10, 10), fill_value=255, dtype=float))\n",
    "\n",
    "print('\\n')\n",
    "\n",
    "# Method 2\n",
    "print(np.ones(shape=(10, 10), dtype='float') * 255)"
   ]
  },
  {
   "cell_type": "markdown",
   "metadata": {},
   "source": [
    "## Congratulate, Day 2 Finished!"
   ]
  }
 ],
 "metadata": {
  "kernelspec": {
   "display_name": "Python 3",
   "language": "python",
   "name": "python3"
  },
  "language_info": {
   "codemirror_mode": {
    "name": "ipython",
    "version": 3
   },
   "file_extension": ".py",
   "mimetype": "text/x-python",
   "name": "python",
   "nbconvert_exporter": "python",
   "pygments_lexer": "ipython3",
   "version": "3.9.5"
  },
  "orig_nbformat": 4
 },
 "nbformat": 4,
 "nbformat_minor": 2
}
