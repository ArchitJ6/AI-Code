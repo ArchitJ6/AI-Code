{
 "cells": [
  {
   "cell_type": "markdown",
   "id": "de22245d-1c81-4805-b106-d44031aad96c",
   "metadata": {},
   "source": [
    "# Day 20 - Numpy"
   ]
  },
  {
   "cell_type": "code",
   "execution_count": 1,
   "id": "e11c9aa2-a999-414f-b51e-30a2cba34c45",
   "metadata": {},
   "outputs": [],
   "source": [
    "import numpy as np"
   ]
  },
  {
   "cell_type": "markdown",
   "id": "6156d428-9980-4769-8394-c6eeecc00ea0",
   "metadata": {},
   "source": [
    "### 1. Calculate the average value for each column. Round the result to two decimal places and print it to the console."
   ]
  },
  {
   "cell_type": "code",
   "execution_count": 2,
   "id": "a4d6a451-eb5b-4cf5-b678-90b13a7d96ae",
   "metadata": {},
   "outputs": [
    {
     "name": "stdout",
     "output_type": "stream",
     "text": [
      "[  283.14   295.25   268.69   282.3  48688.05]\n"
     ]
    }
   ],
   "source": [
    "playway_values = np.array([[   305. ,    324.5,    283.5,    310. ,  64081. ],\n",
    "       [   325.5,    340.5,    320. ,    340.5,  55496. ],\n",
    "       [   324. ,    340.5,    315. ,    330. ,  36152. ],\n",
    "       [   344. ,    344. ,    310. ,    315. ,  35992. ],\n",
    "       [   306.5,    307. ,    291. ,    305. ,  32539. ],\n",
    "       [   274. ,    291. ,    250. ,    258. ,  79402. ],\n",
    "       [   278. ,    284.5,    256. ,    264. ,  35700. ],\n",
    "       [   270. ,    270. ,    238.5,    245. ,  60445. ],\n",
    "       [   218. ,    228. ,    196. ,    197. ,  94031. ],\n",
    "       [   210. ,    229. ,    198.8,    211. , 100412. ],\n",
    "       [   205. ,    248. ,    197.8,    240.5,  50659. ],\n",
    "       [   245. ,    269. ,    232.5,    264. ,  99480. ],\n",
    "       [   264. ,    280. ,    251. ,    270. ,  70136. ],\n",
    "       [   267. ,    280. ,    267. ,    279.5,  30732. ],\n",
    "       [   297.5,    307. ,    280. ,    280.5,  43426. ],\n",
    "       [   274. ,    289. ,    258. ,    285. ,  37098. ],\n",
    "       [   305. ,    309. ,    296.5,    309. ,  31939. ],\n",
    "       [   313. ,    330. ,    295. ,    304. ,  46724. ],\n",
    "       [   300. ,    309. ,    295.5,    300. ,  27213. ],\n",
    "       [   302. ,    306.5,    290. ,    296. ,  13466. ],\n",
    "       [   299. ,    300. ,    287. ,    300. ,  10316. ],\n",
    "       [   302.5,    309. ,    302. ,    306.5,  15698. ]])\n",
    "\n",
    "# Start your code here\n",
    "print(np.round(np.mean(playway_values, axis=0), 2))"
   ]
  },
  {
   "cell_type": "markdown",
   "id": "0b9fdeea-4cc3-42b6-b1f1-add660316e2a",
   "metadata": {},
   "source": [
    "---"
   ]
  },
  {
   "cell_type": "markdown",
   "id": "205bf83d-7d67-45ed-9bd4-33e57b1429a7",
   "metadata": {},
   "source": [
    "### 2. Calculate the new column: the difference between the highest and lowest price.\n",
    "\n",
    "Steps:\n",
    "- Assign the calculated difference to the max_min_diff variable\n",
    "- Add the calculated column (variable max_min_diff) to the array playway_values at the end.\n",
    "\n",
    "In response, print result to the console."
   ]
  },
  {
   "cell_type": "code",
   "execution_count": 3,
   "id": "31dc58ea-3e1d-453e-95f3-a09150b70217",
   "metadata": {},
   "outputs": [
    {
     "name": "stdout",
     "output_type": "stream",
     "text": [
      "[[   305.     324.5    283.5    310.   64081.      41. ]\n",
      " [   325.5    340.5    320.     340.5  55496.      20.5]\n",
      " [   324.     340.5    315.     330.   36152.      25.5]\n",
      " [   344.     344.     310.     315.   35992.      34. ]\n",
      " [   306.5    307.     291.     305.   32539.      16. ]\n",
      " [   274.     291.     250.     258.   79402.      41. ]\n",
      " [   278.     284.5    256.     264.   35700.      28.5]\n",
      " [   270.     270.     238.5    245.   60445.      31.5]\n",
      " [   218.     228.     196.     197.   94031.      32. ]\n",
      " [   210.     229.     198.8    211.  100412.      30.2]\n",
      " [   205.     248.     197.8    240.5  50659.      50.2]\n",
      " [   245.     269.     232.5    264.   99480.      36.5]\n",
      " [   264.     280.     251.     270.   70136.      29. ]\n",
      " [   267.     280.     267.     279.5  30732.      13. ]\n",
      " [   297.5    307.     280.     280.5  43426.      27. ]\n",
      " [   274.     289.     258.     285.   37098.      31. ]\n",
      " [   305.     309.     296.5    309.   31939.      12.5]\n",
      " [   313.     330.     295.     304.   46724.      35. ]\n",
      " [   300.     309.     295.5    300.   27213.      13.5]\n",
      " [   302.     306.5    290.     296.   13466.      16.5]\n",
      " [   299.     300.     287.     300.   10316.      13. ]\n",
      " [   302.5    309.     302.     306.5  15698.       7. ]]\n"
     ]
    }
   ],
   "source": [
    "np.set_printoptions(suppress=True)\n",
    "max_min_diff = playway_values[:, [1]] - playway_values[:, [2]]\n",
    "playway_values = np.concatenate((playway_values, max_min_diff), axis=1)\n",
    "print(playway_values)"
   ]
  },
  {
   "cell_type": "markdown",
   "id": "48fe56aa-b788-4412-a521-1c6261b8c33d",
   "metadata": {},
   "source": [
    "---"
   ]
  },
  {
   "cell_type": "markdown",
   "id": "89ff17f6-620c-4900-a30a-6475d091e22c",
   "metadata": {},
   "source": [
    "### 3. Extract rows from this array where closing price (column with index 3) is greater than 300.0. In response, print result to the console."
   ]
  },
  {
   "cell_type": "code",
   "execution_count": 4,
   "id": "94ca446b-0b31-47d7-9e08-f15c87ee7d65",
   "metadata": {},
   "outputs": [
    {
     "name": "stdout",
     "output_type": "stream",
     "text": [
      "[[  305.    324.5   283.5   310.  64081.     41. ]\n",
      " [  325.5   340.5   320.    340.5 55496.     20.5]\n",
      " [  324.    340.5   315.    330.  36152.     25.5]\n",
      " [  344.    344.    310.    315.  35992.     34. ]\n",
      " [  306.5   307.    291.    305.  32539.     16. ]\n",
      " [  305.    309.    296.5   309.  31939.     12.5]\n",
      " [  313.    330.    295.    304.  46724.     35. ]\n",
      " [  302.5   309.    302.    306.5 15698.      7. ]]\n"
     ]
    }
   ],
   "source": [
    "print(playway_values[playway_values[:, 3] > 300.0])"
   ]
  },
  {
   "cell_type": "markdown",
   "id": "16bde9b8-f308-4684-975f-3da611e3c54c",
   "metadata": {},
   "source": [
    "---"
   ]
  },
  {
   "cell_type": "markdown",
   "id": "571709e0-981f-4faf-ade8-b646ce62f239",
   "metadata": {},
   "source": [
    "### 4. From this array extract the first 10 rows with the highest volume sorted in descending order."
   ]
  },
  {
   "cell_type": "code",
   "execution_count": 5,
   "id": "badc9ed3-7a41-4571-aacd-d965aeeaa755",
   "metadata": {},
   "outputs": [
    {
     "name": "stdout",
     "output_type": "stream",
     "text": [
      "[[   210.     229.     198.8    211.  100412.      30.2]\n",
      " [   245.     269.     232.5    264.   99480.      36.5]\n",
      " [   218.     228.     196.     197.   94031.      32. ]\n",
      " [   274.     291.     250.     258.   79402.      41. ]\n",
      " [   264.     280.     251.     270.   70136.      29. ]\n",
      " [   305.     324.5    283.5    310.   64081.      41. ]\n",
      " [   270.     270.     238.5    245.   60445.      31.5]\n",
      " [   325.5    340.5    320.     340.5  55496.      20.5]\n",
      " [   205.     248.     197.8    240.5  50659.      50.2]\n",
      " [   313.     330.     295.     304.   46724.      35. ]]\n"
     ]
    }
   ],
   "source": [
    "print(playway_values[playway_values[:, 4].argsort()[::-1]][:10])"
   ]
  },
  {
   "cell_type": "markdown",
   "id": "81b87792-3ab6-4888-aa2e-64cb3bb625e8",
   "metadata": {},
   "source": [
    "---"
   ]
  },
  {
   "cell_type": "markdown",
   "id": "4e4967f4-2380-4846-ad8a-fcbc1086c7dc",
   "metadata": {},
   "source": [
    "### 5. Add to this array column that returns 1 in case the close price is higher than the open price, otherwise 0."
   ]
  },
  {
   "cell_type": "code",
   "execution_count": 6,
   "id": "e3640a1d-8a5f-490d-a09c-05b0f9a6b949",
   "metadata": {},
   "outputs": [
    {
     "name": "stdout",
     "output_type": "stream",
     "text": [
      "[[   305.     324.5    283.5    310.   64081.      41.       1. ]\n",
      " [   325.5    340.5    320.     340.5  55496.      20.5      1. ]\n",
      " [   324.     340.5    315.     330.   36152.      25.5      1. ]\n",
      " [   344.     344.     310.     315.   35992.      34.       0. ]\n",
      " [   306.5    307.     291.     305.   32539.      16.       0. ]\n",
      " [   274.     291.     250.     258.   79402.      41.       0. ]\n",
      " [   278.     284.5    256.     264.   35700.      28.5      0. ]\n",
      " [   270.     270.     238.5    245.   60445.      31.5      0. ]\n",
      " [   218.     228.     196.     197.   94031.      32.       0. ]\n",
      " [   210.     229.     198.8    211.  100412.      30.2      1. ]\n",
      " [   205.     248.     197.8    240.5  50659.      50.2      1. ]\n",
      " [   245.     269.     232.5    264.   99480.      36.5      1. ]\n",
      " [   264.     280.     251.     270.   70136.      29.       1. ]\n",
      " [   267.     280.     267.     279.5  30732.      13.       1. ]\n",
      " [   297.5    307.     280.     280.5  43426.      27.       0. ]\n",
      " [   274.     289.     258.     285.   37098.      31.       1. ]\n",
      " [   305.     309.     296.5    309.   31939.      12.5      1. ]\n",
      " [   313.     330.     295.     304.   46724.      35.       0. ]\n",
      " [   300.     309.     295.5    300.   27213.      13.5      0. ]\n",
      " [   302.     306.5    290.     296.   13466.      16.5      0. ]\n",
      " [   299.     300.     287.     300.   10316.      13.       1. ]\n",
      " [   302.5    309.     302.     306.5  15698.       7.       1. ]]\n"
     ]
    }
   ],
   "source": [
    "flag = playway_values[:, [0]] < playway_values[:, [3]]\n",
    "flag = flag.astype(int)\n",
    "playway_values = np.concatenate((playway_values, flag), axis=1)\n",
    "print(playway_values)"
   ]
  },
  {
   "cell_type": "markdown",
   "id": "349d6a05-696e-43fb-a749-54dfd3a3bee1",
   "metadata": {},
   "source": [
    "## Congratulate, Day 20 Finished!"
   ]
  }
 ],
 "metadata": {
  "kernelspec": {
   "display_name": "Python 3 (ipykernel)",
   "language": "python",
   "name": "python3"
  },
  "language_info": {
   "codemirror_mode": {
    "name": "ipython",
    "version": 3
   },
   "file_extension": ".py",
   "mimetype": "text/x-python",
   "name": "python",
   "nbconvert_exporter": "python",
   "pygments_lexer": "ipython3",
   "version": "3.9.5"
  }
 },
 "nbformat": 4,
 "nbformat_minor": 5
}
