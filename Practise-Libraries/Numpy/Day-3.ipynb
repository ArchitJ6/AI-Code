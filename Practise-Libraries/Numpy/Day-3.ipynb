{
 "cells": [
  {
   "cell_type": "markdown",
   "metadata": {},
   "source": [
    "# Day 3 - Numpy"
   ]
  },
  {
   "cell_type": "code",
   "execution_count": 1,
   "metadata": {},
   "outputs": [],
   "source": [
    "import numpy as np"
   ]
  },
  {
   "cell_type": "markdown",
   "metadata": {},
   "source": [
    "### 1. Using Numpy create a one-dimensional array of all two-digit numbers and print this array to the console."
   ]
  },
  {
   "cell_type": "code",
   "execution_count": 2,
   "metadata": {},
   "outputs": [
    {
     "name": "stdout",
     "output_type": "stream",
     "text": [
      "[10 11 12 13 14 15 16 17 18 19 20 21 22 23 24 25 26 27 28 29 30 31 32 33\n",
      " 34 35 36 37 38 39 40 41 42 43 44 45 46 47 48 49 50 51 52 53 54 55 56 57\n",
      " 58 59 60 61 62 63 64 65 66 67 68 69 70 71 72 73 74 75 76 77 78 79 80 81\n",
      " 82 83 84 85 86 87 88 89 90 91 92 93 94 95 96 97 98 99]\n"
     ]
    }
   ],
   "source": [
    "print(np.arange(10, 100))"
   ]
  },
  {
   "cell_type": "markdown",
   "metadata": {},
   "source": [
    "---"
   ]
  },
  {
   "cell_type": "markdown",
   "metadata": {},
   "source": [
    "### 2. Using Numpy create the following array:\n",
    "\n",
    "```\n",
    "[[10 11 12 13 14 15 16 17 18 19]\n",
    " [20 21 22 23 24 25 26 27 28 29]\n",
    " [30 31 32 33 34 35 36 37 38 39]\n",
    " [40 41 42 43 44 45 46 47 48 49]\n",
    " [50 51 52 53 54 55 56 57 58 59]\n",
    " [60 61 62 63 64 65 66 67 68 69]\n",
    " [70 71 72 73 74 75 76 77 78 79]\n",
    " [80 81 82 83 84 85 86 87 88 89]\n",
    " [90 91 92 93 94 95 96 97 98 99]]\n",
    "```\n",
    "\n",
    "Note that the shape of this array is (9, 10). In response, print array to the console."
   ]
  },
  {
   "cell_type": "code",
   "execution_count": 3,
   "metadata": {},
   "outputs": [
    {
     "name": "stdout",
     "output_type": "stream",
     "text": [
      "[[10 11 12 13 14 15 16 17 18 19]\n",
      " [20 21 22 23 24 25 26 27 28 29]\n",
      " [30 31 32 33 34 35 36 37 38 39]\n",
      " [40 41 42 43 44 45 46 47 48 49]\n",
      " [50 51 52 53 54 55 56 57 58 59]\n",
      " [60 61 62 63 64 65 66 67 68 69]\n",
      " [70 71 72 73 74 75 76 77 78 79]\n",
      " [80 81 82 83 84 85 86 87 88 89]\n",
      " [90 91 92 93 94 95 96 97 98 99]]\n"
     ]
    }
   ],
   "source": [
    "arr = np.arange(10, 100, 1, dtype='int')\n",
    "\n",
    "# Method 1\n",
    "arr = arr.reshape(9, -1)\n",
    "\n",
    "# Method 2\n",
    "arr = arr.reshape(9, 10)\n",
    "\n",
    "# Method 3\n",
    "arr = arr.reshape(-1, 10)\n",
    "\n",
    "print(arr)"
   ]
  },
  {
   "cell_type": "markdown",
   "metadata": {},
   "source": [
    "---"
   ]
  },
  {
   "cell_type": "markdown",
   "metadata": {},
   "source": [
    "### 3. Using Numpy create a 6x6 two-dimensional array - identity matrix with int data type. Print this array to the console as shown below."
   ]
  },
  {
   "cell_type": "code",
   "execution_count": 4,
   "metadata": {},
   "outputs": [
    {
     "name": "stdout",
     "output_type": "stream",
     "text": [
      "[[1 0 0 0 0 0]\n",
      " [0 1 0 0 0 0]\n",
      " [0 0 1 0 0 0]\n",
      " [0 0 0 1 0 0]\n",
      " [0 0 0 0 1 0]\n",
      " [0 0 0 0 0 1]]\n",
      "\n",
      "\n",
      "[[1 0 0 0 0 0]\n",
      " [0 1 0 0 0 0]\n",
      " [0 0 1 0 0 0]\n",
      " [0 0 0 1 0 0]\n",
      " [0 0 0 0 1 0]\n",
      " [0 0 0 0 0 1]]\n"
     ]
    }
   ],
   "source": [
    "# Method 1\n",
    "print(np.identity(6, dtype='int'))\n",
    "\n",
    "print('\\n')\n",
    "\n",
    "# Method 2\n",
    "print(np.eye(6, 6, dtype='int'))"
   ]
  },
  {
   "cell_type": "markdown",
   "metadata": {},
   "source": [
    "---"
   ]
  },
  {
   "cell_type": "markdown",
   "metadata": {},
   "source": [
    "### 4. Set the random seed to 10. Then using Numpy create a one-dimensional array consisting of 30 pseudo-randomly generated values from the uniform distribution [0,1). Print result to the console as shown below."
   ]
  },
  {
   "cell_type": "code",
   "execution_count": 5,
   "metadata": {},
   "outputs": [
    {
     "name": "stdout",
     "output_type": "stream",
     "text": [
      "[0.77132064 0.02075195 0.63364823 0.74880388 0.49850701 0.22479665\n",
      " 0.19806286 0.76053071 0.16911084 0.08833981 0.68535982 0.95339335\n",
      " 0.00394827 0.51219226 0.81262096 0.61252607 0.72175532 0.29187607\n",
      " 0.91777412 0.71457578 0.54254437 0.14217005 0.37334076 0.67413362\n",
      " 0.44183317 0.43401399 0.61776698 0.51313824 0.65039718 0.60103895]\n",
      "\n",
      "\n",
      "[0.8052232  0.52164715 0.90864888 0.31923609 0.09045935 0.30070006\n",
      " 0.11398436 0.82868133 0.04689632 0.62628715 0.54758616 0.819287\n",
      " 0.19894754 0.8568503  0.35165264 0.75464769 0.29596171 0.88393648\n",
      " 0.32551164 0.1650159  0.39252924 0.09346037 0.82110566 0.15115202\n",
      " 0.38411445 0.94426071 0.98762547 0.45630455 0.82612284 0.25137413]\n"
     ]
    }
   ],
   "source": [
    "np.random.seed(10)\n",
    "\n",
    "# Method 1\n",
    "print(np.random.rand(30))\n",
    "\n",
    "print('\\n')\n",
    "\n",
    "# Method 2\n",
    "print(np.random.random(30))"
   ]
  },
  {
   "cell_type": "markdown",
   "metadata": {},
   "source": [
    "---"
   ]
  },
  {
   "cell_type": "markdown",
   "metadata": {},
   "source": [
    "### 5. Using Numpy create a two-dimensional array with the shape (10, 4) pseudo-randomly generated values from the standard normal distribution N(0,1). Set the random seed to 20. Print result to the console as shown below."
   ]
  },
  {
   "cell_type": "code",
   "execution_count": 6,
   "metadata": {},
   "outputs": [
    {
     "name": "stdout",
     "output_type": "stream",
     "text": [
      "[[ 0.88389311  0.19586502  0.35753652 -2.34326191]\n",
      " [-1.08483259  0.55969629  0.93946935 -0.97848104]\n",
      " [ 0.50309684  0.40641447  0.32346101 -0.49341088]\n",
      " [-0.79201679 -0.84236793 -1.27950266  0.24571517]\n",
      " [-0.0441948   1.56763255  1.05110868  0.40636843]\n",
      " [-0.1686461  -3.18970279  1.12013226  1.33277821]\n",
      " [-0.24333877 -0.13003071 -0.10901737  1.55618644]\n",
      " [ 0.12877835 -2.06694872 -0.88549315 -1.10457948]\n",
      " [ 0.93286635  2.059838   -0.93493796 -1.61299022]\n",
      " [ 0.52706972 -1.55110074  0.32961334 -1.13652654]]\n"
     ]
    }
   ],
   "source": [
    "np.random.seed(20)\n",
    "print(np.random.randn(10, 4))"
   ]
  },
  {
   "cell_type": "markdown",
   "metadata": {},
   "source": [
    "## Congratulate, Day 3 Finished!"
   ]
  }
 ],
 "metadata": {
  "kernelspec": {
   "display_name": "Python 3",
   "language": "python",
   "name": "python3"
  },
  "language_info": {
   "codemirror_mode": {
    "name": "ipython",
    "version": 3
   },
   "file_extension": ".py",
   "mimetype": "text/x-python",
   "name": "python",
   "nbconvert_exporter": "python",
   "pygments_lexer": "ipython3",
   "version": "3.9.5"
  },
  "orig_nbformat": 4
 },
 "nbformat": 4,
 "nbformat_minor": 2
}
