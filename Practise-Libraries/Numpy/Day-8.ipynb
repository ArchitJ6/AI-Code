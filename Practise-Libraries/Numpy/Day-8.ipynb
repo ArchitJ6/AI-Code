{
 "cells": [
  {
   "cell_type": "markdown",
   "metadata": {},
   "source": [
    "# Day 8 - Numpy"
   ]
  },
  {
   "cell_type": "code",
   "execution_count": 1,
   "metadata": {},
   "outputs": [],
   "source": [
    "import numpy as np"
   ]
  },
  {
   "cell_type": "markdown",
   "metadata": {},
   "source": [
    "### 1. The following array is given:\n",
    "```\n",
    "A = np.array([[4.99, 3.49, 9.99],\n",
    "              [1.99, 9.99, 14.99],\n",
    "              [14.99, 2.39, 7.29]])\n",
    "```\n",
    "\n",
    "Using Numpy create an array of the same shape and data type as the given array and fill it with a constant value = 9.99. Print this array to the console.\n",
    "\n",
    "Tip: Use the np.full_like() function."
   ]
  },
  {
   "cell_type": "code",
   "execution_count": 2,
   "metadata": {},
   "outputs": [
    {
     "data": {
      "text/plain": [
       "array([[9.99, 9.99, 9.99],\n",
       "       [9.99, 9.99, 9.99],\n",
       "       [9.99, 9.99, 9.99]])"
      ]
     },
     "execution_count": 2,
     "metadata": {},
     "output_type": "execute_result"
    }
   ],
   "source": [
    "A = np.array([[4.99, 3.49, 9.99], [1.99, 9.99, 14.99], [14.99, 2.39, 7.29]])\n",
    "\n",
    "B = np.full_like(A, 9.99, dtype=float)\n",
    "B"
   ]
  },
  {
   "cell_type": "markdown",
   "metadata": {},
   "source": [
    "---"
   ]
  },
  {
   "cell_type": "markdown",
   "metadata": {},
   "source": [
    "### 2. Using Numpy create a two-dimensional array (lower triangular matrix):\n",
    "\n",
    "```\n",
    "array([[1., 0., 0., 0., 0.],\n",
    "       [1., 1., 0., 0., 0.],\n",
    "       [1., 1., 1., 0., 0.],\n",
    "       [1., 1., 1., 1., 0.],\n",
    "       [1., 1., 1., 1., 1.]])\n",
    "```\n",
    "\n",
    "In response, print result to the console.\n",
    "\n",
    "Tip: Use the np.tri() function."
   ]
  },
  {
   "cell_type": "code",
   "execution_count": 4,
   "metadata": {},
   "outputs": [
    {
     "name": "stdout",
     "output_type": "stream",
     "text": [
      "[[1. 0. 0. 0. 0.]\n",
      " [1. 1. 0. 0. 0.]\n",
      " [1. 1. 1. 0. 0.]\n",
      " [1. 1. 1. 1. 0.]\n",
      " [1. 1. 1. 1. 1.]]\n"
     ]
    }
   ],
   "source": [
    "print(np.tri(5, 5))"
   ]
  },
  {
   "cell_type": "markdown",
   "metadata": {},
   "source": [
    "---"
   ]
  },
  {
   "cell_type": "markdown",
   "metadata": {},
   "source": [
    "### 3. Using Numpy create any 3-dimensional array with shape (2, 3, 4) and assign to variable A.\n",
    "\n",
    "Example:\n",
    "```\n",
    "[[[4 5 4 2]\n",
    "  [6 3 5 1]\n",
    "  [5 2 1 2]]\n",
    " \n",
    " [[7 2 3 1]\n",
    "  [6 2 0 9]\n",
    "  [0 1 9 1]]]\n",
    "```"
   ]
  },
  {
   "cell_type": "code",
   "execution_count": 6,
   "metadata": {},
   "outputs": [
    {
     "data": {
      "text/plain": [
       "array([[[4, 5, 4, 2],\n",
       "        [6, 3, 5, 1],\n",
       "        [5, 2, 1, 2]],\n",
       "\n",
       "       [[7, 2, 3, 1],\n",
       "        [6, 2, 0, 9],\n",
       "        [0, 1, 9, 1]]])"
      ]
     },
     "execution_count": 6,
     "metadata": {},
     "output_type": "execute_result"
    }
   ],
   "source": [
    "A = np.array([[[4, 5, 4, 2],\n",
    "               [6, 3, 5, 1],\n",
    "               [5, 2, 1, 2]],\n",
    "               [[7, 2, 3, 1],\n",
    "                [6, 2, 0, 9],\n",
    "                [0, 1, 9, 1]]])\n",
    "A"
   ]
  },
  {
   "cell_type": "markdown",
   "metadata": {},
   "source": [
    "---"
   ]
  },
  {
   "cell_type": "markdown",
   "metadata": {},
   "source": [
    "### 4. Using Numpy create a two-dimensional array with shape of (200, 300) filled with random values from 0 to 255 (inclusive) with data type np.uint8 and assign to the variable image."
   ]
  },
  {
   "cell_type": "code",
   "execution_count": 10,
   "metadata": {},
   "outputs": [
    {
     "name": "stdout",
     "output_type": "stream",
     "text": [
      "[[252   4   3 ... 236 177 182]\n",
      " [ 23 216   0 ... 148  81 193]\n",
      " [129 241 231 ... 171  11  64]\n",
      " ...\n",
      " [152 172  12 ... 102  22  48]\n",
      " [135 224 133 ...  35 210 179]\n",
      " [ 12  35 136 ...  18 128 179]]\n"
     ]
    }
   ],
   "source": [
    "image = np.random.randint(low=0, high=255, size=(200, 300), dtype=np.uint8)\n",
    "print(image)"
   ]
  },
  {
   "cell_type": "markdown",
   "metadata": {},
   "source": [
    "---"
   ]
  },
  {
   "cell_type": "markdown",
   "metadata": {},
   "source": [
    "### 5. The following array is given:\n",
    "```\n",
    "image = np.random.randint(low=0, high=256, size=(200, 300), dtype=np.uint8)\n",
    "```\n",
    "Sort this array along the rows in ascending order and assign to the variable image_sorted."
   ]
  },
  {
   "cell_type": "code",
   "execution_count": 13,
   "metadata": {},
   "outputs": [
    {
     "name": "stdout",
     "output_type": "stream",
     "text": [
      "[[  0   2   3 ... 253 254 254]\n",
      " [  0   1   3 ... 254 254 254]\n",
      " [  1   2   2 ... 254 254 254]\n",
      " ...\n",
      " [  0   0   1 ... 251 253 254]\n",
      " [  0   0   0 ... 248 249 253]\n",
      " [  2   4   4 ... 253 253 253]]\n"
     ]
    }
   ],
   "source": [
    "image = np.random.randint(low=0, high=255, size=(200, 300), dtype=np.uint8)\n",
    "image_sorted = np.sort(image, axis=1)\n",
    "print(image_sorted)"
   ]
  },
  {
   "cell_type": "markdown",
   "metadata": {},
   "source": [
    "## Congratulate, Day 8 Finished!"
   ]
  }
 ],
 "metadata": {
  "kernelspec": {
   "display_name": "Python 3",
   "language": "python",
   "name": "python3"
  },
  "language_info": {
   "codemirror_mode": {
    "name": "ipython",
    "version": 3
   },
   "file_extension": ".py",
   "mimetype": "text/x-python",
   "name": "python",
   "nbconvert_exporter": "python",
   "pygments_lexer": "ipython3",
   "version": "3.9.5"
  }
 },
 "nbformat": 4,
 "nbformat_minor": 2
}
