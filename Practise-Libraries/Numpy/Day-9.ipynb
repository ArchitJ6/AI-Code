{
 "cells": [
  {
   "cell_type": "markdown",
   "metadata": {},
   "source": [
    "# Day 9 - Numpy"
   ]
  },
  {
   "cell_type": "code",
   "execution_count": 2,
   "metadata": {},
   "outputs": [],
   "source": [
    "import numpy as np"
   ]
  },
  {
   "cell_type": "markdown",
   "metadata": {},
   "source": [
    "### 1. The following array is given:\n",
    "```\n",
    "A = np.array([[4, 2, 1],\n",
    "              [6, 4, 2]])\n",
    "```\n",
    "Expand this array by one dimension (add a new dimension at the beginning). Expected shape of the output array: (1, 2, 3).\n",
    "\n",
    "In response, print array to the console.\n",
    "\n",
    "Tip: Use the np.expand_dims() function."
   ]
  },
  {
   "cell_type": "code",
   "execution_count": 3,
   "metadata": {},
   "outputs": [
    {
     "name": "stdout",
     "output_type": "stream",
     "text": [
      "[[[4 2 1]\n",
      "  [6 4 2]]]\n"
     ]
    }
   ],
   "source": [
    "A = np.array([[4, 2, 1], [6, 4, 2]])\n",
    "B = np.expand_dims(A, axis=0)\n",
    "print(B)"
   ]
  },
  {
   "cell_type": "markdown",
   "metadata": {},
   "source": [
    "---"
   ]
  },
  {
   "cell_type": "markdown",
   "metadata": {},
   "source": [
    "### 2. Using Numpy create a three-dimensional array called image with shape (200, 300, 3) filled with random values from 0 to 255 (inclusive) and data type np.uint8. Set random seed to 42. In response, print array to the console."
   ]
  },
  {
   "cell_type": "code",
   "execution_count": 6,
   "metadata": {},
   "outputs": [
    {
     "data": {
      "text/plain": [
       "array([[[102, 220, 225],\n",
       "        [ 95, 179,  61],\n",
       "        [234, 203,  92],\n",
       "        ...,\n",
       "        [ 41,  27,  87],\n",
       "        [102, 225,  65],\n",
       "        [170,   0, 238]],\n",
       "\n",
       "       [[169, 170, 213],\n",
       "        [159,  44, 250],\n",
       "        [224, 206,  61],\n",
       "        ...,\n",
       "        [162, 118,  77],\n",
       "        [228,  67,  21],\n",
       "        [ 68,  30,  64]],\n",
       "\n",
       "       [[237,  26, 118],\n",
       "        [ 62, 157, 198],\n",
       "        [  1, 151,  37],\n",
       "        ...,\n",
       "        [218, 189,  51],\n",
       "        [193, 250, 243],\n",
       "        [235,  34, 180]],\n",
       "\n",
       "       ...,\n",
       "\n",
       "       [[116, 102, 228],\n",
       "        [ 29,  75,  71],\n",
       "        [156, 133,  53],\n",
       "        ...,\n",
       "        [ 93,  45,  68],\n",
       "        [124, 238,  76],\n",
       "        [184, 185, 202]],\n",
       "\n",
       "       [[216, 202, 116],\n",
       "        [146, 168, 132],\n",
       "        [236,  80,  45],\n",
       "        ...,\n",
       "        [169, 145, 212],\n",
       "        [123,  50,  70],\n",
       "        [ 11,  43,  62]],\n",
       "\n",
       "       [[ 32,  52,  65],\n",
       "        [155,   2,  86],\n",
       "        [ 83, 240,  27],\n",
       "        ...,\n",
       "        [ 30,  57, 175],\n",
       "        [ 72,  83, 171],\n",
       "        [ 40, 114, 195]]], dtype=uint8)"
      ]
     },
     "execution_count": 6,
     "metadata": {},
     "output_type": "execute_result"
    }
   ],
   "source": [
    "np.random.seed(42)\n",
    "image = np.random.randint(low=0, high=256, size=(200, 300, 3), dtype=np.uint8)\n",
    "image"
   ]
  },
  {
   "cell_type": "markdown",
   "metadata": {},
   "source": [
    "---"
   ]
  },
  {
   "cell_type": "markdown",
   "metadata": {},
   "source": [
    "### 3. The following array is given:\n",
    "```\n",
    "image = np.random.randint(low=0, high=256, size=(200, 300, 3), dtype=np.uint8)\n",
    "```\n",
    "Extend this array by one dimension (add a new dimension at the beginning) and assign to image_extended variable. Expected shape of this array is (1, 200, 300, 3).\n",
    "\n",
    "Tip: Use the np.expand_dims() function."
   ]
  },
  {
   "cell_type": "code",
   "execution_count": 7,
   "metadata": {},
   "outputs": [
    {
     "name": "stdout",
     "output_type": "stream",
     "text": [
      "[[[[102 220 225]\n",
      "   [ 95 179  61]\n",
      "   [234 203  92]\n",
      "   ...\n",
      "   [ 41  27  87]\n",
      "   [102 225  65]\n",
      "   [170   0 238]]\n",
      "\n",
      "  [[169 170 213]\n",
      "   [159  44 250]\n",
      "   [224 206  61]\n",
      "   ...\n",
      "   [162 118  77]\n",
      "   [228  67  21]\n",
      "   [ 68  30  64]]\n",
      "\n",
      "  [[237  26 118]\n",
      "   [ 62 157 198]\n",
      "   [  1 151  37]\n",
      "   ...\n",
      "   [218 189  51]\n",
      "   [193 250 243]\n",
      "   [235  34 180]]\n",
      "\n",
      "  ...\n",
      "\n",
      "  [[116 102 228]\n",
      "   [ 29  75  71]\n",
      "   [156 133  53]\n",
      "   ...\n",
      "   [ 93  45  68]\n",
      "   [124 238  76]\n",
      "   [184 185 202]]\n",
      "\n",
      "  [[216 202 116]\n",
      "   [146 168 132]\n",
      "   [236  80  45]\n",
      "   ...\n",
      "   [169 145 212]\n",
      "   [123  50  70]\n",
      "   [ 11  43  62]]\n",
      "\n",
      "  [[ 32  52  65]\n",
      "   [155   2  86]\n",
      "   [ 83 240  27]\n",
      "   ...\n",
      "   [ 30  57 175]\n",
      "   [ 72  83 171]\n",
      "   [ 40 114 195]]]]\n"
     ]
    }
   ],
   "source": [
    "image_extended = np.expand_dims(image, axis=0)\n",
    "print(image_extended)"
   ]
  },
  {
   "cell_type": "markdown",
   "metadata": {},
   "source": [
    "---"
   ]
  },
  {
   "cell_type": "markdown",
   "metadata": {},
   "source": [
    "### 4. Two randomly generated arrays are given:\n",
    "```\n",
    "image1 = np.random.randint(low=0, high=256, size=(200, 300, 3), dtype=np.uint8)\n",
    "image2 = np.random.randint(low=0, high=256, size=(200, 300, 3), dtype=np.uint8)\n",
    "```\n",
    "Expand each of these arrays by adding one dimension at the beginning and then combine these arrays into one called images. Expected shape of images array: (2, 200, 300, 3)."
   ]
  },
  {
   "cell_type": "code",
   "execution_count": 13,
   "metadata": {},
   "outputs": [
    {
     "name": "stdout",
     "output_type": "stream",
     "text": [
      "[[[[153  79 138]\n",
      "   [129  73 182]\n",
      "   [177 104  61]\n",
      "   ...\n",
      "   [169  21 124]\n",
      "   [217  60 233]\n",
      "   [ 80 233 226]]\n",
      "\n",
      "  [[145  57 212]\n",
      "   [ 40 220 145]\n",
      "   [110  22 158]\n",
      "   ...\n",
      "   [ 58  16 211]\n",
      "   [207 143 235]\n",
      "   [214 122 114]]\n",
      "\n",
      "  [[111 139 111]\n",
      "   [ 36  41 170]\n",
      "   [ 24  82 174]\n",
      "   ...\n",
      "   [ 94 242  82]\n",
      "   [ 27  85 115]\n",
      "   [  7 168  51]]\n",
      "\n",
      "  ...\n",
      "\n",
      "  [[123 188 130]\n",
      "   [208 192  92]\n",
      "   [214  59  25]\n",
      "   ...\n",
      "   [198 228  87]\n",
      "   [245   0  16]\n",
      "   [111  65   3]]\n",
      "\n",
      "  [[193  83 246]\n",
      "   [ 78 226 138]\n",
      "   [132 196 171]\n",
      "   ...\n",
      "   [200  61  85]\n",
      "   [ 80 208 128]\n",
      "   [151 111  16]]\n",
      "\n",
      "  [[201 121 239]\n",
      "   [244 126 158]\n",
      "   [108 122 122]\n",
      "   ...\n",
      "   [176 159 229]\n",
      "   [ 18 130 172]\n",
      "   [255 164  75]]]\n",
      "\n",
      "\n",
      " [[[ 91 103 196]\n",
      "   [ 87  31 234]\n",
      "   [ 10  74 206]\n",
      "   ...\n",
      "   [ 84 209 235]\n",
      "   [ 11   5 106]\n",
      "   [111 211 230]]\n",
      "\n",
      "  [[  9  24 155]\n",
      "   [ 44 219  43]\n",
      "   [211  40  52]\n",
      "   ...\n",
      "   [132 191  89]\n",
      "   [190 147 226]\n",
      "   [150 143 156]]\n",
      "\n",
      "  [[ 53   1  78]\n",
      "   [113  51  75]\n",
      "   [157 122  50]\n",
      "   ...\n",
      "   [218 110 161]\n",
      "   [170 242 198]\n",
      "   [170 203  27]]\n",
      "\n",
      "  ...\n",
      "\n",
      "  [[ 13  41 153]\n",
      "   [133  77 149]\n",
      "   [178 123 123]\n",
      "   ...\n",
      "   [  3 241 161]\n",
      "   [ 37  86 164]\n",
      "   [  0 156 114]]\n",
      "\n",
      "  [[243 222 180]\n",
      "   [ 79 184 188]\n",
      "   [133  99  47]\n",
      "   ...\n",
      "   [120  84 115]\n",
      "   [178 189 139]\n",
      "   [129 243  60]]\n",
      "\n",
      "  [[197 105  77]\n",
      "   [250 229 214]\n",
      "   [119  90 115]\n",
      "   ...\n",
      "   [ 61  10 178]\n",
      "   [138 113  72]\n",
      "   [143  62  96]]]]\n",
      "(2, 200, 300, 3)\n"
     ]
    }
   ],
   "source": [
    "image1 = np.random.randint(low=0, high=256, size=(200, 300, 3), dtype=np.uint8)\n",
    "image2 = np.random.randint(low=0, high=256, size=(200, 300, 3), dtype=np.uint8)\n",
    "\n",
    "# Start your code here\n",
    "image1_expanded = np.expand_dims(image1, axis=0)\n",
    "image2_expanded = np.expand_dims(image2, axis=0)\n",
    "images = np.concatenate((image1_expanded, image2_expanded), axis=0)\n",
    "print(images)\n",
    "print(images.shape)"
   ]
  },
  {
   "cell_type": "markdown",
   "metadata": {},
   "source": [
    "---"
   ]
  },
  {
   "cell_type": "markdown",
   "metadata": {},
   "source": [
    "### 5. The following array is given:\n",
    "```\n",
    "A = np.array([[[1, 2, 3],\n",
    "               [6, 3, 2]]])\n",
    "```\n",
    "Shape of this array is (1, 2, 3). Remove the unnecessary first dimension and extract (2, 3) array and print it to the console as shown below.\n",
    "\n",
    "Tip: Use the np.squeeze() function."
   ]
  },
  {
   "cell_type": "code",
   "execution_count": 14,
   "metadata": {},
   "outputs": [
    {
     "name": "stdout",
     "output_type": "stream",
     "text": [
      "[[1 2 3]\n",
      " [6 3 2]]\n"
     ]
    }
   ],
   "source": [
    "A = np.array([[[1, 2, 3], [6, 3, 2]]])\n",
    "print(np.squeeze(A))"
   ]
  },
  {
   "cell_type": "markdown",
   "metadata": {},
   "source": [
    "## Congratulate, Day 9 Finished!"
   ]
  }
 ],
 "metadata": {
  "kernelspec": {
   "display_name": "Python 3",
   "language": "python",
   "name": "python3"
  },
  "language_info": {
   "codemirror_mode": {
    "name": "ipython",
    "version": 3
   },
   "file_extension": ".py",
   "mimetype": "text/x-python",
   "name": "python",
   "nbconvert_exporter": "python",
   "pygments_lexer": "ipython3",
   "version": "3.9.5"
  }
 },
 "nbformat": 4,
 "nbformat_minor": 2
}
