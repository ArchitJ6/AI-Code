{
 "cells": [
  {
   "cell_type": "markdown",
   "metadata": {},
   "source": [
    "# Day 10 - Pandas"
   ]
  },
  {
   "cell_type": "code",
   "execution_count": 1,
   "metadata": {},
   "outputs": [],
   "source": [
    "import pandas as pd\n",
    "import numpy as np"
   ]
  },
  {
   "cell_type": "markdown",
   "metadata": {},
   "source": [
    "### 1. The df DataFrame is given below. Calculate the cumulative sum for each column and print result to the console.\n",
    "Tip: Use the pd.DataFrame.cumsum() method."
   ]
  },
  {
   "cell_type": "code",
   "execution_count": 2,
   "metadata": {},
   "outputs": [
    {
     "name": "stdout",
     "output_type": "stream",
     "text": [
      "        col1      col2\n",
      "0   0.374540 -1.012831\n",
      "1   1.325254 -0.698584\n",
      "2   2.057248 -1.606608\n",
      "3   2.655907 -3.018912\n",
      "4   2.811925 -1.553263\n",
      "5   2.967920 -1.779039\n",
      "6   3.026004 -1.711511\n",
      "7   3.892180 -3.136259\n",
      "8   4.493295 -3.680642\n",
      "9   5.201367 -3.569719\n",
      "10  5.221952 -4.720713\n",
      "11  6.191862 -4.345015\n",
      "12  7.024304 -4.945653\n",
      "13  7.236643 -5.237347\n",
      "14  7.418468 -5.839054\n",
      "15  7.601873 -3.986776\n",
      "16  7.906115 -4.000273\n",
      "17  8.430872 -5.057984\n",
      "18  8.862817 -4.235439\n",
      "19  9.154046 -5.456283\n"
     ]
    }
   ],
   "source": [
    "np.random.seed(42)\n",
    "s1 = pd.Series(np.random.rand(20))\n",
    "s2 = pd.Series(np.random.randn(20))\n",
    "\n",
    "df = pd.concat([s1, s2], axis=1)\n",
    "df.columns = ['col1', 'col2']\n",
    "\n",
    "# Start your code here\n",
    "print(pd.DataFrame.cumsum(df, axis=0))"
   ]
  },
  {
   "cell_type": "markdown",
   "metadata": {},
   "source": [
    "---"
   ]
  },
  {
   "cell_type": "markdown",
   "metadata": {},
   "source": [
    "### 2. The df DataFrame is given below. Calculate the median for the col2 and print it to the console."
   ]
  },
  {
   "cell_type": "code",
   "execution_count": 5,
   "metadata": {},
   "outputs": [
    {
     "name": "stdout",
     "output_type": "stream",
     "text": [
      "-0.4180382371592297\n"
     ]
    }
   ],
   "source": [
    "# Method 1\n",
    "print(df.col2.median())\n",
    "\n",
    "# Method 2\n",
    "print(df.col2.quantile())"
   ]
  },
  {
   "cell_type": "markdown",
   "metadata": {},
   "source": [
    "---"
   ]
  },
  {
   "cell_type": "markdown",
   "metadata": {},
   "source": [
    "### 3. The df DataFrame is given below. Extract rows for which the col2 takes values greater than 0.0 and print result to the console."
   ]
  },
  {
   "cell_type": "code",
   "execution_count": 7,
   "metadata": {},
   "outputs": [
    {
     "name": "stdout",
     "output_type": "stream",
     "text": [
      "        col1      col2\n",
      "1   0.950714  0.314247\n",
      "4   0.156019  1.465649\n",
      "6   0.058084  0.067528\n",
      "9   0.708073  0.110923\n",
      "11  0.969910  0.375698\n",
      "15  0.183405  1.852278\n",
      "18  0.431945  0.822545\n"
     ]
    }
   ],
   "source": [
    "# Method 1\n",
    "print(df[df['col2'] > 0.0])\n",
    "\n",
    "# Method 2\n",
    "print(df.query(\"col2 > 0\"))"
   ]
  },
  {
   "cell_type": "markdown",
   "metadata": {},
   "source": [
    "---"
   ]
  },
  {
   "cell_type": "markdown",
   "metadata": {},
   "source": [
    "### 4. The df DataFrame is given below. Extract first five rows of the df and convert into the dictionary as shown below. In response, print this dictionary to the console."
   ]
  },
  {
   "cell_type": "code",
   "execution_count": 8,
   "metadata": {},
   "outputs": [
    {
     "name": "stdout",
     "output_type": "stream",
     "text": [
      "{'col1': {0: 0.3745401188473625, 1: 0.9507143064099162, 2: 0.7319939418114051, 3: 0.5986584841970366, 4: 0.15601864044243652}, 'col2': {0: -1.0128311203344238, 1: 0.3142473325952739, 2: -0.9080240755212109, 3: -1.4123037013352915, 4: 1.465648768921554}}\n"
     ]
    }
   ],
   "source": [
    "# Method 1\n",
    "print(df.head().to_dict())\n",
    "\n",
    "# Method 2\n",
    "print(df[:5].to_dict())"
   ]
  },
  {
   "cell_type": "markdown",
   "metadata": {},
   "source": [
    "---"
   ]
  },
  {
   "cell_type": "markdown",
   "metadata": {},
   "source": [
    "### 5. The df DataFrame is given below. Extract the first five rows of this object, convert to HTML and assign it to the df_html variable. Print the contents of the df_html variable to the console."
   ]
  },
  {
   "cell_type": "code",
   "execution_count": 9,
   "metadata": {},
   "outputs": [
    {
     "name": "stdout",
     "output_type": "stream",
     "text": [
      "<table border=\"1\" class=\"dataframe\">\n",
      "  <thead>\n",
      "    <tr style=\"text-align: right;\">\n",
      "      <th></th>\n",
      "      <th>col1</th>\n",
      "      <th>col2</th>\n",
      "    </tr>\n",
      "  </thead>\n",
      "  <tbody>\n",
      "    <tr>\n",
      "      <th>0</th>\n",
      "      <td>0.374540</td>\n",
      "      <td>-1.012831</td>\n",
      "    </tr>\n",
      "    <tr>\n",
      "      <th>1</th>\n",
      "      <td>0.950714</td>\n",
      "      <td>0.314247</td>\n",
      "    </tr>\n",
      "    <tr>\n",
      "      <th>2</th>\n",
      "      <td>0.731994</td>\n",
      "      <td>-0.908024</td>\n",
      "    </tr>\n",
      "    <tr>\n",
      "      <th>3</th>\n",
      "      <td>0.598658</td>\n",
      "      <td>-1.412304</td>\n",
      "    </tr>\n",
      "    <tr>\n",
      "      <th>4</th>\n",
      "      <td>0.156019</td>\n",
      "      <td>1.465649</td>\n",
      "    </tr>\n",
      "  </tbody>\n",
      "</table>\n"
     ]
    }
   ],
   "source": [
    "# Method 1\n",
    "print(df.head().to_html())\n",
    "\n",
    "# Method 2\n",
    "print(df[:5].to_html())"
   ]
  },
  {
   "cell_type": "markdown",
   "metadata": {},
   "source": [
    "## Congratulate, Day 10 Finished!"
   ]
  }
 ],
 "metadata": {
  "kernelspec": {
   "display_name": "Python 3",
   "language": "python",
   "name": "python3"
  },
  "language_info": {
   "codemirror_mode": {
    "name": "ipython",
    "version": 3
   },
   "file_extension": ".py",
   "mimetype": "text/x-python",
   "name": "python",
   "nbconvert_exporter": "python",
   "pygments_lexer": "ipython3",
   "version": "3.9.5"
  }
 },
 "nbformat": 4,
 "nbformat_minor": 2
}
