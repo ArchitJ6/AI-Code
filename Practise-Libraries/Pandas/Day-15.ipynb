{
 "cells": [
  {
   "cell_type": "markdown",
   "metadata": {},
   "source": [
    "# Day 15 - Pandas"
   ]
  },
  {
   "cell_type": "code",
   "execution_count": 1,
   "metadata": {},
   "outputs": [],
   "source": [
    "import pandas as pd\n",
    "import numpy as np"
   ]
  },
  {
   "cell_type": "markdown",
   "metadata": {},
   "source": [
    "### 1. The df DataFrame is given below. Check the distribution of the transmission column and perform the following mapping:\n",
    "- 'Manual' -> 0\n",
    "- 'Automatic' -> 1\n",
    "\n",
    "Print the first five rows of transmission column."
   ]
  },
  {
   "cell_type": "code",
   "execution_count": 2,
   "metadata": {},
   "outputs": [
    {
     "data": {
      "text/plain": [
       "0    0\n",
       "1    0\n",
       "2    0\n",
       "3    0\n",
       "4    1\n",
       "Name: transmission, dtype: int64"
      ]
     },
     "execution_count": 2,
     "metadata": {},
     "output_type": "execute_result"
    }
   ],
   "source": [
    "url = 'https://storage.googleapis.com/esmartdata-courses-files/dash-course/data.csv'\n",
    "df = pd.read_csv(url, index_col=0)\n",
    "df.columns = [col.lower() for col in df.columns]\n",
    "\n",
    "# Start your code here\n",
    "df.transmission = df.transmission.map({'Manual': 0, 'Automatic': 1})\n",
    "df.transmission.head()"
   ]
  },
  {
   "cell_type": "markdown",
   "metadata": {},
   "source": [
    "---"
   ]
  },
  {
   "cell_type": "markdown",
   "metadata": {},
   "source": [
    "### 2. The df DataFrame is given below. Save this object to the cars.csv file (do not save the index)."
   ]
  },
  {
   "cell_type": "code",
   "execution_count": 3,
   "metadata": {},
   "outputs": [],
   "source": [
    "df.to_csv('cars.csv', index=False)"
   ]
  },
  {
   "cell_type": "markdown",
   "metadata": {},
   "source": [
    "---"
   ]
  },
  {
   "cell_type": "markdown",
   "metadata": {},
   "source": [
    "### 3. Using pandas load the london_bike.csv file into the DataFrame and assign to df variable:\n",
    "```\n",
    "https://storage.googleapis.com/esmartdata-courses-files/ds-bootcamp/london_bike.csv\n",
    "```\n",
    "In response print basic information about this DataFrame to the console."
   ]
  },
  {
   "cell_type": "code",
   "execution_count": 4,
   "metadata": {},
   "outputs": [
    {
     "name": "stdout",
     "output_type": "stream",
     "text": [
      "<class 'pandas.core.frame.DataFrame'>\n",
      "Index: 17414 entries, 2015-01-04 00:00:00 to 2017-01-03 23:00:00\n",
      "Data columns (total 9 columns):\n",
      " #   Column        Non-Null Count  Dtype  \n",
      "---  ------        --------------  -----  \n",
      " 0   cnt           17414 non-null  int64  \n",
      " 1   t1            17414 non-null  float64\n",
      " 2   t2            17414 non-null  float64\n",
      " 3   hum           17414 non-null  float64\n",
      " 4   wind_speed    17414 non-null  float64\n",
      " 5   weather_code  17414 non-null  float64\n",
      " 6   is_holiday    17414 non-null  float64\n",
      " 7   is_weekend    17414 non-null  float64\n",
      " 8   season        17414 non-null  float64\n",
      "dtypes: float64(8), int64(1)\n",
      "memory usage: 1.3+ MB\n"
     ]
    }
   ],
   "source": [
    "df = pd.read_csv('https://storage.googleapis.com/esmartdata-courses-files/ds-bootcamp/london_bike.csv', index_col=0)\n",
    "df.info()"
   ]
  },
  {
   "cell_type": "markdown",
   "metadata": {},
   "source": [
    "---"
   ]
  },
  {
   "cell_type": "markdown",
   "metadata": {},
   "source": [
    "### 4. The df DataFrame is given below. Print the first and last five rows of this object and look at the data."
   ]
  },
  {
   "cell_type": "code",
   "execution_count": 7,
   "metadata": {},
   "outputs": [
    {
     "name": "stdout",
     "output_type": "stream",
     "text": [
      "                     cnt   t1   t2    hum  wind_speed  weather_code  \\\n",
      "timestamp                                                             \n",
      "2015-01-04 00:00:00  182  3.0  2.0   93.0         6.0           3.0   \n",
      "2015-01-04 01:00:00  138  3.0  2.5   93.0         5.0           1.0   \n",
      "2015-01-04 02:00:00  134  2.5  2.5   96.5         0.0           1.0   \n",
      "2015-01-04 03:00:00   72  2.0  2.0  100.0         0.0           1.0   \n",
      "2015-01-04 04:00:00   47  2.0  0.0   93.0         6.5           1.0   \n",
      "\n",
      "                     is_holiday  is_weekend  season  \n",
      "timestamp                                            \n",
      "2015-01-04 00:00:00         0.0         1.0     3.0  \n",
      "2015-01-04 01:00:00         0.0         1.0     3.0  \n",
      "2015-01-04 02:00:00         0.0         1.0     3.0  \n",
      "2015-01-04 03:00:00         0.0         1.0     3.0  \n",
      "2015-01-04 04:00:00         0.0         1.0     3.0  \n",
      "                      cnt   t1   t2   hum  wind_speed  weather_code  \\\n",
      "timestamp                                                             \n",
      "2017-01-03 19:00:00  1042  5.0  1.0  81.0        19.0           3.0   \n",
      "2017-01-03 20:00:00   541  5.0  1.0  81.0        21.0           4.0   \n",
      "2017-01-03 21:00:00   337  5.5  1.5  78.5        24.0           4.0   \n",
      "2017-01-03 22:00:00   224  5.5  1.5  76.0        23.0           4.0   \n",
      "2017-01-03 23:00:00   139  5.0  1.0  76.0        22.0           2.0   \n",
      "\n",
      "                     is_holiday  is_weekend  season  \n",
      "timestamp                                            \n",
      "2017-01-03 19:00:00         0.0         0.0     3.0  \n",
      "2017-01-03 20:00:00         0.0         0.0     3.0  \n",
      "2017-01-03 21:00:00         0.0         0.0     3.0  \n",
      "2017-01-03 22:00:00         0.0         0.0     3.0  \n",
      "2017-01-03 23:00:00         0.0         0.0     3.0  \n"
     ]
    }
   ],
   "source": [
    "print(df.head())\n",
    "print(df.tail())"
   ]
  },
  {
   "cell_type": "markdown",
   "metadata": {},
   "source": [
    "---"
   ]
  },
  {
   "cell_type": "markdown",
   "metadata": {},
   "source": [
    "### 5. The df DataFrame is given below. Note that the timestamp column is of object type. Change it to datetime type.\n",
    "\n",
    "Using the pd.DataFrame.info() print some information about this DataFrame to the console.\n",
    "\n",
    "Tip: Use the pd.to_datetime() function."
   ]
  },
  {
   "cell_type": "code",
   "execution_count": 11,
   "metadata": {},
   "outputs": [
    {
     "name": "stdout",
     "output_type": "stream",
     "text": [
      "<class 'pandas.core.frame.DataFrame'>\n",
      "RangeIndex: 17414 entries, 0 to 17413\n",
      "Data columns (total 10 columns):\n",
      " #   Column        Non-Null Count  Dtype         \n",
      "---  ------        --------------  -----         \n",
      " 0   timestamp     17414 non-null  datetime64[ns]\n",
      " 1   cnt           17414 non-null  int64         \n",
      " 2   t1            17414 non-null  float64       \n",
      " 3   t2            17414 non-null  float64       \n",
      " 4   hum           17414 non-null  float64       \n",
      " 5   wind_speed    17414 non-null  float64       \n",
      " 6   weather_code  17414 non-null  float64       \n",
      " 7   is_holiday    17414 non-null  float64       \n",
      " 8   is_weekend    17414 non-null  float64       \n",
      " 9   season        17414 non-null  float64       \n",
      "dtypes: datetime64[ns](1), float64(8), int64(1)\n",
      "memory usage: 1.3 MB\n"
     ]
    }
   ],
   "source": [
    "url = 'https://storage.googleapis.com/esmartdata-courses-files/ds-bootcamp/london_bike.csv'\n",
    "df = pd.read_csv(url)\n",
    "\n",
    "# Start your code here\n",
    "df['timestamp'] = pd.to_datetime(df['timestamp'])\n",
    "df.info()"
   ]
  },
  {
   "cell_type": "markdown",
   "metadata": {},
   "source": [
    "## Congratulate, Day 15 Finished!"
   ]
  }
 ],
 "metadata": {
  "kernelspec": {
   "display_name": "Python 3",
   "language": "python",
   "name": "python3"
  },
  "language_info": {
   "codemirror_mode": {
    "name": "ipython",
    "version": 3
   },
   "file_extension": ".py",
   "mimetype": "text/x-python",
   "name": "python",
   "nbconvert_exporter": "python",
   "pygments_lexer": "ipython3",
   "version": "3.9.5"
  }
 },
 "nbformat": 4,
 "nbformat_minor": 2
}
