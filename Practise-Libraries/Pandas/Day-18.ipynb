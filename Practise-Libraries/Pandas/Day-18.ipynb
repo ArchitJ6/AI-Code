{
 "cells": [
  {
   "cell_type": "markdown",
   "id": "9ee97a41-ea18-49de-a29f-6870139a213d",
   "metadata": {},
   "source": [
    "# Day 18 - Pandas"
   ]
  },
  {
   "cell_type": "code",
   "execution_count": 1,
   "id": "3219af98-1f53-4824-ae32-e894cb2f3355",
   "metadata": {},
   "outputs": [],
   "source": [
    "import pandas as pd\n",
    "import numpy as np"
   ]
  },
  {
   "cell_type": "markdown",
   "id": "eb8c057c-0fc9-4b14-a338-01569f06a69d",
   "metadata": {},
   "source": [
    "### 1. The df DataFrame is given below. Remove duplicates from this object. In response, using pd.DataFrame.info() print some information about this DataFrame to the console."
   ]
  },
  {
   "cell_type": "code",
   "execution_count": 2,
   "id": "cd056d79-bdc5-46f9-98c4-d2b033fb83ef",
   "metadata": {},
   "outputs": [
    {
     "name": "stdout",
     "output_type": "stream",
     "text": [
      "<class 'pandas.core.frame.DataFrame'>\n",
      "Index: 1337 entries, 0 to 1337\n",
      "Data columns (total 7 columns):\n",
      " #   Column    Non-Null Count  Dtype  \n",
      "---  ------    --------------  -----  \n",
      " 0   age       1337 non-null   int64  \n",
      " 1   sex       1337 non-null   object \n",
      " 2   bmi       1337 non-null   float64\n",
      " 3   children  1337 non-null   int64  \n",
      " 4   smoker    1337 non-null   object \n",
      " 5   region    1337 non-null   object \n",
      " 6   charges   1337 non-null   float64\n",
      "dtypes: float64(2), int64(2), object(3)\n",
      "memory usage: 83.6+ KB\n"
     ]
    }
   ],
   "source": [
    "url = 'https://storage.googleapis.com/esmartdata-courses-files/ml-course/insurance.csv'\n",
    "df = pd.read_csv(url)\n",
    "\n",
    "# Start your code here\n",
    "df = df.drop_duplicates()\n",
    "df.info()"
   ]
  },
  {
   "cell_type": "markdown",
   "id": "4c34d448-f496-4514-ac5b-be9f5975e507",
   "metadata": {},
   "source": [
    "---"
   ]
  },
  {
   "cell_type": "markdown",
   "id": "7fb1b079-f075-4069-9415-3b5b5952210d",
   "metadata": {},
   "source": [
    "### 2. The df DataFrame is given below. Print to the console only columns with the object type.\n",
    "\n",
    "Tip: Use the pd.DataFrame.select_dtypes()."
   ]
  },
  {
   "cell_type": "code",
   "execution_count": 3,
   "id": "905ca9b9-4c9b-40cb-a907-2b0a611226af",
   "metadata": {},
   "outputs": [
    {
     "name": "stdout",
     "output_type": "stream",
     "text": [
      "         sex smoker     region\n",
      "0     female    yes  southwest\n",
      "1       male     no  southeast\n",
      "2       male     no  southeast\n",
      "3       male     no  northwest\n",
      "4       male     no  northwest\n",
      "...      ...    ...        ...\n",
      "1333    male     no  northwest\n",
      "1334  female     no  northeast\n",
      "1335  female     no  southeast\n",
      "1336  female     no  southwest\n",
      "1337  female    yes  northwest\n",
      "\n",
      "[1337 rows x 3 columns]\n"
     ]
    }
   ],
   "source": [
    "print(pd.DataFrame.select_dtypes(df,'object'))"
   ]
  },
  {
   "cell_type": "markdown",
   "id": "999cb0e1-25d7-4719-94d1-7bd9bd5cd934",
   "metadata": {},
   "source": [
    "---"
   ]
  },
  {
   "cell_type": "markdown",
   "id": "193046da-2867-478e-bd6e-3c6197e166fd",
   "metadata": {},
   "source": [
    "### 3. The df DataFrame is given below. Convert following columns:\n",
    "\n",
    "- sex\n",
    "- smoker\n",
    "- region\n",
    "\n",
    "to category type.\n",
    "In response, using pd.DataFrame.info() print some information about this DataFrame to the console.\n",
    "\n",
    "Tip: Use the pd.DataFrame.astype()."
   ]
  },
  {
   "cell_type": "code",
   "execution_count": 4,
   "id": "ce6c4395-1ca4-4d4f-95d2-d24d11430f0d",
   "metadata": {},
   "outputs": [
    {
     "name": "stdout",
     "output_type": "stream",
     "text": [
      "<class 'pandas.core.frame.DataFrame'>\n",
      "Index: 1337 entries, 0 to 1337\n",
      "Data columns (total 7 columns):\n",
      " #   Column    Non-Null Count  Dtype   \n",
      "---  ------    --------------  -----   \n",
      " 0   age       1337 non-null   int64   \n",
      " 1   sex       1337 non-null   category\n",
      " 2   bmi       1337 non-null   float64 \n",
      " 3   children  1337 non-null   int64   \n",
      " 4   smoker    1337 non-null   category\n",
      " 5   region    1337 non-null   category\n",
      " 6   charges   1337 non-null   float64 \n",
      "dtypes: category(3), float64(2), int64(2)\n",
      "memory usage: 56.6 KB\n"
     ]
    }
   ],
   "source": [
    "cat_vars = ['sex', 'smoker', 'region']\n",
    "for col in cat_vars:\n",
    "    df[col] = df[col].astype('category')\n",
    "df.info()"
   ]
  },
  {
   "cell_type": "markdown",
   "id": "c15d162a-1e3e-4ef7-9fca-06fc3802b4fc",
   "metadata": {},
   "source": [
    "---"
   ]
  },
  {
   "cell_type": "markdown",
   "id": "f0727228-2585-40fb-87fb-d391a8b1aba6",
   "metadata": {},
   "source": [
    "### 4. The df DataFrame is given below. Extract all names of numeric columns (float, int) from this object as a list and print it to the console."
   ]
  },
  {
   "cell_type": "code",
   "execution_count": 5,
   "id": "bdefb4c3-4743-41da-ab47-a70a043d57ee",
   "metadata": {},
   "outputs": [
    {
     "name": "stdout",
     "output_type": "stream",
     "text": [
      "['age', 'bmi', 'children', 'charges']\n"
     ]
    }
   ],
   "source": [
    "# Method 1\n",
    "print(list(pd.DataFrame.select_dtypes(df, ['int', 'float'])))\n",
    "\n",
    "# Method 2\n",
    "num_vars = list(df.select_dtypes(include=['float', 'int']).columns)\n",
    "print(num_vars)"
   ]
  },
  {
   "cell_type": "markdown",
   "id": "6f75bf43-a0e1-401f-9b80-b8c4cd5ed33f",
   "metadata": {},
   "source": [
    "---"
   ]
  },
  {
   "cell_type": "markdown",
   "id": "10ee91db-8b57-48ec-9e93-37784e96c087",
   "metadata": {},
   "source": [
    "### 5. The df DataFrame is given below. Follow the steps below:\n",
    "\n",
    "assign to the variable df_cat DataFrame with categorical columns from the df (create a copy)\n",
    "\n",
    "assign to the variable df_num DataFrame with numerical variables from the df (create a copy)\n",
    "\n",
    "Print the first five rows of the df_cat and df_num to the console."
   ]
  },
  {
   "cell_type": "code",
   "execution_count": 6,
   "id": "b64a86cf-3f11-4609-9949-4a6412348776",
   "metadata": {},
   "outputs": [
    {
     "name": "stdout",
     "output_type": "stream",
     "text": [
      "      sex smoker     region\n",
      "0  female    yes  southwest\n",
      "1    male     no  southeast\n",
      "2    male     no  southeast\n",
      "3    male     no  northwest\n",
      "4    male     no  northwest\n",
      "   age     bmi  children      charges\n",
      "0   19  27.900         0  16884.92400\n",
      "1   18  33.770         1   1725.55230\n",
      "2   28  33.000         3   4449.46200\n",
      "3   33  22.705         0  21984.47061\n",
      "4   32  28.880         0   3866.85520\n"
     ]
    }
   ],
   "source": [
    "df_cat = df.select_dtypes(include=['category']).copy()\n",
    "df_num = df.select_dtypes(include=['int', 'float']).copy()\n",
    "\n",
    "print(df_cat.head())\n",
    "print(df_num.head())"
   ]
  },
  {
   "cell_type": "markdown",
   "id": "1bfd9ebc-b6b6-4a91-8a95-d5e794f8097a",
   "metadata": {},
   "source": [
    "## Congratulate, Day 18 Finished!"
   ]
  }
 ],
 "metadata": {
  "kernelspec": {
   "display_name": "Python 3 (ipykernel)",
   "language": "python",
   "name": "python3"
  },
  "language_info": {
   "codemirror_mode": {
    "name": "ipython",
    "version": 3
   },
   "file_extension": ".py",
   "mimetype": "text/x-python",
   "name": "python",
   "nbconvert_exporter": "python",
   "pygments_lexer": "ipython3",
   "version": "3.9.5"
  }
 },
 "nbformat": 4,
 "nbformat_minor": 5
}
