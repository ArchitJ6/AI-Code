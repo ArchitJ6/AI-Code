{
 "cells": [
  {
   "cell_type": "markdown",
   "id": "38dfe86b-18af-4815-978e-90a6eec9dee2",
   "metadata": {},
   "source": [
    "# Day 19 - Pandas"
   ]
  },
  {
   "cell_type": "code",
   "execution_count": 1,
   "id": "6503a402-2cf4-43b0-ac73-6dc652fb541d",
   "metadata": {},
   "outputs": [],
   "source": [
    "import pandas as pd"
   ]
  },
  {
   "cell_type": "markdown",
   "id": "abd7f4d1-436f-4a2a-9c8f-5845820c265d",
   "metadata": {},
   "source": [
    "### 1. The df_cat DataFrame is given below. Print basic statistics of this DataFrame to the console."
   ]
  },
  {
   "cell_type": "code",
   "execution_count": 2,
   "id": "acaf0753-78d6-435b-be85-63d8c07a6b0d",
   "metadata": {},
   "outputs": [
    {
     "name": "stdout",
     "output_type": "stream",
     "text": [
      "         sex smoker     region\n",
      "count   1338   1338       1338\n",
      "unique     2      2          4\n",
      "top     male     no  southeast\n",
      "freq     676   1064        364\n"
     ]
    }
   ],
   "source": [
    "url = 'https://storage.googleapis.com/esmartdata-courses-files/ml-course/insurance.csv'\n",
    "df = pd.read_csv(url)\n",
    "for col in list(df.select_dtypes(include=['object']).columns):\n",
    "    df[col] = df[col].astype('category')\n",
    "df_cat = df.select_dtypes(include=['category']).copy()\n",
    "\n",
    "# Start your code here\n",
    "print(df_cat.describe())"
   ]
  },
  {
   "cell_type": "markdown",
   "id": "5f5b48b2-38bb-4c7c-9ec2-912e00011362",
   "metadata": {},
   "source": [
    "---"
   ]
  },
  {
   "cell_type": "markdown",
   "id": "60652749-700a-449d-9a9b-8b381fcd0ea2",
   "metadata": {},
   "source": [
    "### 2. The df_num DataFrame is given below. Print basic statistics of this DataFrame to the console."
   ]
  },
  {
   "cell_type": "code",
   "execution_count": 3,
   "id": "78ea3750-4b83-46fb-b180-ca2e7e0d2e79",
   "metadata": {},
   "outputs": [
    {
     "name": "stdout",
     "output_type": "stream",
     "text": [
      "               age          bmi     children       charges\n",
      "count  1338.000000  1338.000000  1338.000000   1338.000000\n",
      "mean     39.207025    30.663397     1.094918  13270.422265\n",
      "std      14.049960     6.098187     1.205493  12110.011237\n",
      "min      18.000000    15.960000     0.000000   1121.873900\n",
      "25%      27.000000    26.296250     0.000000   4740.287150\n",
      "50%      39.000000    30.400000     1.000000   9382.033000\n",
      "75%      51.000000    34.693750     2.000000  16639.912515\n",
      "max      64.000000    53.130000     5.000000  63770.428010\n"
     ]
    }
   ],
   "source": [
    "df_num = df.select_dtypes(include=['float', 'int']).copy()\n",
    "\n",
    "# Start your code here\n",
    "print(df_num.describe())"
   ]
  },
  {
   "cell_type": "markdown",
   "id": "2a0a17cc-bce4-4ae1-9da1-e1959bdb1af0",
   "metadata": {},
   "source": [
    "---"
   ]
  },
  {
   "cell_type": "markdown",
   "id": "723a5e9d-1fc4-4350-9abf-1af021c3a862",
   "metadata": {},
   "source": [
    "### 3. The df DataFrame is given below. Calculate basic statistics of this object only for numeric variables, transpose the result and extract two columns:\n",
    "- mean\n",
    "- std\n",
    "\n",
    "In response, print result to the console."
   ]
  },
  {
   "cell_type": "code",
   "execution_count": 4,
   "id": "882bab05-c882-405f-b6a7-1068d3dea552",
   "metadata": {},
   "outputs": [
    {
     "name": "stdout",
     "output_type": "stream",
     "text": [
      "                  mean           std\n",
      "age          39.207025     14.049960\n",
      "bmi          30.663397      6.098187\n",
      "children      1.094918      1.205493\n",
      "charges   13270.422265  12110.011237\n"
     ]
    }
   ],
   "source": [
    "print(df.describe().T[['mean', 'std']])"
   ]
  },
  {
   "cell_type": "markdown",
   "id": "00a75583-fa9e-4fbd-aec2-ab4fd18dd757",
   "metadata": {},
   "source": [
    "---"
   ]
  },
  {
   "cell_type": "markdown",
   "id": "bec65d1d-f12a-474d-946a-da77eaf1aa2c",
   "metadata": {},
   "source": [
    "### 4. The df DataFrame is given below. Check for missing values in this DataFrame and print result to the console."
   ]
  },
  {
   "cell_type": "code",
   "execution_count": 5,
   "id": "69a25ee1-85ed-4c43-907e-c1adec1d7fc3",
   "metadata": {},
   "outputs": [
    {
     "name": "stdout",
     "output_type": "stream",
     "text": [
      "age         0\n",
      "sex         0\n",
      "bmi         0\n",
      "children    0\n",
      "smoker      0\n",
      "region      0\n",
      "charges     0\n",
      "dtype: int64\n"
     ]
    }
   ],
   "source": [
    "print(df.isnull().sum())"
   ]
  },
  {
   "cell_type": "markdown",
   "id": "ebb3e67b-652c-4a91-8d79-ac72544047cf",
   "metadata": {},
   "source": [
    "---"
   ]
  },
  {
   "cell_type": "markdown",
   "id": "8d86fac6-ed9c-40f7-a131-948340905b6b",
   "metadata": {},
   "source": [
    "### 5. The df DataFrame is given below. Convert all categorical variables to 0-1 encoding and assign it to the df_dummies variable. In response, print first five rows of df_dummies to the console.\n",
    "Tip: Use the pd.get_dummies() function with the drop_first = True argument."
   ]
  },
  {
   "cell_type": "code",
   "execution_count": 6,
   "id": "9290947e-1a06-48db-8e17-405f6076f118",
   "metadata": {},
   "outputs": [
    {
     "name": "stdout",
     "output_type": "stream",
     "text": [
      "   age     bmi  children      charges  sex_male  smoker_yes  region_northwest  \\\n",
      "0   19  27.900         0  16884.92400     False        True             False   \n",
      "1   18  33.770         1   1725.55230      True       False             False   \n",
      "2   28  33.000         3   4449.46200      True       False             False   \n",
      "3   33  22.705         0  21984.47061      True       False              True   \n",
      "4   32  28.880         0   3866.85520      True       False              True   \n",
      "\n",
      "   region_southeast  region_southwest  \n",
      "0             False              True  \n",
      "1              True             False  \n",
      "2              True             False  \n",
      "3             False             False  \n",
      "4             False             False  \n"
     ]
    }
   ],
   "source": [
    "df = pd.get_dummies(df, drop_first=True)\n",
    "print(df.head())"
   ]
  },
  {
   "cell_type": "markdown",
   "id": "d09bcb61-2b87-4962-a0cc-4b5d8db89107",
   "metadata": {},
   "source": [
    "## Congratulate, Day 19 Finished!"
   ]
  }
 ],
 "metadata": {
  "kernelspec": {
   "display_name": "Python 3 (ipykernel)",
   "language": "python",
   "name": "python3"
  },
  "language_info": {
   "codemirror_mode": {
    "name": "ipython",
    "version": 3
   },
   "file_extension": ".py",
   "mimetype": "text/x-python",
   "name": "python",
   "nbconvert_exporter": "python",
   "pygments_lexer": "ipython3",
   "version": "3.9.5"
  }
 },
 "nbformat": 4,
 "nbformat_minor": 5
}
