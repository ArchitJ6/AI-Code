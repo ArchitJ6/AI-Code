{
 "cells": [
  {
   "cell_type": "markdown",
   "id": "415a0d1a-f969-4fcf-a81b-a2ccdc94eaee",
   "metadata": {},
   "source": [
    "# Day 20 - Pandas"
   ]
  },
  {
   "cell_type": "code",
   "execution_count": 1,
   "id": "3fed4600-8001-4352-b4ca-5f4bada7d587",
   "metadata": {},
   "outputs": [],
   "source": [
    "import pandas as pd"
   ]
  },
  {
   "cell_type": "markdown",
   "id": "4d9f6581-02b2-459b-9abc-cb0415d4fa11",
   "metadata": {},
   "source": [
    "### 1. The df DataFrame is given below. Calculate the correlations of columns in the df_dummies and assign it to the corr variable. In response, print corr variable to the console."
   ]
  },
  {
   "cell_type": "code",
   "execution_count": 2,
   "id": "fe1943e3-ac68-47bc-94ae-72f609171c00",
   "metadata": {},
   "outputs": [
    {
     "name": "stdout",
     "output_type": "stream",
     "text": [
      "                       age       bmi  children   charges  sex_male  \\\n",
      "age               1.000000  0.109272  0.042469  0.299008 -0.020856   \n",
      "bmi               0.109272  1.000000  0.012759  0.198341  0.046371   \n",
      "children          0.042469  0.012759  1.000000  0.067998  0.017163   \n",
      "charges           0.299008  0.198341  0.067998  1.000000  0.057292   \n",
      "sex_male         -0.020856  0.046371  0.017163  0.057292  1.000000   \n",
      "smoker_yes       -0.025019  0.003750  0.007673  0.787251  0.076185   \n",
      "region_northwest -0.000407 -0.135996  0.024806 -0.039905 -0.011156   \n",
      "region_southeast -0.011642  0.270025 -0.023066  0.073982  0.017117   \n",
      "region_southwest  0.010016 -0.006205  0.021914 -0.043210 -0.004184   \n",
      "\n",
      "                  smoker_yes  region_northwest  region_southeast  \\\n",
      "age                -0.025019         -0.000407         -0.011642   \n",
      "bmi                 0.003750         -0.135996          0.270025   \n",
      "children            0.007673          0.024806         -0.023066   \n",
      "charges             0.787251         -0.039905          0.073982   \n",
      "sex_male            0.076185         -0.011156          0.017117   \n",
      "smoker_yes          1.000000         -0.036945          0.068498   \n",
      "region_northwest   -0.036945          1.000000         -0.346265   \n",
      "region_southeast    0.068498         -0.346265          1.000000   \n",
      "region_southwest   -0.036945         -0.320829         -0.346265   \n",
      "\n",
      "                  region_southwest  \n",
      "age                       0.010016  \n",
      "bmi                      -0.006205  \n",
      "children                  0.021914  \n",
      "charges                  -0.043210  \n",
      "sex_male                 -0.004184  \n",
      "smoker_yes               -0.036945  \n",
      "region_northwest         -0.320829  \n",
      "region_southeast         -0.346265  \n",
      "region_southwest          1.000000  \n"
     ]
    }
   ],
   "source": [
    "url = 'https://storage.googleapis.com/esmartdata-courses-files/ml-course/insurance.csv'\n",
    "df = pd.read_csv(url)\n",
    "for col in list(df.select_dtypes(include=['object']).columns):\n",
    "    df[col] = df[col].astype('category')\n",
    "df_dummies = pd.get_dummies(df, drop_first=True)\n",
    "\n",
    "# Start your code here\n",
    "corr = df_dummies.corr()\n",
    "print(corr)"
   ]
  },
  {
   "cell_type": "markdown",
   "id": "f01c8d31-76b4-4e22-be6b-0a5298fca2a3",
   "metadata": {},
   "source": [
    "---"
   ]
  },
  {
   "cell_type": "markdown",
   "id": "da3f255b-37b9-4120-bb72-4fa4c5105785",
   "metadata": {},
   "source": [
    "### 2. The corr DataFrame is given below. Extract charges column (as a DataFrame object), sort the values in descending order and print it to the console."
   ]
  },
  {
   "cell_type": "code",
   "execution_count": 3,
   "id": "cb21038c-839e-4f00-be38-4918d085bd62",
   "metadata": {},
   "outputs": [
    {
     "name": "stdout",
     "output_type": "stream",
     "text": [
      "                   charges\n",
      "charges           1.000000\n",
      "smoker_yes        0.787251\n",
      "age               0.299008\n",
      "bmi               0.198341\n",
      "region_southeast  0.073982\n",
      "children          0.067998\n",
      "sex_male          0.057292\n",
      "region_northwest -0.039905\n",
      "region_southwest -0.043210\n"
     ]
    }
   ],
   "source": [
    "print(corr[['charges']].sort_values(by='charges', ascending=False))"
   ]
  },
  {
   "cell_type": "markdown",
   "id": "8751495b-417a-432d-ba51-aaa69e4cfeaf",
   "metadata": {},
   "source": [
    "---"
   ]
  },
  {
   "cell_type": "markdown",
   "id": "7226dd27-d099-4d58-a695-a6494b80bdf1",
   "metadata": {},
   "source": [
    "### 3. The df DataFrame is given below. Make a copy of the df_dummies and assign to data variable. Then pop the charges column from this object and assign it to the target variable. In response, print the first five rows of data DataFrame, print blank line and the first five rows of target DataFrame."
   ]
  },
  {
   "cell_type": "code",
   "execution_count": 4,
   "id": "bd00b5d0-da26-46c7-9ac8-bfdf82bebb17",
   "metadata": {},
   "outputs": [
    {
     "name": "stdout",
     "output_type": "stream",
     "text": [
      "   age     bmi  children  sex_male  smoker_yes  region_northwest  \\\n",
      "0   19  27.900         0     False        True             False   \n",
      "1   18  33.770         1      True       False             False   \n",
      "2   28  33.000         3      True       False             False   \n",
      "3   33  22.705         0      True       False              True   \n",
      "4   32  28.880         0      True       False              True   \n",
      "\n",
      "   region_southeast  region_southwest  \n",
      "0             False              True  \n",
      "1              True             False  \n",
      "2              True             False  \n",
      "3             False             False  \n",
      "4             False             False  \n",
      "\n",
      "0    16884.92400\n",
      "1     1725.55230\n",
      "2     4449.46200\n",
      "3    21984.47061\n",
      "4     3866.85520\n",
      "Name: charges, dtype: float64\n"
     ]
    }
   ],
   "source": [
    "data = df_dummies.copy()\n",
    "target = data.pop('charges')\n",
    "print(data.head())\n",
    "print()\n",
    "print(target.head())"
   ]
  },
  {
   "cell_type": "markdown",
   "id": "49c3c68b-53e7-4973-8dc0-33fba859a8c7",
   "metadata": {},
   "source": [
    "---"
   ]
  },
  {
   "cell_type": "markdown",
   "id": "e20e00ca-9dfd-43a6-a9e1-27cd91d937c0",
   "metadata": {},
   "source": [
    "### 4. Create the DataFrame from the following dictionary and assign it to the df variable."
   ]
  },
  {
   "cell_type": "code",
   "execution_count": 5,
   "id": "e4bd381d-30ad-4d82-8156-2f7396df9a34",
   "metadata": {},
   "outputs": [
    {
     "name": "stdout",
     "output_type": "stream",
     "text": [
      "  size  color  gender  price  weight bought\n",
      "0   XL    red  female  199.0     500    yes\n",
      "1    L  green    male   89.0     450     no\n",
      "2    M   blue    male   99.0     300    yes\n",
      "3    L  green  female  129.0     380     no\n",
      "4    M    red  female   79.0     410    yes\n"
     ]
    }
   ],
   "source": [
    "data = {\n",
    "    'size': ['XL', 'L', 'M', 'L', 'M'],\n",
    "    'color': ['red', 'green', 'blue', 'green', 'red'],\n",
    "    'gender': ['female', 'male', 'male', 'female', 'female'],\n",
    "    'price': [199.0, 89.0, 99.0, 129.0, 79.0],\n",
    "    'weight': [500, 450, 300, 380, 410],\n",
    "    'bought': ['yes', 'no', 'yes', 'no', 'yes']\n",
    "}\n",
    "\n",
    "# Start your code here\n",
    "df = pd.DataFrame(data)\n",
    "print(df)"
   ]
  },
  {
   "cell_type": "markdown",
   "id": "405ecaa9-6a22-4c73-bb7c-d1b5a9cd4813",
   "metadata": {},
   "source": [
    "---"
   ]
  },
  {
   "cell_type": "markdown",
   "id": "8ac07c8b-87a1-442e-8022-1f1c6ac9e1a4",
   "metadata": {},
   "source": [
    "### 5. The df DataFrame is given below. Convert following columns:\n",
    "- size -> category\n",
    "- color -> category\n",
    "- gender -> category\n",
    "- weight -> float\n",
    "- bought -> category\n",
    "\n",
    "In response, print basic information about this DataFrame to the console."
   ]
  },
  {
   "cell_type": "code",
   "execution_count": 6,
   "id": "f0119157-6ffa-4e19-82d7-2a8a7611fed5",
   "metadata": {},
   "outputs": [
    {
     "name": "stdout",
     "output_type": "stream",
     "text": [
      "<class 'pandas.core.frame.DataFrame'>\n",
      "RangeIndex: 5 entries, 0 to 4\n",
      "Data columns (total 6 columns):\n",
      " #   Column  Non-Null Count  Dtype   \n",
      "---  ------  --------------  -----   \n",
      " 0   size    5 non-null      category\n",
      " 1   color   5 non-null      category\n",
      " 2   gender  5 non-null      category\n",
      " 3   price   5 non-null      float64 \n",
      " 4   weight  5 non-null      float64 \n",
      " 5   bought  5 non-null      category\n",
      "dtypes: category(4), float64(2)\n",
      "memory usage: 740.0 bytes\n"
     ]
    }
   ],
   "source": [
    "for col in ['size', 'color', 'gender', 'bought']:\n",
    "    df[col] = df[col].astype('category')\n",
    " \n",
    "df['weight'] = df['weight'].astype('float')\n",
    "df.info()"
   ]
  },
  {
   "cell_type": "markdown",
   "id": "a09c57ed-f05b-4ad2-8a7f-d489bf898609",
   "metadata": {},
   "source": [
    "## Congratulate, Day 20 Finished!"
   ]
  }
 ],
 "metadata": {
  "kernelspec": {
   "display_name": "Python 3 (ipykernel)",
   "language": "python",
   "name": "python3"
  },
  "language_info": {
   "codemirror_mode": {
    "name": "ipython",
    "version": 3
   },
   "file_extension": ".py",
   "mimetype": "text/x-python",
   "name": "python",
   "nbconvert_exporter": "python",
   "pygments_lexer": "ipython3",
   "version": "3.9.5"
  }
 },
 "nbformat": 4,
 "nbformat_minor": 5
}
