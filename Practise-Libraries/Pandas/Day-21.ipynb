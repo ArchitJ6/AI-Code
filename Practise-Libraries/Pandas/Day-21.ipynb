{
 "cells": [
  {
   "cell_type": "markdown",
   "id": "b0726343-e60c-45c6-bde7-79d5372dddfa",
   "metadata": {},
   "source": [
    "# Day 21 - Pandas"
   ]
  },
  {
   "cell_type": "code",
   "execution_count": 1,
   "id": "7209753c-3cfc-440d-88af-775dc63b52f7",
   "metadata": {},
   "outputs": [],
   "source": [
    "import pandas as pd"
   ]
  },
  {
   "cell_type": "markdown",
   "id": "0944cace-1e39-4c43-b3cc-3c82b2237451",
   "metadata": {},
   "source": [
    "### 1. The df DataFrame is given below. Using the pd.get_dummies() function, transform all categorical variables to 0-1 encoding as shown below and print result to the console."
   ]
  },
  {
   "cell_type": "code",
   "execution_count": 3,
   "id": "1a38b738-32c0-47d2-8911-9924beee5814",
   "metadata": {},
   "outputs": [
    {
     "name": "stdout",
     "output_type": "stream",
     "text": [
      "   price  weight  size_L  size_M  size_XL  color_blue  color_green  color_red  \\\n",
      "0  199.0   500.0   False   False     True       False        False       True   \n",
      "1   89.0   450.0    True   False    False       False         True      False   \n",
      "2   99.0   300.0   False    True    False        True        False      False   \n",
      "3  129.0   380.0    True   False    False       False         True      False   \n",
      "4   79.0   410.0   False    True    False       False        False       True   \n",
      "\n",
      "   gender_female  gender_male  bought_no  bought_yes  \n",
      "0           True        False      False        True  \n",
      "1          False         True       True       False  \n",
      "2          False         True      False        True  \n",
      "3           True        False       True       False  \n",
      "4           True        False      False        True  \n"
     ]
    }
   ],
   "source": [
    "data = {\n",
    "    'size': ['XL', 'L', 'M', 'L', 'M'],\n",
    "    'color': ['red', 'green', 'blue', 'green', 'red'],\n",
    "    'gender': ['female', 'male', 'male', 'female', 'female'],\n",
    "    'price': [199.0, 89.0, 99.0, 129.0, 79.0],\n",
    "    'weight': [500, 450, 300, 380, 410],\n",
    "    'bought': ['yes', 'no', 'yes', 'no', 'yes']\n",
    "}\n",
    "df = pd.DataFrame(data)\n",
    "for col in ['size', 'color', 'gender', 'bought']:\n",
    "    df[col] = df[col].astype('category')\n",
    "df['weight'] = df['weight'].astype('float')\n",
    "\n",
    "# Start your code here\n",
    "print(pd.get_dummies(df))"
   ]
  },
  {
   "cell_type": "markdown",
   "id": "e4825de3-7e87-4f8c-abfc-bee741a81669",
   "metadata": {},
   "source": [
    "---"
   ]
  },
  {
   "cell_type": "markdown",
   "id": "27307158-344a-44d8-80ea-90d635ad3489",
   "metadata": {},
   "source": [
    "### 2. The df DataFrame is given below. Using the get_dummies() function, transform all categorical variables to 0-1 encoding as shown below. Use the drop_first=True argument. In response, print result to the console."
   ]
  },
  {
   "cell_type": "code",
   "execution_count": 5,
   "id": "dac94f47-9ff0-4f4e-8ca7-a61504306698",
   "metadata": {},
   "outputs": [
    {
     "name": "stdout",
     "output_type": "stream",
     "text": [
      "   price  weight  size_M  size_XL  color_green  color_red  gender_male  \\\n",
      "0  199.0   500.0   False     True        False       True        False   \n",
      "1   89.0   450.0   False    False         True      False         True   \n",
      "2   99.0   300.0    True    False        False      False         True   \n",
      "3  129.0   380.0   False    False         True      False        False   \n",
      "4   79.0   410.0    True    False        False       True        False   \n",
      "\n",
      "   bought_yes  \n",
      "0        True  \n",
      "1       False  \n",
      "2        True  \n",
      "3       False  \n",
      "4        True  \n"
     ]
    }
   ],
   "source": [
    "print(pd.get_dummies(df, drop_first=True))"
   ]
  },
  {
   "cell_type": "markdown",
   "id": "2d9d7201-e460-4fc0-83d5-9232454be79f",
   "metadata": {},
   "source": [
    "---"
   ]
  },
  {
   "cell_type": "markdown",
   "id": "aa834676-42a9-442a-85c8-a9eabc60b38a",
   "metadata": {},
   "source": [
    "### 3. The market.json file is attached to this exercise. Load this file using pandas into DataFrame and assign to df variable. In response, print this DataFrame to the console."
   ]
  },
  {
   "cell_type": "code",
   "execution_count": 16,
   "id": "49d0996e-22a1-4976-b5be-813b63a0e233",
   "metadata": {},
   "outputs": [
    {
     "name": "stdout",
     "output_type": "stream",
     "text": [
      "(22, 9)\n",
      "                       profile   time     price  change pct_change  \\\n",
      "0              ^AEX (Holandia)  14:12    548.73    7.95     +1.47%   \n",
      "1               ^ATX (Austria)  14:11   2147.90   17.68     +0.83%   \n",
      "2               ^ATXC (Grecja)  14:13    621.82   -2.80     -0.45%   \n",
      "3              ^BEL20 (Belgia)  14:11   3251.39   30.51     +0.95%   \n",
      "4                 ^BUX (Węgry)  14:12  32831.01  534.27     +1.65%   \n",
      "5             ^CAC40 (Francja)  14:12   4839.46   66.62     +1.40%   \n",
      "6                ^DAX (Niemcy)  14:14  12758.52  164.13     +1.30%   \n",
      "7   ^FTSE100 (Wielka Brytania)  14:12   5945.44  115.98     +1.99%   \n",
      "8   ^FTSE250 (Wielka Brytania)  14:12  17038.88  217.22     +1.29%   \n",
      "9            ^FTSEMIB (Włochy)  14:12  19080.16  184.57     +0.98%   \n",
      "10         ^IBEX35 (Hiszpania)  14:12   6755.80  107.20     +1.61%   \n",
      "11             ^OMXC20 (Dania)  14:27   1336.57    0.58     +0.04%   \n",
      "12         ^OMXH25 (Finlandia)  14:26  10037.06   21.87     +0.22%   \n",
      "13           ^OMXS30 (Szwecja)  14:27   1802.43   20.51     +1.15%   \n",
      "14           ^OSEAX (Norwegia)  14:12    739.99    1.36     +0.18%   \n",
      "15         ^PSI20 (Portugalia)  14:13   4119.97   -1.97     -0.05%   \n",
      "16              ^PX50 (Czechy)  14:12    870.57    2.52     +0.29%   \n",
      "17             ^RDXEUR (Rosja)  14:11   1264.48    2.21     +0.18%   \n",
      "18                ^RTS (Rosja)  14:11   1524.18   -2.09     -0.14%   \n",
      "19           ^SMI (Szwajcaria)  14:11  10371.42   15.85     +0.15%   \n",
      "20             ^XU100 (Turcja)  14:12   1104.41    8.25     +0.75%   \n",
      "21              WIG20 (Polska)  14:29   1695.96    2.87     +0.17%   \n",
      "\n",
      "    reference_price      open       low      high  \n",
      "0            540.78    546.55    544.72    550.72  \n",
      "1           2130.22   2131.47   2118.71   2163.92  \n",
      "2            624.62    627.48    621.82    631.70  \n",
      "3           3220.88   3252.21   3228.77   3266.11  \n",
      "4          32296.74  32421.05  32421.05  32865.43  \n",
      "5           4772.84   4824.17   4803.91   4871.45  \n",
      "6          12594.39  12737.32  12688.33  12830.70  \n",
      "7           5829.46   5829.46   5829.46   5974.88  \n",
      "8          16821.66  16821.66  16821.66  17123.31  \n",
      "9          18895.59  19080.18  18944.29  19231.99  \n",
      "10          6648.60   6717.80   6681.60   6781.10  \n",
      "11          1335.99   1338.82   1322.42   1338.82  \n",
      "12         10015.19  10052.81  10024.27  10107.86  \n",
      "13          1781.92   1791.67   1789.70   1814.53  \n",
      "14           738.63    738.46    738.03    744.44  \n",
      "15          4121.94   4141.19   4119.97   4156.11  \n",
      "16           868.05    868.53    862.45    873.37  \n",
      "17          1262.27   1263.78   1259.57   1274.42  \n",
      "18          1526.27   1526.27   1521.70   1541.51  \n",
      "19         10355.57  10368.65  10334.54  10439.74  \n",
      "20          1096.16   1101.04   1098.82   1106.06  \n",
      "21          1693.09   1701.26   1695.36   1712.27  \n"
     ]
    }
   ],
   "source": [
    "df = pd.read_json('market.json')\n",
    "print(df.shape)\n",
    "print(df)"
   ]
  },
  {
   "cell_type": "markdown",
   "id": "d56f04d7-45e1-400b-aa0a-cb2daad72721",
   "metadata": {},
   "source": [
    "---"
   ]
  },
  {
   "cell_type": "markdown",
   "id": "1671d01f-28ef-4c01-be56-4a8195b8a55d",
   "metadata": {},
   "source": [
    "### 4. The df DataFrame is given below. Extract the country name from the first column and assign to 'country' column as shown below. In response, print result to the console."
   ]
  },
  {
   "cell_type": "code",
   "execution_count": 17,
   "id": "07732b0a-99fc-49cd-8fa4-910d0d2d6f4c",
   "metadata": {},
   "outputs": [
    {
     "name": "stdout",
     "output_type": "stream",
     "text": [
      "                       profile   time     price  change pct_change  \\\n",
      "0              ^AEX (Holandia)  14:12    548.73    7.95     +1.47%   \n",
      "1               ^ATX (Austria)  14:11   2147.90   17.68     +0.83%   \n",
      "2               ^ATXC (Grecja)  14:13    621.82   -2.80     -0.45%   \n",
      "3              ^BEL20 (Belgia)  14:11   3251.39   30.51     +0.95%   \n",
      "4                 ^BUX (Węgry)  14:12  32831.01  534.27     +1.65%   \n",
      "5             ^CAC40 (Francja)  14:12   4839.46   66.62     +1.40%   \n",
      "6                ^DAX (Niemcy)  14:14  12758.52  164.13     +1.30%   \n",
      "7   ^FTSE100 (Wielka Brytania)  14:12   5945.44  115.98     +1.99%   \n",
      "8   ^FTSE250 (Wielka Brytania)  14:12  17038.88  217.22     +1.29%   \n",
      "9            ^FTSEMIB (Włochy)  14:12  19080.16  184.57     +0.98%   \n",
      "10         ^IBEX35 (Hiszpania)  14:12   6755.80  107.20     +1.61%   \n",
      "11             ^OMXC20 (Dania)  14:27   1336.57    0.58     +0.04%   \n",
      "12         ^OMXH25 (Finlandia)  14:26  10037.06   21.87     +0.22%   \n",
      "13           ^OMXS30 (Szwecja)  14:27   1802.43   20.51     +1.15%   \n",
      "14           ^OSEAX (Norwegia)  14:12    739.99    1.36     +0.18%   \n",
      "15         ^PSI20 (Portugalia)  14:13   4119.97   -1.97     -0.05%   \n",
      "16              ^PX50 (Czechy)  14:12    870.57    2.52     +0.29%   \n",
      "17             ^RDXEUR (Rosja)  14:11   1264.48    2.21     +0.18%   \n",
      "18                ^RTS (Rosja)  14:11   1524.18   -2.09     -0.14%   \n",
      "19           ^SMI (Szwajcaria)  14:11  10371.42   15.85     +0.15%   \n",
      "20             ^XU100 (Turcja)  14:12   1104.41    8.25     +0.75%   \n",
      "21              WIG20 (Polska)  14:29   1695.96    2.87     +0.17%   \n",
      "\n",
      "    reference_price      open       low      high          country  \n",
      "0            540.78    546.55    544.72    550.72         Holandia  \n",
      "1           2130.22   2131.47   2118.71   2163.92          Austria  \n",
      "2            624.62    627.48    621.82    631.70           Grecja  \n",
      "3           3220.88   3252.21   3228.77   3266.11           Belgia  \n",
      "4          32296.74  32421.05  32421.05  32865.43            Węgry  \n",
      "5           4772.84   4824.17   4803.91   4871.45          Francja  \n",
      "6          12594.39  12737.32  12688.33  12830.70           Niemcy  \n",
      "7           5829.46   5829.46   5829.46   5974.88  Wielka Brytania  \n",
      "8          16821.66  16821.66  16821.66  17123.31  Wielka Brytania  \n",
      "9          18895.59  19080.18  18944.29  19231.99           Włochy  \n",
      "10          6648.60   6717.80   6681.60   6781.10        Hiszpania  \n",
      "11          1335.99   1338.82   1322.42   1338.82            Dania  \n",
      "12         10015.19  10052.81  10024.27  10107.86        Finlandia  \n",
      "13          1781.92   1791.67   1789.70   1814.53          Szwecja  \n",
      "14           738.63    738.46    738.03    744.44         Norwegia  \n",
      "15          4121.94   4141.19   4119.97   4156.11       Portugalia  \n",
      "16           868.05    868.53    862.45    873.37           Czechy  \n",
      "17          1262.27   1263.78   1259.57   1274.42            Rosja  \n",
      "18          1526.27   1526.27   1521.70   1541.51            Rosja  \n",
      "19         10355.57  10368.65  10334.54  10439.74       Szwajcaria  \n",
      "20          1096.16   1101.04   1098.82   1106.06           Turcja  \n",
      "21          1693.09   1701.26   1695.36   1712.27           Polska  \n"
     ]
    }
   ],
   "source": [
    "df['country'] = df['profile'].str.split(n=1, expand=True)[1]\n",
    "df['country'] = df['country'].apply(lambda i: i[1:-1])\n",
    "print(df)"
   ]
  },
  {
   "cell_type": "markdown",
   "id": "d8d7a994-b10a-47b2-add7-a7fa2039d7c1",
   "metadata": {},
   "source": [
    "---"
   ]
  },
  {
   "cell_type": "markdown",
   "id": "d2792940-d7e5-407f-af35-df003e50e364",
   "metadata": {},
   "source": [
    "### 5. The df DataFrame is given below. Extract country names (sorted alphabetically) that occur more than once as a list and print it to the console."
   ]
  },
  {
   "cell_type": "code",
   "execution_count": 19,
   "id": "648057b3-861a-49cb-a53d-a65c777b1f1a",
   "metadata": {},
   "outputs": [
    {
     "name": "stdout",
     "output_type": "stream",
     "text": [
      "['Rosja', 'Wielka Brytania']\n"
     ]
    }
   ],
   "source": [
    "print(sorted(df['country'].value_counts()[df['country'].value_counts() > 1].index))"
   ]
  },
  {
   "cell_type": "markdown",
   "id": "62bdcbf0-5782-49d4-8937-1a0102ec5f67",
   "metadata": {},
   "source": [
    "## Congratulate, Day 21 Finished!"
   ]
  }
 ],
 "metadata": {
  "kernelspec": {
   "display_name": "Python 3 (ipykernel)",
   "language": "python",
   "name": "python3"
  },
  "language_info": {
   "codemirror_mode": {
    "name": "ipython",
    "version": 3
   },
   "file_extension": ".py",
   "mimetype": "text/x-python",
   "name": "python",
   "nbconvert_exporter": "python",
   "pygments_lexer": "ipython3",
   "version": "3.9.5"
  }
 },
 "nbformat": 4,
 "nbformat_minor": 5
}
