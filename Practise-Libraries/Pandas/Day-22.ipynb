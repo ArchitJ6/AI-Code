{
 "cells": [
  {
   "cell_type": "markdown",
   "id": "44afc837-4670-4f91-8ad5-7b653543aeba",
   "metadata": {},
   "source": [
    "# Day 22 - Pandas"
   ]
  },
  {
   "cell_type": "code",
   "execution_count": 1,
   "id": "d745aeb8-4b3e-44d1-8aad-b040ee7ff73f",
   "metadata": {},
   "outputs": [],
   "source": [
    "import pandas as pd"
   ]
  },
  {
   "cell_type": "markdown",
   "id": "f44b6be6-9c63-441f-aecc-663a5e63bf99",
   "metadata": {},
   "source": [
    "### 1. The df DataFrame is given below. The pct_change column has the object type. Convert this column to float type. In response, print this DataFrame to the console."
   ]
  },
  {
   "cell_type": "code",
   "execution_count": 2,
   "id": "2e2eb6ac-667a-4e07-8e9c-bbaf6a0df08e",
   "metadata": {},
   "outputs": [
    {
     "name": "stdout",
     "output_type": "stream",
     "text": [
      "                       profile   time     price  change  pct_change  \\\n",
      "0              ^AEX (Holandia)  14:12    548.73    7.95         1.4   \n",
      "1               ^ATX (Austria)  14:11   2147.90   17.68         0.8   \n",
      "2               ^ATXC (Grecja)  14:13    621.82   -2.80         0.4   \n",
      "3              ^BEL20 (Belgia)  14:11   3251.39   30.51         0.9   \n",
      "4                 ^BUX (Węgry)  14:12  32831.01  534.27         1.6   \n",
      "5             ^CAC40 (Francja)  14:12   4839.46   66.62         1.4   \n",
      "6                ^DAX (Niemcy)  14:14  12758.52  164.13         1.3   \n",
      "7   ^FTSE100 (Wielka Brytania)  14:12   5945.44  115.98         1.9   \n",
      "8   ^FTSE250 (Wielka Brytania)  14:12  17038.88  217.22         1.2   \n",
      "9            ^FTSEMIB (Włochy)  14:12  19080.16  184.57         0.9   \n",
      "10         ^IBEX35 (Hiszpania)  14:12   6755.80  107.20         1.6   \n",
      "11             ^OMXC20 (Dania)  14:27   1336.57    0.58         0.0   \n",
      "12         ^OMXH25 (Finlandia)  14:26  10037.06   21.87         0.2   \n",
      "13           ^OMXS30 (Szwecja)  14:27   1802.43   20.51         1.1   \n",
      "14           ^OSEAX (Norwegia)  14:12    739.99    1.36         0.1   \n",
      "15         ^PSI20 (Portugalia)  14:13   4119.97   -1.97         0.0   \n",
      "16              ^PX50 (Czechy)  14:12    870.57    2.52         0.2   \n",
      "17             ^RDXEUR (Rosja)  14:11   1264.48    2.21         0.1   \n",
      "18                ^RTS (Rosja)  14:11   1524.18   -2.09         0.1   \n",
      "19           ^SMI (Szwajcaria)  14:11  10371.42   15.85         0.1   \n",
      "20             ^XU100 (Turcja)  14:12   1104.41    8.25         0.7   \n",
      "21              WIG20 (Polska)  14:29   1695.96    2.87         0.1   \n",
      "\n",
      "    reference_price      open       low      high  \n",
      "0            540.78    546.55    544.72    550.72  \n",
      "1           2130.22   2131.47   2118.71   2163.92  \n",
      "2            624.62    627.48    621.82    631.70  \n",
      "3           3220.88   3252.21   3228.77   3266.11  \n",
      "4          32296.74  32421.05  32421.05  32865.43  \n",
      "5           4772.84   4824.17   4803.91   4871.45  \n",
      "6          12594.39  12737.32  12688.33  12830.70  \n",
      "7           5829.46   5829.46   5829.46   5974.88  \n",
      "8          16821.66  16821.66  16821.66  17123.31  \n",
      "9          18895.59  19080.18  18944.29  19231.99  \n",
      "10          6648.60   6717.80   6681.60   6781.10  \n",
      "11          1335.99   1338.82   1322.42   1338.82  \n",
      "12         10015.19  10052.81  10024.27  10107.86  \n",
      "13          1781.92   1791.67   1789.70   1814.53  \n",
      "14           738.63    738.46    738.03    744.44  \n",
      "15          4121.94   4141.19   4119.97   4156.11  \n",
      "16           868.05    868.53    862.45    873.37  \n",
      "17          1262.27   1263.78   1259.57   1274.42  \n",
      "18          1526.27   1526.27   1521.70   1541.51  \n",
      "19         10355.57  10368.65  10334.54  10439.74  \n",
      "20          1096.16   1101.04   1098.82   1106.06  \n",
      "21          1693.09   1701.26   1695.36   1712.27  \n"
     ]
    }
   ],
   "source": [
    "df = pd.read_json('market.json')\n",
    "\n",
    "# Start your code here\n",
    "df['pct_change'] = df['pct_change'].apply(lambda i : float(i[1:-2]))\n",
    "print(df)"
   ]
  },
  {
   "cell_type": "markdown",
   "id": "8a74626d-6952-4a83-aa3c-94289edc8faf",
   "metadata": {},
   "source": [
    "---"
   ]
  },
  {
   "cell_type": "markdown",
   "id": "ff236ef1-f828-45cf-a0c6-ca90722ec3eb",
   "metadata": {},
   "source": [
    "### 2. The df DataFrame is given below.\n",
    "\n",
    "Perform the following steps:\n",
    "\n",
    "- print to the console row with the highest pct_change\n",
    "- print a blank line\n",
    "- print to the console row with the lowest pct_change"
   ]
  },
  {
   "cell_type": "code",
   "execution_count": 3,
   "id": "63424382-847f-46aa-b2fa-d76f43b65095",
   "metadata": {},
   "outputs": [
    {
     "name": "stdout",
     "output_type": "stream",
     "text": [
      "profile            ^FTSE100 (Wielka Brytania)\n",
      "time                                    14:12\n",
      "price                                 5945.44\n",
      "change                                 115.98\n",
      "pct_change                                1.9\n",
      "reference_price                       5829.46\n",
      "open                                  5829.46\n",
      "low                                   5829.46\n",
      "high                                  5974.88\n",
      "Name: 7, dtype: object\n",
      "\n",
      "profile            ^OMXC20 (Dania)\n",
      "time                         14:27\n",
      "price                      1336.57\n",
      "change                        0.58\n",
      "pct_change                     0.0\n",
      "reference_price            1335.99\n",
      "open                       1338.82\n",
      "low                        1322.42\n",
      "high                       1338.82\n",
      "Name: 11, dtype: object\n"
     ]
    }
   ],
   "source": [
    "print(df.iloc[df['pct_change'].argmax()])\n",
    "print()\n",
    "print(df.iloc[df['pct_change'].argmin()])"
   ]
  },
  {
   "cell_type": "markdown",
   "id": "d7542f18-b4f2-4036-87cb-6eb8b7653fb1",
   "metadata": {},
   "source": [
    "---"
   ]
  },
  {
   "cell_type": "markdown",
   "id": "a3b4c299-e80e-4cad-b269-abb49bac8d29",
   "metadata": {},
   "source": [
    "### 3. The df DataFrame is given below. Extract all rows of this object for which the pct_change column is greater than or equal to zero and save to 'positive.json' file. Do the same for the negative values and save to the 'negative.json' file."
   ]
  },
  {
   "cell_type": "code",
   "execution_count": 4,
   "id": "caad8a12-d83c-4de1-9b01-2b75d2744b8b",
   "metadata": {},
   "outputs": [],
   "source": [
    "df[df['pct_change'] >= 0.0].to_json('positive.json', indent=4)\n",
    "df[df['pct_change'] < 0.0].to_json('negative.json', indent=4)"
   ]
  },
  {
   "cell_type": "markdown",
   "id": "e54dd0c1-6233-4689-a9d6-55029be83597",
   "metadata": {},
   "source": [
    "---"
   ]
  },
  {
   "cell_type": "markdown",
   "id": "84719257-9e88-4c0d-9ee9-1ef81c2bdb5f",
   "metadata": {},
   "source": [
    "### 4. Two files are attached to this exercise:\n",
    "\n",
    "- 'amazon.csv'\n",
    "- 'tesla.csv'\n",
    "\n",
    "Using pandas load these files into the DataFrame objects (set the index to the Date column) with names:\n",
    "- amazon\n",
    "- tesla\n",
    "\n",
    "As an answer print to the console:\n",
    "\n",
    "- amazon DataFrame\n",
    "- blank line\n",
    "- tesla DataFrame"
   ]
  },
  {
   "cell_type": "code",
   "execution_count": 5,
   "id": "85ff5878-3baf-428a-897e-212593e9cc2d",
   "metadata": {},
   "outputs": [
    {
     "name": "stdout",
     "output_type": "stream",
     "text": [
      "                 Open       High        Low    Close   Volume\n",
      "Date                                                         \n",
      "2020-09-22  3033.8350  3133.9900  3000.2000  3128.99  6948816\n",
      "2020-09-21  2906.5000  2962.0000  2871.0000  2960.47  6117925\n",
      "2020-09-18  3031.7400  3037.8000  2905.5400  2954.91  8892580\n",
      "2020-09-17  3009.2500  3029.4320  2972.5500  3008.73  6449050\n",
      "2020-09-16  3179.9900  3187.2380  3074.1500  3078.10  4531189\n",
      "2020-09-15  3136.1600  3175.0200  3108.9200  3156.13  4021535\n",
      "2020-09-14  3172.9372  3187.3900  3096.0000  3102.97  4529596\n",
      "2020-09-11  3208.6900  3217.3409  3083.9800  3116.22  5093982\n",
      "2020-09-10  3307.2188  3349.8900  3170.5500  3175.11  5330741\n",
      "2020-09-09  3202.9900  3303.1750  3185.0000  3268.61  5188675\n",
      "2020-09-08  3144.0000  3250.8450  3130.0000  3149.84  6094205\n",
      "2020-09-04  3318.0000  3381.5000  3111.1300  3294.62  8781754\n",
      "2020-09-03  3485.0000  3488.4100  3303.0000  3368.00  8161113\n",
      "2020-09-02  3547.0000  3552.2500  3486.6850  3531.45  3931476\n",
      "2020-09-01  3489.5800  3513.8700  3467.0000  3499.12  3476407\n",
      "2020-08-31  3408.9900  3495.0000  3405.0000  3450.96  4185885\n",
      "2020-08-28  3423.0000  3433.3699  3386.5000  3401.80  2896978\n",
      "2020-08-27  3450.0500  3453.0000  3378.0000  3400.00  4264795\n",
      "2020-08-26  3351.1100  3451.7387  3344.5675  3441.85  6508743\n",
      "2020-08-25  3294.9900  3357.4000  3267.0000  3346.49  3992842\n",
      "\n",
      "              Open    High       Low   Close     Volume\n",
      "Date                                                   \n",
      "2020-09-22  429.60  437.76  417.6001  424.23   79580795\n",
      "2020-09-21  453.13  455.68  407.0700  449.39  109476800\n",
      "2020-09-18  447.94  451.00  428.8000  442.15   86406819\n",
      "2020-09-17  415.60  437.79  408.0001  423.43   76779163\n",
      "2020-09-16  439.87  457.79  435.3100  441.76   72546760\n",
      "2020-09-15  436.56  461.94  430.7000  449.76   97298228\n",
      "2020-09-14  380.95  420.00  373.3000  419.62   83020608\n",
      "2020-09-11  381.94  382.50  360.5000  372.72   60717459\n",
      "2020-09-10  386.21  398.99  360.5600  371.34   84930608\n",
      "2020-09-09  356.60  369.00  341.5100  366.28   79465769\n",
      "2020-09-08  356.00  368.74  329.8800  330.21  115465691\n",
      "2020-09-04  402.81  428.00  372.0201  418.32  110321885\n",
      "2020-09-03  407.23  431.80  402.0000  407.00   87596086\n",
      "2020-09-02  478.99  479.04  405.1206  447.37   96176128\n",
      "2020-09-01  502.14  502.49  470.5100  475.05   90119419\n",
      "2020-08-31  444.61  500.14  440.1100  498.32  118374406\n",
      "2020-08-28  459.02  463.70  437.3000  442.68  100405880\n",
      "2020-08-27  436.09  459.12  428.5000  447.75  118465215\n",
      "2020-08-26  412.00  433.20  410.7300  430.63   71196910\n",
      "2020-08-25  394.98  405.59  393.6000  404.67   53294465\n"
     ]
    }
   ],
   "source": [
    "amazon = pd.read_csv('amazon.csv', index_col='Date')\n",
    "tesla = pd.read_csv('tesla.csv', index_col=0)\n",
    "\n",
    "print(amazon)\n",
    "print()\n",
    "print(tesla)"
   ]
  },
  {
   "cell_type": "markdown",
   "id": "f3b59e0e-28fc-48d7-9ec8-78a155dde51b",
   "metadata": {},
   "source": [
    "---"
   ]
  },
  {
   "cell_type": "markdown",
   "id": "5f931a25-480a-4691-ad42-ebff201d5493",
   "metadata": {},
   "source": [
    "### 5. Two DataFrames are given:\n",
    "- amazon\n",
    "- tesla\n",
    "\n",
    "Replace the column names in these objects by adding prefix 'amzn' to each column in the amazon DataFrame and prefix 'tsla' to each column in the tesla DataFrame. Also convert uppercase letters to lowercase. As an answer print to the console:\n",
    "- amazon DataFrame\n",
    "- blank line\n",
    "- tesla DataFrame"
   ]
  },
  {
   "cell_type": "code",
   "execution_count": 6,
   "id": "285f045f-034c-4543-b330-f95308b424be",
   "metadata": {},
   "outputs": [
    {
     "name": "stdout",
     "output_type": "stream",
     "text": [
      "            amzn_open  amzn_high   amzn_low  amzn_close  amzn_volume\n",
      "Date                                                                \n",
      "2020-09-22  3033.8350  3133.9900  3000.2000     3128.99      6948816\n",
      "2020-09-21  2906.5000  2962.0000  2871.0000     2960.47      6117925\n",
      "2020-09-18  3031.7400  3037.8000  2905.5400     2954.91      8892580\n",
      "2020-09-17  3009.2500  3029.4320  2972.5500     3008.73      6449050\n",
      "2020-09-16  3179.9900  3187.2380  3074.1500     3078.10      4531189\n",
      "2020-09-15  3136.1600  3175.0200  3108.9200     3156.13      4021535\n",
      "2020-09-14  3172.9372  3187.3900  3096.0000     3102.97      4529596\n",
      "2020-09-11  3208.6900  3217.3409  3083.9800     3116.22      5093982\n",
      "2020-09-10  3307.2188  3349.8900  3170.5500     3175.11      5330741\n",
      "2020-09-09  3202.9900  3303.1750  3185.0000     3268.61      5188675\n",
      "2020-09-08  3144.0000  3250.8450  3130.0000     3149.84      6094205\n",
      "2020-09-04  3318.0000  3381.5000  3111.1300     3294.62      8781754\n",
      "2020-09-03  3485.0000  3488.4100  3303.0000     3368.00      8161113\n",
      "2020-09-02  3547.0000  3552.2500  3486.6850     3531.45      3931476\n",
      "2020-09-01  3489.5800  3513.8700  3467.0000     3499.12      3476407\n",
      "2020-08-31  3408.9900  3495.0000  3405.0000     3450.96      4185885\n",
      "2020-08-28  3423.0000  3433.3699  3386.5000     3401.80      2896978\n",
      "2020-08-27  3450.0500  3453.0000  3378.0000     3400.00      4264795\n",
      "2020-08-26  3351.1100  3451.7387  3344.5675     3441.85      6508743\n",
      "2020-08-25  3294.9900  3357.4000  3267.0000     3346.49      3992842\n",
      "\n",
      "            tsla_open  tsla_high  tsla_low  tsla_close  tsla_volume\n",
      "Date                                                               \n",
      "2020-09-22     429.60     437.76  417.6001      424.23     79580795\n",
      "2020-09-21     453.13     455.68  407.0700      449.39    109476800\n",
      "2020-09-18     447.94     451.00  428.8000      442.15     86406819\n",
      "2020-09-17     415.60     437.79  408.0001      423.43     76779163\n",
      "2020-09-16     439.87     457.79  435.3100      441.76     72546760\n",
      "2020-09-15     436.56     461.94  430.7000      449.76     97298228\n",
      "2020-09-14     380.95     420.00  373.3000      419.62     83020608\n",
      "2020-09-11     381.94     382.50  360.5000      372.72     60717459\n",
      "2020-09-10     386.21     398.99  360.5600      371.34     84930608\n",
      "2020-09-09     356.60     369.00  341.5100      366.28     79465769\n",
      "2020-09-08     356.00     368.74  329.8800      330.21    115465691\n",
      "2020-09-04     402.81     428.00  372.0201      418.32    110321885\n",
      "2020-09-03     407.23     431.80  402.0000      407.00     87596086\n",
      "2020-09-02     478.99     479.04  405.1206      447.37     96176128\n",
      "2020-09-01     502.14     502.49  470.5100      475.05     90119419\n",
      "2020-08-31     444.61     500.14  440.1100      498.32    118374406\n",
      "2020-08-28     459.02     463.70  437.3000      442.68    100405880\n",
      "2020-08-27     436.09     459.12  428.5000      447.75    118465215\n",
      "2020-08-26     412.00     433.20  410.7300      430.63     71196910\n",
      "2020-08-25     394.98     405.59  393.6000      404.67     53294465\n"
     ]
    }
   ],
   "source": [
    "amazon.columns = ['amzn_' + col.lower() for col in amazon.columns]\n",
    "tesla.columns = ['tsla_' + col.lower() for col in tesla.columns]\n",
    "\n",
    "print(amazon)\n",
    "print()\n",
    "print(tesla)"
   ]
  },
  {
   "cell_type": "markdown",
   "id": "9a140fbd-d66c-444a-8730-145d2d3dba31",
   "metadata": {},
   "source": [
    "## Congratulate, Day 22 Finished!"
   ]
  }
 ],
 "metadata": {
  "kernelspec": {
   "display_name": "Python 3 (ipykernel)",
   "language": "python",
   "name": "python3"
  },
  "language_info": {
   "codemirror_mode": {
    "name": "ipython",
    "version": 3
   },
   "file_extension": ".py",
   "mimetype": "text/x-python",
   "name": "python",
   "nbconvert_exporter": "python",
   "pygments_lexer": "ipython3",
   "version": "3.9.5"
  }
 },
 "nbformat": 4,
 "nbformat_minor": 5
}
