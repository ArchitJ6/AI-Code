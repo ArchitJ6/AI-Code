{
 "cells": [
  {
   "cell_type": "markdown",
   "id": "1ebf985f-3da3-4dbd-8596-55a191c4f8ad",
   "metadata": {},
   "source": [
    "# Day 23 - Pandas"
   ]
  },
  {
   "cell_type": "code",
   "execution_count": 1,
   "id": "4737fbb6-6db8-4486-b34a-580bc5b67961",
   "metadata": {},
   "outputs": [],
   "source": [
    "import pandas as pd\n",
    "import numpy as np"
   ]
  },
  {
   "cell_type": "markdown",
   "id": "f62cb29d-5277-4728-8ab3-3c946091e343",
   "metadata": {},
   "source": [
    "### 1. Two DataFrame objects are given:\n",
    "- amazon\n",
    "- tesla\n",
    "\n",
    "Combine these two objects into one DataFrame as shown below and assign to result variable.\n",
    "\n",
    "In response print this DataFrame the console."
   ]
  },
  {
   "cell_type": "code",
   "execution_count": 2,
   "id": "e4d53fff-93f1-45d1-b3de-3dd832e9c849",
   "metadata": {},
   "outputs": [
    {
     "name": "stdout",
     "output_type": "stream",
     "text": [
      "            amzn_open  amzn_high   amzn_low  amzn_close  amzn_volume  \\\n",
      "Date                                                                   \n",
      "2020-09-22  3033.8350  3133.9900  3000.2000     3128.99      6948816   \n",
      "2020-09-21  2906.5000  2962.0000  2871.0000     2960.47      6117925   \n",
      "2020-09-18  3031.7400  3037.8000  2905.5400     2954.91      8892580   \n",
      "2020-09-17  3009.2500  3029.4320  2972.5500     3008.73      6449050   \n",
      "2020-09-16  3179.9900  3187.2380  3074.1500     3078.10      4531189   \n",
      "2020-09-15  3136.1600  3175.0200  3108.9200     3156.13      4021535   \n",
      "2020-09-14  3172.9372  3187.3900  3096.0000     3102.97      4529596   \n",
      "2020-09-11  3208.6900  3217.3409  3083.9800     3116.22      5093982   \n",
      "2020-09-10  3307.2188  3349.8900  3170.5500     3175.11      5330741   \n",
      "2020-09-09  3202.9900  3303.1750  3185.0000     3268.61      5188675   \n",
      "2020-09-08  3144.0000  3250.8450  3130.0000     3149.84      6094205   \n",
      "2020-09-04  3318.0000  3381.5000  3111.1300     3294.62      8781754   \n",
      "2020-09-03  3485.0000  3488.4100  3303.0000     3368.00      8161113   \n",
      "2020-09-02  3547.0000  3552.2500  3486.6850     3531.45      3931476   \n",
      "2020-09-01  3489.5800  3513.8700  3467.0000     3499.12      3476407   \n",
      "2020-08-31  3408.9900  3495.0000  3405.0000     3450.96      4185885   \n",
      "2020-08-28  3423.0000  3433.3699  3386.5000     3401.80      2896978   \n",
      "2020-08-27  3450.0500  3453.0000  3378.0000     3400.00      4264795   \n",
      "2020-08-26  3351.1100  3451.7387  3344.5675     3441.85      6508743   \n",
      "2020-08-25  3294.9900  3357.4000  3267.0000     3346.49      3992842   \n",
      "\n",
      "            tsla_open  tsla_high  tsla_low  tsla_close  tsla_volume  \n",
      "Date                                                                 \n",
      "2020-09-22     429.60     437.76  417.6001      424.23     79580795  \n",
      "2020-09-21     453.13     455.68  407.0700      449.39    109476800  \n",
      "2020-09-18     447.94     451.00  428.8000      442.15     86406819  \n",
      "2020-09-17     415.60     437.79  408.0001      423.43     76779163  \n",
      "2020-09-16     439.87     457.79  435.3100      441.76     72546760  \n",
      "2020-09-15     436.56     461.94  430.7000      449.76     97298228  \n",
      "2020-09-14     380.95     420.00  373.3000      419.62     83020608  \n",
      "2020-09-11     381.94     382.50  360.5000      372.72     60717459  \n",
      "2020-09-10     386.21     398.99  360.5600      371.34     84930608  \n",
      "2020-09-09     356.60     369.00  341.5100      366.28     79465769  \n",
      "2020-09-08     356.00     368.74  329.8800      330.21    115465691  \n",
      "2020-09-04     402.81     428.00  372.0201      418.32    110321885  \n",
      "2020-09-03     407.23     431.80  402.0000      407.00     87596086  \n",
      "2020-09-02     478.99     479.04  405.1206      447.37     96176128  \n",
      "2020-09-01     502.14     502.49  470.5100      475.05     90119419  \n",
      "2020-08-31     444.61     500.14  440.1100      498.32    118374406  \n",
      "2020-08-28     459.02     463.70  437.3000      442.68    100405880  \n",
      "2020-08-27     436.09     459.12  428.5000      447.75    118465215  \n",
      "2020-08-26     412.00     433.20  410.7300      430.63     71196910  \n",
      "2020-08-25     394.98     405.59  393.6000      404.67     53294465  \n"
     ]
    }
   ],
   "source": [
    "amazon = pd.read_csv('amazon.csv', index_col=0)\n",
    "tesla = pd.read_csv('tesla.csv', index_col=0)\n",
    "amazon.columns = ['amzn_' + col.lower() for col in amazon.columns]\n",
    "tesla.columns = ['tsla_' + col.lower() for col in tesla.columns]\n",
    "\n",
    "# Start your code here\n",
    "result = pd.concat([amazon, tesla], axis=1)\n",
    "print(result)"
   ]
  },
  {
   "cell_type": "markdown",
   "id": "7ef2456f-45c3-4744-b40a-7483af7071e1",
   "metadata": {},
   "source": [
    "---"
   ]
  },
  {
   "cell_type": "markdown",
   "id": "c54089c5-58fd-4932-b1d7-d40428244510",
   "metadata": {},
   "source": [
    "### 2. The DataFrame is given below:\n",
    "```\n",
    "            amzn_open  amzn_high   amzn_low  amzn_close  amzn_volume  tsla_open  tsla_high  tsla_low  tsla_close  tsla_volume\n",
    "Date \n",
    "```\n",
    "\n",
    "Extract the following columns from the result DataFrame:\n",
    "- amzn_open\n",
    "- amzn_close\n",
    "- tsla_open\n",
    "- tsla_close\n",
    "\n",
    "and copy to a new object called quotations.\n",
    "\n",
    "In response, print the quotations DataFrame to the console.     "
   ]
  },
  {
   "cell_type": "code",
   "execution_count": 3,
   "id": "a0217619-4f59-41a4-a704-16b31230a7b4",
   "metadata": {},
   "outputs": [
    {
     "name": "stdout",
     "output_type": "stream",
     "text": [
      "            amzn_open  amzn_close  tsla_open  tsla_close\n",
      "Date                                                    \n",
      "2020-09-22  3033.8350     3128.99     429.60      424.23\n",
      "2020-09-21  2906.5000     2960.47     453.13      449.39\n",
      "2020-09-18  3031.7400     2954.91     447.94      442.15\n",
      "2020-09-17  3009.2500     3008.73     415.60      423.43\n",
      "2020-09-16  3179.9900     3078.10     439.87      441.76\n",
      "2020-09-15  3136.1600     3156.13     436.56      449.76\n",
      "2020-09-14  3172.9372     3102.97     380.95      419.62\n",
      "2020-09-11  3208.6900     3116.22     381.94      372.72\n",
      "2020-09-10  3307.2188     3175.11     386.21      371.34\n",
      "2020-09-09  3202.9900     3268.61     356.60      366.28\n",
      "2020-09-08  3144.0000     3149.84     356.00      330.21\n",
      "2020-09-04  3318.0000     3294.62     402.81      418.32\n",
      "2020-09-03  3485.0000     3368.00     407.23      407.00\n",
      "2020-09-02  3547.0000     3531.45     478.99      447.37\n",
      "2020-09-01  3489.5800     3499.12     502.14      475.05\n",
      "2020-08-31  3408.9900     3450.96     444.61      498.32\n",
      "2020-08-28  3423.0000     3401.80     459.02      442.68\n",
      "2020-08-27  3450.0500     3400.00     436.09      447.75\n",
      "2020-08-26  3351.1100     3441.85     412.00      430.63\n",
      "2020-08-25  3294.9900     3346.49     394.98      404.67\n"
     ]
    }
   ],
   "source": [
    "column = ['amzn_open', 'amzn_close', 'tsla_open', 'tsla_close']\n",
    "quotations = result[column].copy()\n",
    "print(quotations)"
   ]
  },
  {
   "cell_type": "markdown",
   "id": "a14cc65d-5b2a-41ca-8fbe-b3a6440ad672",
   "metadata": {},
   "source": [
    "---"
   ]
  },
  {
   "cell_type": "markdown",
   "id": "3008b702-8fd4-42bd-8e9b-547ed7fbf419",
   "metadata": {},
   "source": [
    "### 3. The quotations DataFrame is given below:\n",
    "```\n",
    "            amzn_open  amzn_close  tsla_open  tsla_close\n",
    "Date\n",
    "```\n",
    "\n",
    "Assign two following columns to the quotations DataFrame:\n",
    "- amzn_change\n",
    "- tsla_change\n",
    "\n",
    "which will be the daily percentage change of the price.\n",
    "\n",
    "In response, print quotations DataFrame to the console.\n",
    "\n",
    "Tip: % change = close / open - 1te   "
   ]
  },
  {
   "cell_type": "code",
   "execution_count": 4,
   "id": "5313f2fd-a0f5-4752-a946-0237880fee59",
   "metadata": {},
   "outputs": [
    {
     "name": "stdout",
     "output_type": "stream",
     "text": [
      "            amzn_open  amzn_close  tsla_open  tsla_close  amzn_change  \\\n",
      "Date                                                                    \n",
      "2020-09-22  3033.8350     3128.99     429.60      424.23     3.136459   \n",
      "2020-09-21  2906.5000     2960.47     453.13      449.39     1.856873   \n",
      "2020-09-18  3031.7400     2954.91     447.94      442.15    -2.534188   \n",
      "2020-09-17  3009.2500     3008.73     415.60      423.43    -0.017280   \n",
      "2020-09-16  3179.9900     3078.10     439.87      441.76    -3.204098   \n",
      "2020-09-15  3136.1600     3156.13     436.56      449.76     0.636766   \n",
      "2020-09-14  3172.9372     3102.97     380.95      419.62    -2.205124   \n",
      "2020-09-11  3208.6900     3116.22     381.94      372.72    -2.881861   \n",
      "2020-09-10  3307.2188     3175.11     386.21      371.34    -3.994559   \n",
      "2020-09-09  3202.9900     3268.61     356.60      366.28     2.048711   \n",
      "2020-09-08  3144.0000     3149.84     356.00      330.21     0.185751   \n",
      "2020-09-04  3318.0000     3294.62     402.81      418.32    -0.704641   \n",
      "2020-09-03  3485.0000     3368.00     407.23      407.00    -3.357245   \n",
      "2020-09-02  3547.0000     3531.45     478.99      447.37    -0.438399   \n",
      "2020-09-01  3489.5800     3499.12     502.14      475.05     0.273385   \n",
      "2020-08-31  3408.9900     3450.96     444.61      498.32     1.231156   \n",
      "2020-08-28  3423.0000     3401.80     459.02      442.68    -0.619340   \n",
      "2020-08-27  3450.0500     3400.00     436.09      447.75    -1.450704   \n",
      "2020-08-26  3351.1100     3441.85     412.00      430.63     2.707760   \n",
      "2020-08-25  3294.9900     3346.49     394.98      404.67     1.562979   \n",
      "\n",
      "            tsla_change  \n",
      "Date                     \n",
      "2020-09-22    -1.250000  \n",
      "2020-09-21    -0.825370  \n",
      "2020-09-18    -1.292584  \n",
      "2020-09-17     1.884023  \n",
      "2020-09-16     0.429672  \n",
      "2020-09-15     3.023639  \n",
      "2020-09-14    10.150938  \n",
      "2020-09-11    -2.413992  \n",
      "2020-09-10    -3.850237  \n",
      "2020-09-09     2.714526  \n",
      "2020-09-08    -7.244382  \n",
      "2020-09-04     3.850451  \n",
      "2020-09-03    -0.056479  \n",
      "2020-09-02    -6.601390  \n",
      "2020-09-01    -5.394910  \n",
      "2020-08-31    12.080250  \n",
      "2020-08-28    -3.559758  \n",
      "2020-08-27     2.673760  \n",
      "2020-08-26     4.521845  \n",
      "2020-08-25     2.453289  \n"
     ]
    }
   ],
   "source": [
    "quotations['amzn_change'] = (quotations['amzn_close'] / quotations['amzn_open'] - 1)\n",
    "quotations['amzn_change'] = quotations['amzn_change'] * 100\n",
    "quotations['tsla_change'] = (quotations['tsla_close'] / quotations['tsla_open'] - 1)\n",
    "quotations['tsla_change'] = quotations['tsla_change'] * 100\n",
    "print(quotations)"
   ]
  },
  {
   "cell_type": "markdown",
   "id": "2dff1129-da8e-4b56-95c5-ca5e9f1f5deb",
   "metadata": {},
   "source": [
    "---"
   ]
  },
  {
   "cell_type": "markdown",
   "id": "2d5fc52f-6f9f-4a14-aa28-1dce3ac7123d",
   "metadata": {},
   "source": [
    "### 4. The quotations DataFrame is given below:\n",
    "Create a new column 'similarity_flag' that stores 1 when the daily percentage change for Amazon and Tesla is of the same sign, otherwise 0 as shown below.\r\n",
    "\r\n",
    "In response, print quotations DataFrame to the console."
   ]
  },
  {
   "cell_type": "code",
   "execution_count": 5,
   "id": "9e3cf523-6fa0-43ec-aaa3-3859c5deb9e5",
   "metadata": {},
   "outputs": [
    {
     "name": "stdout",
     "output_type": "stream",
     "text": [
      "            amzn_open  amzn_close  tsla_open  tsla_close  amzn_change  \\\n",
      "Date                                                                    \n",
      "2020-09-22  3033.8350     3128.99     429.60      424.23     3.136459   \n",
      "2020-09-21  2906.5000     2960.47     453.13      449.39     1.856873   \n",
      "2020-09-18  3031.7400     2954.91     447.94      442.15    -2.534188   \n",
      "2020-09-17  3009.2500     3008.73     415.60      423.43    -0.017280   \n",
      "2020-09-16  3179.9900     3078.10     439.87      441.76    -3.204098   \n",
      "2020-09-15  3136.1600     3156.13     436.56      449.76     0.636766   \n",
      "2020-09-14  3172.9372     3102.97     380.95      419.62    -2.205124   \n",
      "2020-09-11  3208.6900     3116.22     381.94      372.72    -2.881861   \n",
      "2020-09-10  3307.2188     3175.11     386.21      371.34    -3.994559   \n",
      "2020-09-09  3202.9900     3268.61     356.60      366.28     2.048711   \n",
      "2020-09-08  3144.0000     3149.84     356.00      330.21     0.185751   \n",
      "2020-09-04  3318.0000     3294.62     402.81      418.32    -0.704641   \n",
      "2020-09-03  3485.0000     3368.00     407.23      407.00    -3.357245   \n",
      "2020-09-02  3547.0000     3531.45     478.99      447.37    -0.438399   \n",
      "2020-09-01  3489.5800     3499.12     502.14      475.05     0.273385   \n",
      "2020-08-31  3408.9900     3450.96     444.61      498.32     1.231156   \n",
      "2020-08-28  3423.0000     3401.80     459.02      442.68    -0.619340   \n",
      "2020-08-27  3450.0500     3400.00     436.09      447.75    -1.450704   \n",
      "2020-08-26  3351.1100     3441.85     412.00      430.63     2.707760   \n",
      "2020-08-25  3294.9900     3346.49     394.98      404.67     1.562979   \n",
      "\n",
      "            tsla_change  similarity_flag  \n",
      "Date                                      \n",
      "2020-09-22    -1.250000                0  \n",
      "2020-09-21    -0.825370                0  \n",
      "2020-09-18    -1.292584                1  \n",
      "2020-09-17     1.884023                0  \n",
      "2020-09-16     0.429672                0  \n",
      "2020-09-15     3.023639                1  \n",
      "2020-09-14    10.150938                0  \n",
      "2020-09-11    -2.413992                1  \n",
      "2020-09-10    -3.850237                1  \n",
      "2020-09-09     2.714526                1  \n",
      "2020-09-08    -7.244382                0  \n",
      "2020-09-04     3.850451                0  \n",
      "2020-09-03    -0.056479                1  \n",
      "2020-09-02    -6.601390                1  \n",
      "2020-09-01    -5.394910                0  \n",
      "2020-08-31    12.080250                1  \n",
      "2020-08-28    -3.559758                1  \n",
      "2020-08-27     2.673760                0  \n",
      "2020-08-26     4.521845                1  \n",
      "2020-08-25     2.453289                1  \n"
     ]
    }
   ],
   "source": [
    "quotations['similarity_flag'] = (quotations['amzn_change'] * quotations['tsla_change'] > 0) * 1\n",
    "print(quotations)"
   ]
  },
  {
   "cell_type": "markdown",
   "id": "a848396d-d03c-477e-ad19-14fadf998f0a",
   "metadata": {},
   "source": [
    "---"
   ]
  },
  {
   "cell_type": "markdown",
   "id": "86c9086c-5042-48b5-ad7e-cb854363ccb5",
   "metadata": {},
   "source": [
    "### 5. The quotations DataFrame is given below:\n",
    "Calculate the percentage of trading sessions for which Amazon and Tesla had the same direction (similarity_flag == 1) and print to the console as shown below."
   ]
  },
  {
   "cell_type": "code",
   "execution_count": 6,
   "id": "e3d018ac-05c8-4b9e-9202-c7c1f7200780",
   "metadata": {},
   "outputs": [
    {
     "name": "stdout",
     "output_type": "stream",
     "text": [
      "55.00%\n"
     ]
    }
   ],
   "source": [
    "res = quotations['similarity_flag'].sum() / len(quotations)\n",
    "print(f'{res * 100:.2f}%')"
   ]
  },
  {
   "cell_type": "markdown",
   "id": "7bf68301-22e5-470f-8779-4de7db11cda7",
   "metadata": {},
   "source": [
    "## Congratulate, Day 23 Finished!"
   ]
  }
 ],
 "metadata": {
  "kernelspec": {
   "display_name": "Python 3 (ipykernel)",
   "language": "python",
   "name": "python3"
  },
  "language_info": {
   "codemirror_mode": {
    "name": "ipython",
    "version": 3
   },
   "file_extension": ".py",
   "mimetype": "text/x-python",
   "name": "python",
   "nbconvert_exporter": "python",
   "pygments_lexer": "ipython3",
   "version": "3.9.5"
  }
 },
 "nbformat": 4,
 "nbformat_minor": 5
}
