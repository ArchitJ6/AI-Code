{
 "cells": [
  {
   "cell_type": "markdown",
   "id": "3022a6e7-5ebd-49cc-995d-387e3eb9cc05",
   "metadata": {},
   "source": [
    "# Day 24 - Pandas"
   ]
  },
  {
   "cell_type": "code",
   "execution_count": 1,
   "id": "374a7a46-f976-4b82-9e9c-b6ecd06fd863",
   "metadata": {},
   "outputs": [],
   "source": [
    "import pandas as pd"
   ]
  },
  {
   "cell_type": "markdown",
   "id": "c3ddaf10-cec5-46e0-95cf-d93a7d60ec69",
   "metadata": {},
   "source": [
    "### 1. The following dictionaries are given:\n",
    "Using these dictionaries create three DataFrame objects with the following names:\n",
    "\n",
    "products\n",
    "\n",
    "orders_day_1\n",
    "\n",
    "orders_day_2\n",
    "\n",
    "Then print these objects to the console as shown below.\n",
    "\n"
   ]
  },
  {
   "cell_type": "code",
   "execution_count": 2,
   "id": "74ffaab8-8197-4fe5-9eaf-c35bb388d910",
   "metadata": {},
   "outputs": [
    {
     "name": "stdout",
     "output_type": "stream",
     "text": [
      "  product_id          name    price\n",
      "0        001  mobile phone  1490.00\n",
      "1        004        laptop  3400.00\n",
      "2        007         mouse    59.99\n",
      "3        010        tablet   999.00\n",
      "  order_id product_id  quantity\n",
      "0     1001        004         2\n",
      "1     1002        001         1\n",
      "2     1003        001         1\n",
      "3     1004        007         3\n",
      "  order_id product_id  quantity\n",
      "0     1005        010         2\n",
      "1     1006        001         1\n",
      "2     1007        007         1\n"
     ]
    }
   ],
   "source": [
    "products_dict = {\n",
    "    'product_id': ['001', '004', '007', '010'],\n",
    "    'name': ['mobile phone', 'laptop', 'mouse', 'tablet'],\n",
    "    'price': [1490.0, 3400.0, 59.99, 999.00]\n",
    "}\n",
    "\n",
    "orders_day_1_dict = {\n",
    "    'order_id': ['1001', '1002', '1003', '1004'],\n",
    "    'product_id': ['004', '001', '001', '007'],\n",
    "    'quantity': [2, 1, 1, 3]\n",
    "}       \n",
    "\n",
    "orders_day_2_dict = {\n",
    "    'order_id': ['1005', '1006', '1007'],\n",
    "    'product_id': ['010', '001', '007'],\n",
    "    'quantity': [2, 1, 1]\n",
    "}\n",
    "\n",
    "# Start your code here\n",
    "products = pd.DataFrame(products_dict)\n",
    "orders_day_1 = pd.DataFrame(orders_day_1_dict)\n",
    "orders_day_2 = pd.DataFrame(orders_day_2_dict)\n",
    "\n",
    "print(products)\n",
    "print(orders_day_1)\n",
    "print(orders_day_2)"
   ]
  },
  {
   "cell_type": "markdown",
   "id": "f496f4c2-a5c0-448d-ad6c-85a4b33012b1",
   "metadata": {},
   "source": [
    "---"
   ]
  },
  {
   "cell_type": "markdown",
   "id": "aa86f815-b1e6-43c4-8c99-ab8a70ab2c26",
   "metadata": {},
   "source": [
    "### 2. The following DataFrame objects are given:\n",
    "\n",
    "products\n",
    "\n",
    "orders_day_1\n",
    "\n",
    "orders_day_2\n",
    "\n",
    "Combine orders_day_1 D with orders_day_2 DataFrame as shown below and assign to the orders variable. Make sure the new DataFrame is indexed correctly.\n",
    "\n",
    "In response, print the orders DataFrame to the console.ataFrame"
   ]
  },
  {
   "cell_type": "code",
   "execution_count": 3,
   "id": "5a8cbcc0-0fdb-4c92-9746-09909482274f",
   "metadata": {},
   "outputs": [
    {
     "data": {
      "text/html": [
       "<div>\n",
       "<style scoped>\n",
       "    .dataframe tbody tr th:only-of-type {\n",
       "        vertical-align: middle;\n",
       "    }\n",
       "\n",
       "    .dataframe tbody tr th {\n",
       "        vertical-align: top;\n",
       "    }\n",
       "\n",
       "    .dataframe thead th {\n",
       "        text-align: right;\n",
       "    }\n",
       "</style>\n",
       "<table border=\"1\" class=\"dataframe\">\n",
       "  <thead>\n",
       "    <tr style=\"text-align: right;\">\n",
       "      <th></th>\n",
       "      <th>order_id</th>\n",
       "      <th>product_id</th>\n",
       "      <th>quantity</th>\n",
       "    </tr>\n",
       "  </thead>\n",
       "  <tbody>\n",
       "    <tr>\n",
       "      <th>0</th>\n",
       "      <td>1001</td>\n",
       "      <td>004</td>\n",
       "      <td>2</td>\n",
       "    </tr>\n",
       "    <tr>\n",
       "      <th>1</th>\n",
       "      <td>1002</td>\n",
       "      <td>001</td>\n",
       "      <td>1</td>\n",
       "    </tr>\n",
       "    <tr>\n",
       "      <th>2</th>\n",
       "      <td>1003</td>\n",
       "      <td>001</td>\n",
       "      <td>1</td>\n",
       "    </tr>\n",
       "    <tr>\n",
       "      <th>3</th>\n",
       "      <td>1004</td>\n",
       "      <td>007</td>\n",
       "      <td>3</td>\n",
       "    </tr>\n",
       "    <tr>\n",
       "      <th>0</th>\n",
       "      <td>1005</td>\n",
       "      <td>010</td>\n",
       "      <td>2</td>\n",
       "    </tr>\n",
       "    <tr>\n",
       "      <th>1</th>\n",
       "      <td>1006</td>\n",
       "      <td>001</td>\n",
       "      <td>1</td>\n",
       "    </tr>\n",
       "    <tr>\n",
       "      <th>2</th>\n",
       "      <td>1007</td>\n",
       "      <td>007</td>\n",
       "      <td>1</td>\n",
       "    </tr>\n",
       "  </tbody>\n",
       "</table>\n",
       "</div>"
      ],
      "text/plain": [
       "  order_id product_id  quantity\n",
       "0     1001        004         2\n",
       "1     1002        001         1\n",
       "2     1003        001         1\n",
       "3     1004        007         3\n",
       "0     1005        010         2\n",
       "1     1006        001         1\n",
       "2     1007        007         1"
      ]
     },
     "execution_count": 3,
     "metadata": {},
     "output_type": "execute_result"
    }
   ],
   "source": [
    "# orders = orders_day_1.append(orders_day_2, ignore_index=True)\n",
    "# print(orders)\n",
    "orders = pd.concat([orders_day_1, orders_day_2], axis=0)\n",
    "orders"
   ]
  },
  {
   "cell_type": "markdown",
   "id": "39b4802a-8b52-41b0-a83d-d07bf4c7b4bd",
   "metadata": {},
   "source": [
    "---"
   ]
  },
  {
   "cell_type": "markdown",
   "id": "13bc3e00-5838-4933-bc61-3e2bfee8cd23",
   "metadata": {},
   "source": [
    "### 3. Using the given products DataFrame and orders DataFrame. Create the following DataFrame object and assign to the result variable (use product_id key). In response, print a result DataFrame to the console"
   ]
  },
  {
   "cell_type": "code",
   "execution_count": 4,
   "id": "63d0b459-5348-4cea-a473-b3130bf9b79d",
   "metadata": {},
   "outputs": [
    {
     "name": "stdout",
     "output_type": "stream",
     "text": [
      "  order_id product_id  quantity          name    price\n",
      "0     1001        004         2        laptop  3400.00\n",
      "1     1002        001         1  mobile phone  1490.00\n",
      "2     1003        001         1  mobile phone  1490.00\n",
      "3     1006        001         1  mobile phone  1490.00\n",
      "4     1004        007         3         mouse    59.99\n",
      "5     1007        007         1         mouse    59.99\n",
      "6     1005        010         2        tablet   999.00\n"
     ]
    }
   ],
   "source": [
    "result = pd.merge(orders, products, on='product_id')\n",
    "print(result)"
   ]
  },
  {
   "cell_type": "markdown",
   "id": "49e3f342-6096-4c1a-aa26-7ac99fc103c6",
   "metadata": {},
   "source": [
    "---"
   ]
  },
  {
   "cell_type": "markdown",
   "id": "c3b2a33e-7355-4f7e-9743-0bde0de969bc",
   "metadata": {},
   "source": [
    "### 4. The result DataFrame is given below. Based on the quantity and price columns, calculate a new column 'total' that stores the total amount for each order as shown below.\n",
    "\n",
    "In response, print a result DataFrame to the console."
   ]
  },
  {
   "cell_type": "code",
   "execution_count": 5,
   "id": "8510b66f-daec-41d9-806a-c56ef795909e",
   "metadata": {},
   "outputs": [
    {
     "name": "stdout",
     "output_type": "stream",
     "text": [
      "  order_id product_id  quantity          name    price    total\n",
      "0     1001        004         2        laptop  3400.00  6800.00\n",
      "1     1002        001         1  mobile phone  1490.00  1490.00\n",
      "2     1003        001         1  mobile phone  1490.00  1490.00\n",
      "3     1006        001         1  mobile phone  1490.00  1490.00\n",
      "4     1004        007         3         mouse    59.99   179.97\n",
      "5     1007        007         1         mouse    59.99    59.99\n",
      "6     1005        010         2        tablet   999.00  1998.00\n"
     ]
    }
   ],
   "source": [
    "result['total'] = result['quantity'] * result['price']\n",
    "print(result)"
   ]
  },
  {
   "cell_type": "markdown",
   "id": "0c6da2b4-2986-4b01-b110-1a006582d651",
   "metadata": {},
   "source": [
    "---"
   ]
  },
  {
   "cell_type": "markdown",
   "id": "9d4529d7-4853-413a-aed4-0464d466ca30",
   "metadata": {},
   "source": [
    "### 5. The following result DataFrame is given. Save this DataFrame to the following files:\n",
    "\n",
    "'result.csv' -> skip index\n",
    "\n",
    "'result.html'\n",
    "\n",
    "'result.json' -> set indent to 4 spaces"
   ]
  },
  {
   "cell_type": "code",
   "execution_count": 6,
   "id": "4da58aa0-bebe-4066-b6f9-7d252ec9b177",
   "metadata": {},
   "outputs": [],
   "source": [
    "result.to_csv('result.csv', index=False)\n",
    "result.to_html('result.html')\n",
    "result.to_json('result.json', indent=4)"
   ]
  },
  {
   "cell_type": "markdown",
   "id": "eca93278-fd4b-4656-a9ce-4a9290fccb05",
   "metadata": {},
   "source": [
    "## Congratulate, Day 24 Finished!"
   ]
  }
 ],
 "metadata": {
  "kernelspec": {
   "display_name": "Python 3 (ipykernel)",
   "language": "python",
   "name": "python3"
  },
  "language_info": {
   "codemirror_mode": {
    "name": "ipython",
    "version": 3
   },
   "file_extension": ".py",
   "mimetype": "text/x-python",
   "name": "python",
   "nbconvert_exporter": "python",
   "pygments_lexer": "ipython3",
   "version": "3.9.5"
  }
 },
 "nbformat": 4,
 "nbformat_minor": 5
}
