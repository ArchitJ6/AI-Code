{
 "cells": [
  {
   "cell_type": "markdown",
   "id": "2b20cbc6-b3e4-4279-a760-deb7dbe33213",
   "metadata": {},
   "source": [
    "# Day 25 - Pandas"
   ]
  },
  {
   "cell_type": "code",
   "execution_count": 1,
   "id": "7dd995e8-8089-4b08-a709-17c1e0a5e03d",
   "metadata": {},
   "outputs": [],
   "source": [
    "import pandas as pd\n",
    "import numpy as np"
   ]
  },
  {
   "cell_type": "markdown",
   "id": "38323a62-f21a-4dca-b2c6-4bb55fe0b542",
   "metadata": {},
   "source": [
    "### 1. The following DataFrames are given. Using the pd.merge() function make an INNNER join of employees and departments DataFrames based on the dept_id column.\r\n",
    "\r\n",
    "In response, print the result to the console."
   ]
  },
  {
   "cell_type": "code",
   "execution_count": 2,
   "id": "a487acf8-9caa-4c3f-a7b4-f22869112b32",
   "metadata": {},
   "outputs": [
    {
     "name": "stdout",
     "output_type": "stream",
     "text": [
      "  emp_id first_name last_name dept_id dept_name\n",
      "0   1001       John     Smith     002     Sales\n",
      "1   1002       Mark      Cook     001        IT\n",
      "2   1003        Bob       Cat     001        IT\n"
     ]
    }
   ],
   "source": [
    "employees = pd.DataFrame({\n",
    "    'emp_id': ['1001', '1002', '1003', '1004'],\n",
    "    'first_name': ['John', 'Mark', 'Bob', 'Alice'],\n",
    "    'last_name': ['Smith', 'Cook', 'Cat', 'Lee'],\n",
    "    'dept_id': ['002', '001', '001', '005']\n",
    "})\n",
    "\n",
    "departments = pd.DataFrame({\n",
    "    'dept_id': ['001', '002', '003', '004'],\n",
    "    'dept_name': ['IT', 'Sales', 'Marketing', 'Support']\n",
    "})\n",
    "\n",
    "# Start your code here\n",
    "result = pd.merge(employees, departments, how='inner', on='dept_id')\n",
    "print(result)"
   ]
  },
  {
   "cell_type": "markdown",
   "id": "5eb3389a-e13f-4d0d-893b-455538056365",
   "metadata": {},
   "source": [
    "---"
   ]
  },
  {
   "cell_type": "markdown",
   "id": "1664efb7-eb98-4b36-b341-982959d6cd99",
   "metadata": {},
   "source": [
    "### 2. The following DataFrames are given. Using the pd.merge() function make a LEFT join of employees and departments DataFrames based on the dept_id column. Note that the departments DataFrame doesn't have a department with dept_id == '005'.\r\n",
    "\r\n",
    "In response, print result to the console."
   ]
  },
  {
   "cell_type": "code",
   "execution_count": 3,
   "id": "425b1500-3433-4180-9d90-9ba0004ee699",
   "metadata": {},
   "outputs": [
    {
     "name": "stdout",
     "output_type": "stream",
     "text": [
      "  emp_id first_name last_name dept_id dept_name\n",
      "0   1001       John     Smith     002     Sales\n",
      "1   1002       Mark      Cook     001        IT\n",
      "2   1003        Bob       Cat     001        IT\n",
      "3   1004      Alice       Lee     005       NaN\n"
     ]
    }
   ],
   "source": [
    "result = pd.merge(employees, departments, how='left', on='dept_id')\n",
    "print(result)"
   ]
  },
  {
   "cell_type": "markdown",
   "id": "cf3005c4-18ed-43c4-b59a-1482ce1a6272",
   "metadata": {},
   "source": [
    "---"
   ]
  },
  {
   "cell_type": "markdown",
   "id": "6b8ab477-97eb-4bdd-b9a2-dfa466ffc622",
   "metadata": {},
   "source": [
    "### 3. The following DataFrames are given. Using the pd.merge() function make a RIGHT join of employees and departments DataFrames based on the dept_id column. Note that the employees object doesn't have employees for departments with dept_id of '003' and '004'.\r\n",
    "\r\n",
    "In response, print result to the console."
   ]
  },
  {
   "cell_type": "code",
   "execution_count": 4,
   "id": "d6b1fe68-0f61-4732-9140-e614431860ad",
   "metadata": {},
   "outputs": [
    {
     "data": {
      "text/html": [
       "<div>\n",
       "<style scoped>\n",
       "    .dataframe tbody tr th:only-of-type {\n",
       "        vertical-align: middle;\n",
       "    }\n",
       "\n",
       "    .dataframe tbody tr th {\n",
       "        vertical-align: top;\n",
       "    }\n",
       "\n",
       "    .dataframe thead th {\n",
       "        text-align: right;\n",
       "    }\n",
       "</style>\n",
       "<table border=\"1\" class=\"dataframe\">\n",
       "  <thead>\n",
       "    <tr style=\"text-align: right;\">\n",
       "      <th></th>\n",
       "      <th>emp_id</th>\n",
       "      <th>first_name</th>\n",
       "      <th>last_name</th>\n",
       "      <th>dept_id</th>\n",
       "      <th>dept_name</th>\n",
       "    </tr>\n",
       "  </thead>\n",
       "  <tbody>\n",
       "    <tr>\n",
       "      <th>0</th>\n",
       "      <td>1002</td>\n",
       "      <td>Mark</td>\n",
       "      <td>Cook</td>\n",
       "      <td>001</td>\n",
       "      <td>IT</td>\n",
       "    </tr>\n",
       "    <tr>\n",
       "      <th>1</th>\n",
       "      <td>1003</td>\n",
       "      <td>Bob</td>\n",
       "      <td>Cat</td>\n",
       "      <td>001</td>\n",
       "      <td>IT</td>\n",
       "    </tr>\n",
       "    <tr>\n",
       "      <th>2</th>\n",
       "      <td>1001</td>\n",
       "      <td>John</td>\n",
       "      <td>Smith</td>\n",
       "      <td>002</td>\n",
       "      <td>Sales</td>\n",
       "    </tr>\n",
       "    <tr>\n",
       "      <th>3</th>\n",
       "      <td>NaN</td>\n",
       "      <td>NaN</td>\n",
       "      <td>NaN</td>\n",
       "      <td>003</td>\n",
       "      <td>Marketing</td>\n",
       "    </tr>\n",
       "    <tr>\n",
       "      <th>4</th>\n",
       "      <td>NaN</td>\n",
       "      <td>NaN</td>\n",
       "      <td>NaN</td>\n",
       "      <td>004</td>\n",
       "      <td>Support</td>\n",
       "    </tr>\n",
       "  </tbody>\n",
       "</table>\n",
       "</div>"
      ],
      "text/plain": [
       "  emp_id first_name last_name dept_id  dept_name\n",
       "0   1002       Mark      Cook     001         IT\n",
       "1   1003        Bob       Cat     001         IT\n",
       "2   1001       John     Smith     002      Sales\n",
       "3    NaN        NaN       NaN     003  Marketing\n",
       "4    NaN        NaN       NaN     004    Support"
      ]
     },
     "execution_count": 4,
     "metadata": {},
     "output_type": "execute_result"
    }
   ],
   "source": [
    "result = pd.merge(employees, departments, how='right', on='dept_id')\n",
    "result"
   ]
  },
  {
   "cell_type": "markdown",
   "id": "f6ecc89c-48ef-40f6-9486-1288266c5be6",
   "metadata": {},
   "source": [
    "---"
   ]
  },
  {
   "cell_type": "markdown",
   "id": "b9dc27fb-1e24-4113-a5cd-ef11806e37f9",
   "metadata": {},
   "source": [
    "### 4. The following DataFrames are given. Using the pd.merge() function make an OUTER join of employees and departments DateFrames based on the dept_id column. Note that the employees DataFrmae doesn't have employees for departments with dept_id of '003' and '004'. Also note that the departments DataFrame doesn't have a department with dept_id '005'.\r\n",
    "\r\n",
    "In response, print result to the console."
   ]
  },
  {
   "cell_type": "code",
   "execution_count": 5,
   "id": "251464b6-bcdd-474d-9e48-b9b27a8c376c",
   "metadata": {},
   "outputs": [
    {
     "data": {
      "text/html": [
       "<div>\n",
       "<style scoped>\n",
       "    .dataframe tbody tr th:only-of-type {\n",
       "        vertical-align: middle;\n",
       "    }\n",
       "\n",
       "    .dataframe tbody tr th {\n",
       "        vertical-align: top;\n",
       "    }\n",
       "\n",
       "    .dataframe thead th {\n",
       "        text-align: right;\n",
       "    }\n",
       "</style>\n",
       "<table border=\"1\" class=\"dataframe\">\n",
       "  <thead>\n",
       "    <tr style=\"text-align: right;\">\n",
       "      <th></th>\n",
       "      <th>emp_id</th>\n",
       "      <th>first_name</th>\n",
       "      <th>last_name</th>\n",
       "      <th>dept_id</th>\n",
       "      <th>dept_name</th>\n",
       "    </tr>\n",
       "  </thead>\n",
       "  <tbody>\n",
       "    <tr>\n",
       "      <th>0</th>\n",
       "      <td>1001</td>\n",
       "      <td>John</td>\n",
       "      <td>Smith</td>\n",
       "      <td>002</td>\n",
       "      <td>Sales</td>\n",
       "    </tr>\n",
       "    <tr>\n",
       "      <th>1</th>\n",
       "      <td>1002</td>\n",
       "      <td>Mark</td>\n",
       "      <td>Cook</td>\n",
       "      <td>001</td>\n",
       "      <td>IT</td>\n",
       "    </tr>\n",
       "    <tr>\n",
       "      <th>2</th>\n",
       "      <td>1003</td>\n",
       "      <td>Bob</td>\n",
       "      <td>Cat</td>\n",
       "      <td>001</td>\n",
       "      <td>IT</td>\n",
       "    </tr>\n",
       "    <tr>\n",
       "      <th>3</th>\n",
       "      <td>1004</td>\n",
       "      <td>Alice</td>\n",
       "      <td>Lee</td>\n",
       "      <td>005</td>\n",
       "      <td>NaN</td>\n",
       "    </tr>\n",
       "    <tr>\n",
       "      <th>4</th>\n",
       "      <td>NaN</td>\n",
       "      <td>NaN</td>\n",
       "      <td>NaN</td>\n",
       "      <td>003</td>\n",
       "      <td>Marketing</td>\n",
       "    </tr>\n",
       "    <tr>\n",
       "      <th>5</th>\n",
       "      <td>NaN</td>\n",
       "      <td>NaN</td>\n",
       "      <td>NaN</td>\n",
       "      <td>004</td>\n",
       "      <td>Support</td>\n",
       "    </tr>\n",
       "  </tbody>\n",
       "</table>\n",
       "</div>"
      ],
      "text/plain": [
       "  emp_id first_name last_name dept_id  dept_name\n",
       "0   1001       John     Smith     002      Sales\n",
       "1   1002       Mark      Cook     001         IT\n",
       "2   1003        Bob       Cat     001         IT\n",
       "3   1004      Alice       Lee     005        NaN\n",
       "4    NaN        NaN       NaN     003  Marketing\n",
       "5    NaN        NaN       NaN     004    Support"
      ]
     },
     "execution_count": 5,
     "metadata": {},
     "output_type": "execute_result"
    }
   ],
   "source": [
    "result = pd.merge(employees, departments, how='outer', on='dept_id')\n",
    "result"
   ]
  },
  {
   "cell_type": "markdown",
   "id": "c4f93a15-4740-4db1-a671-842677f32407",
   "metadata": {},
   "source": [
    "---"
   ]
  },
  {
   "cell_type": "markdown",
   "id": "eb2e52c8-3dd5-446e-992c-7bf4a35e5d35",
   "metadata": {},
   "source": [
    "### 5. The following DataFrames are given. Notice that we have a duplicate row in the employees DataFrame this time. Using the pd.merge() function make an INNER join of employees and departments DataFrames based on the dept_id column.\r\n",
    "\r\n",
    "In response, print result to the consol\n",
    "\n",
    "Comment: Notice that the duplicate row is also included in the result. We will solve this problem in the next exercise.e."
   ]
  },
  {
   "cell_type": "code",
   "execution_count": 7,
   "id": "bc5e64fa-c3ac-4d1b-bde3-29e52b49ca2c",
   "metadata": {},
   "outputs": [
    {
     "name": "stdout",
     "output_type": "stream",
     "text": [
      "  emp_id first_name last_name dept_id dept_name\n",
      "0   1001       John     Smith     002     Sales\n",
      "1   1002       Mark      Cook     001        IT\n",
      "2   1003        Bob       Cat     001        IT\n",
      "3   1003        Bob       Cat     001        IT\n"
     ]
    }
   ],
   "source": [
    "employees = pd.DataFrame({\n",
    "    'emp_id': ['1001', '1002', '1003', '1003', '1004'],\n",
    "    'first_name': ['John', 'Mark', 'Bob', 'Bob', 'Alice'],\n",
    "    'last_name': ['Smith', 'Cook', 'Cat', 'Cat', 'Lee'],\n",
    "    'dept_id': ['002', '001', '001', '001', '005']\n",
    "})\n",
    "\n",
    "departments = pd.DataFrame({\n",
    "    'dept_id': ['001', '002', '003', '004'],\n",
    "    'dept_name': ['IT', 'Sales', 'Marketing', 'Support']\n",
    "})\n",
    "\n",
    "# Start your code here\n",
    "result = pd.merge(employees, departments, how='inner', on='dept_id')\n",
    "print(result)"
   ]
  },
  {
   "cell_type": "markdown",
   "id": "8926e667-96f2-497f-b7a9-d4c975bdb15e",
   "metadata": {},
   "source": [
    "## Congratulate, Day 25 Finished!"
   ]
  }
 ],
 "metadata": {
  "kernelspec": {
   "display_name": "Python 3 (ipykernel)",
   "language": "python",
   "name": "python3"
  },
  "language_info": {
   "codemirror_mode": {
    "name": "ipython",
    "version": 3
   },
   "file_extension": ".py",
   "mimetype": "text/x-python",
   "name": "python",
   "nbconvert_exporter": "python",
   "pygments_lexer": "ipython3",
   "version": "3.9.5"
  }
 },
 "nbformat": 4,
 "nbformat_minor": 5
}
