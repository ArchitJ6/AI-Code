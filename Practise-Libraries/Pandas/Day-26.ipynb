{
 "cells": [
  {
   "cell_type": "markdown",
   "id": "cc6b0986-7113-4425-9efe-4690699a1cd5",
   "metadata": {},
   "source": [
    "# Day 26 - Pandas"
   ]
  },
  {
   "cell_type": "code",
   "execution_count": 1,
   "id": "093d501e-924f-4bfe-b840-2d64e04415c5",
   "metadata": {},
   "outputs": [],
   "source": [
    "import pandas as pd\n",
    "import numpy as np"
   ]
  },
  {
   "cell_type": "markdown",
   "id": "6cb78500-89c0-4291-973d-ae13fe543d61",
   "metadata": {},
   "source": [
    "### 1. The following DataFrames are given. Notice that we have a duplicate row in the employees DataFrame. Remove the duplicate from the employees DataFrame and assign them to the employees_unique variable. Then use the pd.merge() function to make an INNER join of employees_unique and departments DataFrames based on the dept_id column.\r\n",
    "\r\n",
    "In response, print the result to the console."
   ]
  },
  {
   "cell_type": "code",
   "execution_count": 2,
   "id": "31b5565f-2358-4617-b71d-29fe30f0fa66",
   "metadata": {},
   "outputs": [
    {
     "name": "stdout",
     "output_type": "stream",
     "text": [
      "  emp_id first_name last_name dept_id dept_name\n",
      "0   1001       John     Smith     002     Sales\n",
      "1   1002       Mark      Cook     001        IT\n",
      "2   1003        Bob       Cat     001        IT\n"
     ]
    }
   ],
   "source": [
    "employees = pd.DataFrame({\n",
    "    'emp_id': ['1001', '1002', '1003', '1003', '1004'],\n",
    "    'first_name': ['John', 'Mark', 'Bob', 'Bob', 'Alice'],\n",
    "    'last_name': ['Smith', 'Cook', 'Cat', 'Cat', 'Lee'],\n",
    "    'dept_id': ['002', '001', '001', '001', '005']\n",
    "})\n",
    "\n",
    "departments = pd.DataFrame({\n",
    "    'dept_id': ['001', '002', '003', '004'],\n",
    "    'dept_name': ['IT', 'Sales', 'Marketing', 'Support']\n",
    "})\n",
    "\n",
    "# Start your code here\n",
    "employees_unique = employees.drop_duplicates()\n",
    "result = pd.merge(\n",
    "    employees_unique, \n",
    "    departments, \n",
    "    how='inner', \n",
    "    on='dept_id'\n",
    ")\n",
    "print(result)"
   ]
  },
  {
   "cell_type": "markdown",
   "id": "52a94d81-75aa-4cb0-a38e-c392f96c8e7e",
   "metadata": {},
   "source": [
    "---"
   ]
  },
  {
   "cell_type": "markdown",
   "id": "c68356ad-3e80-4144-92bb-1ac1317f96ee",
   "metadata": {},
   "source": [
    "### 2. The following `tips` DataFrame is given. Average value of the tip and total_bill columns broken down into days.\r\n",
    "\r\n",
    "In response, print result to the console.\r\n",
    "\r\n",
    "\r\n",
    "\r\n",
    "Tip: Use the pd.pivot_table() function."
   ]
  },
  {
   "cell_type": "code",
   "execution_count": 3,
   "id": "3ccccc97-5e19-4ac5-b978-2fe2ad1d21b2",
   "metadata": {},
   "outputs": [
    {
     "name": "stdout",
     "output_type": "stream",
     "text": [
      "           tip  total_bill\n",
      "day                       \n",
      "Fri   2.734737   17.151579\n",
      "Sat   2.993103   20.441379\n",
      "Sun   3.255132   21.410000\n",
      "Thur  2.771452   17.682742\n"
     ]
    }
   ],
   "source": [
    "tips = pd.read_csv('https://raw.githubusercontent.com/mwaskom/seaborn-data/master/tips.csv')\n",
    "result = pd.pivot_table(\n",
    "    tips, \n",
    "    index='day', \n",
    "    values=['tip', 'total_bill'], \n",
    "    aggfunc='mean'\n",
    ")\n",
    "print(result)"
   ]
  },
  {
   "cell_type": "markdown",
   "id": "e4d4d20e-1e9a-47f3-8b45-26bb09efb2dc",
   "metadata": {},
   "source": [
    "---"
   ]
  },
  {
   "cell_type": "markdown",
   "id": "6c7fdb6b-8b84-42a9-ac7a-3420dd7a24ef",
   "metadata": {},
   "source": [
    "### 3. The following `tips` DataFrame is given. Average value of the tip and total_bill columns broken down into days and gender.\r\n",
    "\r\n",
    "In response, print result to the console.\r\n",
    "\r\n",
    "\r\n",
    "\r\n",
    "Tip: Use the pd.pivot_table() function."
   ]
  },
  {
   "cell_type": "code",
   "execution_count": 4,
   "id": "b54ad3d1-d57c-47c5-8064-fa9f12c68247",
   "metadata": {},
   "outputs": [
    {
     "name": "stdout",
     "output_type": "stream",
     "text": [
      "                  tip  total_bill\n",
      "day  sex                         \n",
      "Fri  Female  2.781111   14.145556\n",
      "     Male    2.693000   19.857000\n",
      "Sat  Female  2.801786   19.680357\n",
      "     Male    3.083898   20.802542\n",
      "Sun  Female  3.367222   19.872222\n",
      "     Male    3.220345   21.887241\n",
      "Thur Female  2.575625   16.715312\n",
      "     Male    2.980333   18.714667\n"
     ]
    }
   ],
   "source": [
    "result = pd.pivot_table(\n",
    "    tips, \n",
    "    index=['day', 'sex'], \n",
    "    values=['tip', 'total_bill'], \n",
    "    aggfunc='mean'\n",
    ")\n",
    "print(result)"
   ]
  },
  {
   "cell_type": "markdown",
   "id": "6f992022-ebf9-474e-841a-f73b81f35d96",
   "metadata": {},
   "source": [
    "---"
   ]
  },
  {
   "cell_type": "markdown",
   "id": "29b29064-862f-4f8b-9b1d-f5bbb726a3a2",
   "metadata": {},
   "source": [
    "### 4. The following `tips` DataFrame is given. Maximum value of the tip and total_bill columns broken down into days.\r\n",
    "\r\n",
    "In response, print result to the console.\r\n",
    "\r\n",
    "\r\n",
    "\r\n",
    "Tip: Use the pd.pivot_table() function."
   ]
  },
  {
   "cell_type": "code",
   "execution_count": 5,
   "id": "dd3141b7-80c7-4838-bb00-69f6437e68ca",
   "metadata": {},
   "outputs": [
    {
     "name": "stdout",
     "output_type": "stream",
     "text": [
      "        tip  total_bill\n",
      "day                    \n",
      "Fri    4.73       40.17\n",
      "Sat   10.00       50.81\n",
      "Sun    6.50       48.17\n",
      "Thur   6.70       43.11\n"
     ]
    }
   ],
   "source": [
    "result = pd.pivot_table(\n",
    "    tips, \n",
    "    index='day', \n",
    "    values=['tip', 'total_bill'], \n",
    "    aggfunc='max'\n",
    ")\n",
    "print(result)"
   ]
  },
  {
   "cell_type": "markdown",
   "id": "f94168fa-5f11-4590-8e93-9d2ccf539c69",
   "metadata": {},
   "source": [
    "---"
   ]
  },
  {
   "cell_type": "markdown",
   "id": "a5311616-8cca-4e81-bf84-6b68664d8ee7",
   "metadata": {},
   "source": [
    "### 5. The following `tips` DataFrame is given. Average value of the tip and total_bill columns broken down into days, gender and smoker / non-smoker.\r\n",
    "\r\n",
    "In response, print result to the console.\r\n",
    "\r\n",
    "\r\n",
    "\r\n",
    "Tip: Use the pd.pivot_table() function."
   ]
  },
  {
   "cell_type": "code",
   "execution_count": 6,
   "id": "f6256954-911c-489e-9574-530e0705337a",
   "metadata": {},
   "outputs": [
    {
     "name": "stdout",
     "output_type": "stream",
     "text": [
      "                         tip  total_bill\n",
      "day  sex    smoker                      \n",
      "Fri  Female No      3.125000   19.365000\n",
      "            Yes     2.682857   12.654286\n",
      "     Male   No      2.500000   17.475000\n",
      "            Yes     2.741250   20.452500\n",
      "Sat  Female No      2.724615   19.003846\n",
      "            Yes     2.868667   20.266667\n",
      "     Male   No      3.256563   19.929063\n",
      "            Yes     2.879259   21.837778\n",
      "Sun  Female No      3.329286   20.824286\n",
      "            Yes     3.500000   16.540000\n",
      "     Male   No      3.115349   20.403256\n",
      "            Yes     3.521333   26.141333\n",
      "Thur Female No      2.459600   16.014400\n",
      "            Yes     2.990000   19.218571\n",
      "     Male   No      2.941500   18.486500\n",
      "            Yes     3.058000   19.171000\n"
     ]
    }
   ],
   "source": [
    "result = pd.pivot_table(\n",
    "    tips, \n",
    "    index=['day', 'sex', 'smoker'], \n",
    "    values=['tip', 'total_bill'], \n",
    "    aggfunc='mean'\n",
    ")\n",
    "print(result)"
   ]
  },
  {
   "cell_type": "markdown",
   "id": "ebab7d64-0cfc-4447-a9bb-7342867a6ac4",
   "metadata": {},
   "source": [
    "---"
   ]
  },
  {
   "cell_type": "markdown",
   "id": "1b17e65e-0e8f-4c1d-b604-9f8dd219a680",
   "metadata": {},
   "source": [
    "### 6. The following `result` DataFrame is given. Extract values for Sunday from this DataFrame and print it to the console."
   ]
  },
  {
   "cell_type": "code",
   "execution_count": 9,
   "id": "3f03b42f-968f-475e-b6bd-5937a4c68504",
   "metadata": {},
   "outputs": [
    {
     "data": {
      "text/html": [
       "<div>\n",
       "<style scoped>\n",
       "    .dataframe tbody tr th:only-of-type {\n",
       "        vertical-align: middle;\n",
       "    }\n",
       "\n",
       "    .dataframe tbody tr th {\n",
       "        vertical-align: top;\n",
       "    }\n",
       "\n",
       "    .dataframe thead th {\n",
       "        text-align: right;\n",
       "    }\n",
       "</style>\n",
       "<table border=\"1\" class=\"dataframe\">\n",
       "  <thead>\n",
       "    <tr style=\"text-align: right;\">\n",
       "      <th></th>\n",
       "      <th></th>\n",
       "      <th>tip</th>\n",
       "      <th>total_bill</th>\n",
       "    </tr>\n",
       "    <tr>\n",
       "      <th>sex</th>\n",
       "      <th>smoker</th>\n",
       "      <th></th>\n",
       "      <th></th>\n",
       "    </tr>\n",
       "  </thead>\n",
       "  <tbody>\n",
       "    <tr>\n",
       "      <th rowspan=\"2\" valign=\"top\">Female</th>\n",
       "      <th>No</th>\n",
       "      <td>3.329286</td>\n",
       "      <td>20.824286</td>\n",
       "    </tr>\n",
       "    <tr>\n",
       "      <th>Yes</th>\n",
       "      <td>3.500000</td>\n",
       "      <td>16.540000</td>\n",
       "    </tr>\n",
       "    <tr>\n",
       "      <th rowspan=\"2\" valign=\"top\">Male</th>\n",
       "      <th>No</th>\n",
       "      <td>3.115349</td>\n",
       "      <td>20.403256</td>\n",
       "    </tr>\n",
       "    <tr>\n",
       "      <th>Yes</th>\n",
       "      <td>3.521333</td>\n",
       "      <td>26.141333</td>\n",
       "    </tr>\n",
       "  </tbody>\n",
       "</table>\n",
       "</div>"
      ],
      "text/plain": [
       "                    tip  total_bill\n",
       "sex    smoker                      \n",
       "Female No      3.329286   20.824286\n",
       "       Yes     3.500000   16.540000\n",
       "Male   No      3.115349   20.403256\n",
       "       Yes     3.521333   26.141333"
      ]
     },
     "execution_count": 9,
     "metadata": {},
     "output_type": "execute_result"
    }
   ],
   "source": [
    "result.loc['Sun']"
   ]
  },
  {
   "cell_type": "markdown",
   "id": "1ac025af-0ee0-4db1-868f-b24c54b4a2fb",
   "metadata": {},
   "source": [
    "---"
   ]
  },
  {
   "cell_type": "markdown",
   "id": "def38695-3017-4a11-9804-b6e14a3d1b46",
   "metadata": {},
   "source": [
    "### 7. The following `tips` DataFrame is given. Extract values for Sunday and men from this DataFrame and print it to the console."
   ]
  },
  {
   "cell_type": "code",
   "execution_count": 11,
   "id": "149d7447-5edb-4737-ba7d-0d8894420fe6",
   "metadata": {},
   "outputs": [
    {
     "data": {
      "text/html": [
       "<div>\n",
       "<style scoped>\n",
       "    .dataframe tbody tr th:only-of-type {\n",
       "        vertical-align: middle;\n",
       "    }\n",
       "\n",
       "    .dataframe tbody tr th {\n",
       "        vertical-align: top;\n",
       "    }\n",
       "\n",
       "    .dataframe thead th {\n",
       "        text-align: right;\n",
       "    }\n",
       "</style>\n",
       "<table border=\"1\" class=\"dataframe\">\n",
       "  <thead>\n",
       "    <tr style=\"text-align: right;\">\n",
       "      <th></th>\n",
       "      <th>tip</th>\n",
       "      <th>total_bill</th>\n",
       "    </tr>\n",
       "    <tr>\n",
       "      <th>smoker</th>\n",
       "      <th></th>\n",
       "      <th></th>\n",
       "    </tr>\n",
       "  </thead>\n",
       "  <tbody>\n",
       "    <tr>\n",
       "      <th>No</th>\n",
       "      <td>3.115349</td>\n",
       "      <td>20.403256</td>\n",
       "    </tr>\n",
       "    <tr>\n",
       "      <th>Yes</th>\n",
       "      <td>3.521333</td>\n",
       "      <td>26.141333</td>\n",
       "    </tr>\n",
       "  </tbody>\n",
       "</table>\n",
       "</div>"
      ],
      "text/plain": [
       "             tip  total_bill\n",
       "smoker                      \n",
       "No      3.115349   20.403256\n",
       "Yes     3.521333   26.141333"
      ]
     },
     "execution_count": 11,
     "metadata": {},
     "output_type": "execute_result"
    }
   ],
   "source": [
    "result.loc['Sun'].loc['Male']"
   ]
  },
  {
   "cell_type": "markdown",
   "id": "c592fe9e-2046-48a1-8329-a4bb5f86dfef",
   "metadata": {},
   "source": [
    "## Congratulate, Day 26 Finished!"
   ]
  }
 ],
 "metadata": {
  "kernelspec": {
   "display_name": "Python 3 (ipykernel)",
   "language": "python",
   "name": "python3"
  },
  "language_info": {
   "codemirror_mode": {
    "name": "ipython",
    "version": 3
   },
   "file_extension": ".py",
   "mimetype": "text/x-python",
   "name": "python",
   "nbconvert_exporter": "python",
   "pygments_lexer": "ipython3",
   "version": "3.9.5"
  }
 },
 "nbformat": 4,
 "nbformat_minor": 5
}
