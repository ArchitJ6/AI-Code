{
 "cells": [
  {
   "cell_type": "markdown",
   "metadata": {},
   "source": [
    "# Day 5 - Pandas"
   ]
  },
  {
   "cell_type": "code",
   "execution_count": 12,
   "metadata": {},
   "outputs": [],
   "source": [
    "import pandas as pd\n",
    "import numpy as np"
   ]
  },
  {
   "cell_type": "markdown",
   "metadata": {},
   "source": [
    "### 1. The google.csv file is attached to this exercise. Load this file into DataFrame using pandas and assign it to the google variable. In response, print google variable to the console."
   ]
  },
  {
   "cell_type": "code",
   "execution_count": 13,
   "metadata": {},
   "outputs": [
    {
     "name": "stdout",
     "output_type": "stream",
     "text": [
      "          Date     Open       High        Low    Close   Volume\n",
      "0   02-07-2020  1451.84  1488.5200  1451.0650  1469.93  2860915\n",
      "1   01-07-2020  1419.17  1448.4800  1414.1800  1442.00  2109124\n",
      "2   30-06-2020  1396.88  1424.0000  1386.9301  1418.05  2014320\n",
      "3   29-06-2020  1360.34  1398.0000  1351.6500  1397.17  2253678\n",
      "4   26-06-2020  1432.63  1437.0200  1355.0000  1362.54  4882014\n",
      "5   25-06-2020  1431.22  1442.3200  1419.5401  1441.10  1197907\n",
      "6   24-06-2020  1463.28  1475.7900  1430.0000  1432.70  1579579\n",
      "7   23-06-2020  1452.00  1475.2000  1445.0000  1463.98  1887583\n",
      "8   22-06-2020  1425.01  1450.9500  1419.1900  1450.66  1472072\n",
      "9   19-06-2020  1440.00  1444.5000  1419.0000  1424.64  2639167\n",
      "10  18-06-2020  1449.85  1452.9699  1426.2350  1434.12  1743071\n",
      "11  17-06-2020  1452.94  1462.2000  1435.1250  1452.54  1530500\n",
      "12  16-06-2020  1449.00  1457.1700  1428.9900  1446.47  1534826\n",
      "13  15-06-2020  1389.49  1425.0000  1387.1952  1420.74  1527652\n",
      "14  12-06-2020  1425.86  1434.5050  1385.8000  1412.92  1833756\n",
      "15  11-06-2020  1441.03  1451.6033  1398.4100  1401.90  2357243\n",
      "16  10-06-2020  1461.51  1472.7700  1454.3550  1464.70  1588116\n",
      "17  09-06-2020  1445.24  1467.8000  1442.3600  1452.08  1681155\n",
      "18  08-06-2020  1426.28  1449.0000  1424.4800  1448.04  1693881\n",
      "19  05-06-2020  1415.64  1446.3000  1407.6213  1440.02  2132350\n",
      "20  04-06-2020  1436.78  1441.3200  1406.0100  1414.30  1349105\n",
      "21  03-06-2020  1442.70  1449.0100  1431.6200  1439.25  1386640\n",
      "22  02-06-2020  1435.00  1443.0000  1421.6100  1442.31  1172069\n",
      "23  01-06-2020  1425.70  1441.5800  1422.2800  1434.87  1259254\n",
      "24  29-05-2020  1420.43  1436.7300  1415.9800  1433.52  1852522\n",
      "25  28-05-2020  1400.00  1444.4600  1399.0760  1418.24  1759787\n",
      "26  27-05-2020  1420.00  1425.3450  1394.6000  1420.28  1584185\n",
      "27  26-05-2020  1441.96  1445.1100  1419.3950  1421.37  2229488\n",
      "28  22-05-2020  1403.90  1417.0000  1395.9500  1413.24  1427206\n",
      "29  21-05-2020  1410.99  1416.4600  1394.3900  1406.75  1544976\n"
     ]
    }
   ],
   "source": [
    "google = pd.read_csv('google.csv', index_col=0)\n",
    "print(google)"
   ]
  },
  {
   "cell_type": "markdown",
   "metadata": {},
   "source": [
    "---"
   ]
  },
  {
   "cell_type": "markdown",
   "metadata": {},
   "source": [
    "### 2. The google.csv file is loaded using pandas as shown below. Print basic information about google DataFrame, then print blank line and print basic statistics for this DataFrame."
   ]
  },
  {
   "cell_type": "code",
   "execution_count": 14,
   "metadata": {},
   "outputs": [
    {
     "name": "stdout",
     "output_type": "stream",
     "text": [
      "<class 'pandas.core.frame.DataFrame'>\n",
      "Int64Index: 30 entries, 0 to 29\n",
      "Data columns (total 6 columns):\n",
      " #   Column  Non-Null Count  Dtype  \n",
      "---  ------  --------------  -----  \n",
      " 0   Date    30 non-null     object \n",
      " 1   Open    30 non-null     float64\n",
      " 2   High    30 non-null     float64\n",
      " 3   Low     30 non-null     float64\n",
      " 4   Close   30 non-null     float64\n",
      " 5   Volume  30 non-null     int64  \n",
      "dtypes: float64(4), int64(1), object(1)\n",
      "memory usage: 1.6+ KB\n",
      "None\n",
      "\n",
      "              Open         High          Low        Close        Volume\n",
      "count    30.000000    30.000000    30.000000    30.000000  3.000000e+01\n",
      "mean   1428.889000  1445.470440  1412.767923  1430.681000  1.869471e+06\n",
      "std      22.943586    19.462454    24.728358    22.717075  7.014872e+05\n",
      "min    1360.340000  1398.000000  1351.650000  1362.540000  1.172069e+06\n",
      "25%    1419.377500  1436.802500  1396.565000  1418.097500  1.528364e+06\n",
      "50%    1431.925000  1444.805000  1419.095000  1433.820000  1.687518e+06\n",
      "75%    1444.605000  1452.628250  1428.301250  1445.430000  2.085423e+06\n",
      "max    1463.280000  1488.520000  1454.355000  1469.930000  4.882014e+06\n"
     ]
    }
   ],
   "source": [
    "print(pd.DataFrame.info(google)) # or print(google.info())\n",
    "print()\n",
    "print(pd.DataFrame.describe(google)) # or print(google.describe())"
   ]
  },
  {
   "cell_type": "markdown",
   "metadata": {},
   "source": [
    "---"
   ]
  },
  {
   "cell_type": "markdown",
   "metadata": {},
   "source": [
    "### 3. The google.csv file is loaded using pandas as shown below. Convert index to the column 'Date' as shown below. Assign changes to the google variable. In response, print result to the console."
   ]
  },
  {
   "cell_type": "code",
   "execution_count": 15,
   "metadata": {},
   "outputs": [
    {
     "name": "stdout",
     "output_type": "stream",
     "text": [
      "    index        Date     Open       High        Low    Close   Volume\n",
      "0       0  02-07-2020  1451.84  1488.5200  1451.0650  1469.93  2860915\n",
      "1       1  01-07-2020  1419.17  1448.4800  1414.1800  1442.00  2109124\n",
      "2       2  30-06-2020  1396.88  1424.0000  1386.9301  1418.05  2014320\n",
      "3       3  29-06-2020  1360.34  1398.0000  1351.6500  1397.17  2253678\n",
      "4       4  26-06-2020  1432.63  1437.0200  1355.0000  1362.54  4882014\n",
      "5       5  25-06-2020  1431.22  1442.3200  1419.5401  1441.10  1197907\n",
      "6       6  24-06-2020  1463.28  1475.7900  1430.0000  1432.70  1579579\n",
      "7       7  23-06-2020  1452.00  1475.2000  1445.0000  1463.98  1887583\n",
      "8       8  22-06-2020  1425.01  1450.9500  1419.1900  1450.66  1472072\n",
      "9       9  19-06-2020  1440.00  1444.5000  1419.0000  1424.64  2639167\n",
      "10     10  18-06-2020  1449.85  1452.9699  1426.2350  1434.12  1743071\n",
      "11     11  17-06-2020  1452.94  1462.2000  1435.1250  1452.54  1530500\n",
      "12     12  16-06-2020  1449.00  1457.1700  1428.9900  1446.47  1534826\n",
      "13     13  15-06-2020  1389.49  1425.0000  1387.1952  1420.74  1527652\n",
      "14     14  12-06-2020  1425.86  1434.5050  1385.8000  1412.92  1833756\n",
      "15     15  11-06-2020  1441.03  1451.6033  1398.4100  1401.90  2357243\n",
      "16     16  10-06-2020  1461.51  1472.7700  1454.3550  1464.70  1588116\n",
      "17     17  09-06-2020  1445.24  1467.8000  1442.3600  1452.08  1681155\n",
      "18     18  08-06-2020  1426.28  1449.0000  1424.4800  1448.04  1693881\n",
      "19     19  05-06-2020  1415.64  1446.3000  1407.6213  1440.02  2132350\n",
      "20     20  04-06-2020  1436.78  1441.3200  1406.0100  1414.30  1349105\n",
      "21     21  03-06-2020  1442.70  1449.0100  1431.6200  1439.25  1386640\n",
      "22     22  02-06-2020  1435.00  1443.0000  1421.6100  1442.31  1172069\n",
      "23     23  01-06-2020  1425.70  1441.5800  1422.2800  1434.87  1259254\n",
      "24     24  29-05-2020  1420.43  1436.7300  1415.9800  1433.52  1852522\n",
      "25     25  28-05-2020  1400.00  1444.4600  1399.0760  1418.24  1759787\n",
      "26     26  27-05-2020  1420.00  1425.3450  1394.6000  1420.28  1584185\n",
      "27     27  26-05-2020  1441.96  1445.1100  1419.3950  1421.37  2229488\n",
      "28     28  22-05-2020  1403.90  1417.0000  1395.9500  1413.24  1427206\n",
      "29     29  21-05-2020  1410.99  1416.4600  1394.3900  1406.75  1544976\n"
     ]
    }
   ],
   "source": [
    "google = google.reset_index()\n",
    "print(google)"
   ]
  },
  {
   "cell_type": "markdown",
   "metadata": {},
   "source": [
    "---"
   ]
  },
  {
   "cell_type": "markdown",
   "metadata": {},
   "source": [
    "### 4. The google.csv file is loaded using pandas as shown below. Assign two new columns to the google DataFrame:\n",
    "\n",
    "- column with the current month number named 'Month'\n",
    "- column with the current year named 'Year'\n",
    "\n",
    "In response, print this DataFrame to the console."
   ]
  },
  {
   "cell_type": "code",
   "execution_count": 16,
   "metadata": {},
   "outputs": [
    {
     "name": "stdout",
     "output_type": "stream",
     "text": [
      "    index       Date     Open       High        Low    Close   Volume  Year  \\\n",
      "0       0 2020-02-07  1451.84  1488.5200  1451.0650  1469.93  2860915  2020   \n",
      "1       1 2020-01-07  1419.17  1448.4800  1414.1800  1442.00  2109124  2020   \n",
      "2       2 2020-06-30  1396.88  1424.0000  1386.9301  1418.05  2014320  2020   \n",
      "3       3 2020-06-29  1360.34  1398.0000  1351.6500  1397.17  2253678  2020   \n",
      "4       4 2020-06-26  1432.63  1437.0200  1355.0000  1362.54  4882014  2020   \n",
      "5       5 2020-06-25  1431.22  1442.3200  1419.5401  1441.10  1197907  2020   \n",
      "6       6 2020-06-24  1463.28  1475.7900  1430.0000  1432.70  1579579  2020   \n",
      "7       7 2020-06-23  1452.00  1475.2000  1445.0000  1463.98  1887583  2020   \n",
      "8       8 2020-06-22  1425.01  1450.9500  1419.1900  1450.66  1472072  2020   \n",
      "9       9 2020-06-19  1440.00  1444.5000  1419.0000  1424.64  2639167  2020   \n",
      "10     10 2020-06-18  1449.85  1452.9699  1426.2350  1434.12  1743071  2020   \n",
      "11     11 2020-06-17  1452.94  1462.2000  1435.1250  1452.54  1530500  2020   \n",
      "12     12 2020-06-16  1449.00  1457.1700  1428.9900  1446.47  1534826  2020   \n",
      "13     13 2020-06-15  1389.49  1425.0000  1387.1952  1420.74  1527652  2020   \n",
      "14     14 2020-12-06  1425.86  1434.5050  1385.8000  1412.92  1833756  2020   \n",
      "15     15 2020-11-06  1441.03  1451.6033  1398.4100  1401.90  2357243  2020   \n",
      "16     16 2020-10-06  1461.51  1472.7700  1454.3550  1464.70  1588116  2020   \n",
      "17     17 2020-09-06  1445.24  1467.8000  1442.3600  1452.08  1681155  2020   \n",
      "18     18 2020-08-06  1426.28  1449.0000  1424.4800  1448.04  1693881  2020   \n",
      "19     19 2020-05-06  1415.64  1446.3000  1407.6213  1440.02  2132350  2020   \n",
      "20     20 2020-04-06  1436.78  1441.3200  1406.0100  1414.30  1349105  2020   \n",
      "21     21 2020-03-06  1442.70  1449.0100  1431.6200  1439.25  1386640  2020   \n",
      "22     22 2020-02-06  1435.00  1443.0000  1421.6100  1442.31  1172069  2020   \n",
      "23     23 2020-01-06  1425.70  1441.5800  1422.2800  1434.87  1259254  2020   \n",
      "24     24 2020-05-29  1420.43  1436.7300  1415.9800  1433.52  1852522  2020   \n",
      "25     25 2020-05-28  1400.00  1444.4600  1399.0760  1418.24  1759787  2020   \n",
      "26     26 2020-05-27  1420.00  1425.3450  1394.6000  1420.28  1584185  2020   \n",
      "27     27 2020-05-26  1441.96  1445.1100  1419.3950  1421.37  2229488  2020   \n",
      "28     28 2020-05-22  1403.90  1417.0000  1395.9500  1413.24  1427206  2020   \n",
      "29     29 2020-05-21  1410.99  1416.4600  1394.3900  1406.75  1544976  2020   \n",
      "\n",
      "    Month  \n",
      "0       2  \n",
      "1       1  \n",
      "2       6  \n",
      "3       6  \n",
      "4       6  \n",
      "5       6  \n",
      "6       6  \n",
      "7       6  \n",
      "8       6  \n",
      "9       6  \n",
      "10      6  \n",
      "11      6  \n",
      "12      6  \n",
      "13      6  \n",
      "14     12  \n",
      "15     11  \n",
      "16     10  \n",
      "17      9  \n",
      "18      8  \n",
      "19      5  \n",
      "20      4  \n",
      "21      3  \n",
      "22      2  \n",
      "23      1  \n",
      "24      5  \n",
      "25      5  \n",
      "26      5  \n",
      "27      5  \n",
      "28      5  \n",
      "29      5  \n"
     ]
    },
    {
     "name": "stderr",
     "output_type": "stream",
     "text": [
      "C:\\Users\\AVADHESH\\AppData\\Local\\Temp\\ipykernel_9168\\1129904421.py:1: UserWarning: Parsing dates in DD/MM/YYYY format when dayfirst=False (the default) was specified. This may lead to inconsistently parsed dates! Specify a format to ensure consistent parsing.\n",
      "  google['Date'] = pd.to_datetime(google['Date'])\n"
     ]
    }
   ],
   "source": [
    "google['Date'] = pd.to_datetime(google['Date'])\n",
    "google['Year'] = google['Date'].dt.year\n",
    "google['Month'] = google['Date'].dt.month\n",
    "print(google)"
   ]
  },
  {
   "cell_type": "markdown",
   "metadata": {},
   "source": [
    "---"
   ]
  },
  {
   "cell_type": "markdown",
   "metadata": {},
   "source": [
    "### 5. The google.csv file is loaded using pandas as shown below. Compute the average closing price for the month (group data by month - the Month column and then count the average value). In response, print result to the console."
   ]
  },
  {
   "cell_type": "code",
   "execution_count": 17,
   "metadata": {},
   "outputs": [
    {
     "name": "stdout",
     "output_type": "stream",
     "text": [
      "Month\n",
      "1     1438.435000\n",
      "2     1456.120000\n",
      "3     1439.250000\n",
      "4     1414.300000\n",
      "5     1421.917143\n",
      "6     1428.725833\n",
      "8     1448.040000\n",
      "9     1452.080000\n",
      "10    1464.700000\n",
      "11    1401.900000\n",
      "12    1412.920000\n",
      "Name: Close, dtype: float64\n"
     ]
    }
   ],
   "source": [
    "google = google.reset_index()\n",
    "google['Date'] = pd.to_datetime(google['Date'])\n",
    "google['Year'] = google['Date'].dt.year\n",
    "google['Month'] = google['Date'].dt.month\n",
    "\n",
    "print(google.groupby('Month')['Close'].mean())"
   ]
  },
  {
   "cell_type": "markdown",
   "metadata": {},
   "source": [
    "## Congratulate, Day 5 Finished!"
   ]
  }
 ],
 "metadata": {
  "kernelspec": {
   "display_name": "Python 3",
   "language": "python",
   "name": "python3"
  },
  "language_info": {
   "codemirror_mode": {
    "name": "ipython",
    "version": 3
   },
   "file_extension": ".py",
   "mimetype": "text/x-python",
   "name": "python",
   "nbconvert_exporter": "python",
   "pygments_lexer": "ipython3",
   "version": "3.9.5"
  },
  "orig_nbformat": 4
 },
 "nbformat": 4,
 "nbformat_minor": 2
}
