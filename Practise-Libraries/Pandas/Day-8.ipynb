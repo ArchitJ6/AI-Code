{
 "cells": [
  {
   "cell_type": "markdown",
   "metadata": {},
   "source": [
    "# Day 8 - Pandas"
   ]
  },
  {
   "cell_type": "code",
   "execution_count": 1,
   "metadata": {},
   "outputs": [],
   "source": [
    "import pandas as pd"
   ]
  },
  {
   "cell_type": "markdown",
   "metadata": {},
   "source": [
    "### 1. The df DataFrame is given below. Find the distribution of the Churn variable and print it to the console."
   ]
  },
  {
   "cell_type": "code",
   "execution_count": 3,
   "metadata": {},
   "outputs": [
    {
     "name": "stdout",
     "output_type": "stream",
     "text": [
      "No     5174\n",
      "Yes    1869\n",
      "Name: Churn, dtype: int64\n"
     ]
    }
   ],
   "source": [
    "url = 'https://ml-repository-krakers.s3-eu-west-1.amazonaws.com/kaggle+/churn_modelling/Telco-Customer-Churn.csv'\n",
    "df = pd.read_csv(url, index_col=0)\n",
    "\n",
    "# Start your code here\n",
    "print(df['Churn'].value_counts())"
   ]
  },
  {
   "cell_type": "markdown",
   "metadata": {},
   "source": [
    "---"
   ]
  },
  {
   "cell_type": "markdown",
   "metadata": {},
   "source": [
    "### 2. The df DataFrame is given below. Group this DataFrame by 'Churn' and 'PaymentMethod' column and calculate the average value of the 'MonthlyCharges' column. In response, print result to the console."
   ]
  },
  {
   "cell_type": "code",
   "execution_count": 4,
   "metadata": {},
   "outputs": [
    {
     "name": "stdout",
     "output_type": "stream",
     "text": [
      "Churn  PaymentMethod            \n",
      "No     Bank transfer (automatic)    65.049417\n",
      "       Credit card (automatic)      64.562209\n",
      "       Electronic check             74.232032\n",
      "       Mailed check                 41.403911\n",
      "Yes    Bank transfer (automatic)    77.875581\n",
      "       Credit card (automatic)      77.356034\n",
      "       Electronic check             78.700980\n",
      "       Mailed check                 54.557143\n",
      "Name: MonthlyCharges, dtype: float64\n"
     ]
    }
   ],
   "source": [
    "print(df.groupby(['Churn', 'PaymentMethod'])['MonthlyCharges'].mean())"
   ]
  },
  {
   "cell_type": "markdown",
   "metadata": {},
   "source": [
    "---"
   ]
  },
  {
   "cell_type": "markdown",
   "metadata": {},
   "source": [
    "### 3. The df DataFrame is given below. Map the Churn column as follows:\n",
    "```\n",
    "'Yes' -> 1\n",
    "\n",
    "'No' -> 0\n",
    "```\n",
    "The first five rows of the Churn column:\n",
    "```\n",
    "customerID\n",
    "7590-VHVEG    0\n",
    "5575-GNVDE    0\n",
    "3668-QPYBK    1\n",
    "7795-CFOCW    0\n",
    "9237-HQITU    1\n",
    "Name: Churn, dtype: int64\n",
    "```"
   ]
  },
  {
   "cell_type": "code",
   "execution_count": 6,
   "metadata": {},
   "outputs": [
    {
     "name": "stdout",
     "output_type": "stream",
     "text": [
      "customerID\n",
      "7590-VHVEG    0\n",
      "5575-GNVDE    0\n",
      "3668-QPYBK    1\n",
      "7795-CFOCW    0\n",
      "9237-HQITU    1\n",
      "Name: Churn, dtype: int64\n"
     ]
    }
   ],
   "source": [
    "df['Churn'] = df['Churn'].map({'Yes': 1, 'No': 0})\n",
    "print(df['Churn'].head())"
   ]
  },
  {
   "cell_type": "markdown",
   "metadata": {},
   "source": [
    "---"
   ]
  },
  {
   "cell_type": "markdown",
   "metadata": {},
   "source": [
    "### 4. The df DataFrame is given below. Calculate the correlation matrix for this DataFrame. In response, print result to the console."
   ]
  },
  {
   "cell_type": "code",
   "execution_count": 9,
   "metadata": {},
   "outputs": [
    {
     "name": "stdout",
     "output_type": "stream",
     "text": [
      "                SeniorCitizen    tenure  MonthlyCharges     Churn\n",
      "SeniorCitizen        1.000000  0.016567        0.220173  0.150889\n",
      "tenure               0.016567  1.000000        0.247900 -0.352229\n",
      "MonthlyCharges       0.220173  0.247900        1.000000  0.193356\n",
      "Churn                0.150889 -0.352229        0.193356  1.000000\n"
     ]
    },
    {
     "name": "stderr",
     "output_type": "stream",
     "text": [
      "C:\\Users\\AVADHESH\\AppData\\Local\\Temp\\ipykernel_15152\\4212406737.py:1: FutureWarning: The default value of numeric_only in DataFrame.corr is deprecated. In a future version, it will default to False. Select only valid columns or specify the value of numeric_only to silence this warning.\n",
      "  print(df.corr())\n"
     ]
    }
   ],
   "source": [
    "print(df.corr())"
   ]
  },
  {
   "cell_type": "markdown",
   "metadata": {},
   "source": [
    "---"
   ]
  },
  {
   "cell_type": "markdown",
   "metadata": {},
   "source": [
    "### 5. The df DataFrame is given below. Take a sample of ten rows from this DataFrame and save to sample_10.csv file."
   ]
  },
  {
   "cell_type": "code",
   "execution_count": 11,
   "metadata": {},
   "outputs": [],
   "source": [
    "df.sample(10).to_csv('sample_10.csv')"
   ]
  },
  {
   "cell_type": "markdown",
   "metadata": {},
   "source": [
    "## Congratulate, Day 8 Finished!"
   ]
  }
 ],
 "metadata": {
  "kernelspec": {
   "display_name": "Python 3",
   "language": "python",
   "name": "python3"
  },
  "language_info": {
   "codemirror_mode": {
    "name": "ipython",
    "version": 3
   },
   "file_extension": ".py",
   "mimetype": "text/x-python",
   "name": "python",
   "nbconvert_exporter": "python",
   "pygments_lexer": "ipython3",
   "version": "3.9.5"
  }
 },
 "nbformat": 4,
 "nbformat_minor": 2
}
