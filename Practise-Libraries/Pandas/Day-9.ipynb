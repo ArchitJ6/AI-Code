{
 "cells": [
  {
   "cell_type": "markdown",
   "metadata": {},
   "source": [
    "# Day 9 - Pandas"
   ]
  },
  {
   "cell_type": "code",
   "execution_count": 2,
   "metadata": {},
   "outputs": [],
   "source": [
    "import pandas as pd\n",
    "import numpy as np"
   ]
  },
  {
   "cell_type": "markdown",
   "metadata": {},
   "source": [
    "### 1. The following objects are given:\n",
    "```\n",
    "s1 = pd.Series(np.random.rand(20))\n",
    "s2 = pd.Series(np.random.randn(20))\n",
    "```\n",
    "Combine these two Series into one DataFrame and assign to df variable. Set the column names 'col1' and 'col2' respectively. In response, print this DataFrame to the console."
   ]
  },
  {
   "cell_type": "code",
   "execution_count": 5,
   "metadata": {},
   "outputs": [
    {
     "data": {
      "text/html": [
       "<div>\n",
       "<style scoped>\n",
       "    .dataframe tbody tr th:only-of-type {\n",
       "        vertical-align: middle;\n",
       "    }\n",
       "\n",
       "    .dataframe tbody tr th {\n",
       "        vertical-align: top;\n",
       "    }\n",
       "\n",
       "    .dataframe thead th {\n",
       "        text-align: right;\n",
       "    }\n",
       "</style>\n",
       "<table border=\"1\" class=\"dataframe\">\n",
       "  <thead>\n",
       "    <tr style=\"text-align: right;\">\n",
       "      <th></th>\n",
       "      <th>col1</th>\n",
       "      <th>col2</th>\n",
       "    </tr>\n",
       "  </thead>\n",
       "  <tbody>\n",
       "    <tr>\n",
       "      <th>0</th>\n",
       "      <td>0.555543</td>\n",
       "      <td>0.918825</td>\n",
       "    </tr>\n",
       "    <tr>\n",
       "      <th>1</th>\n",
       "      <td>0.431699</td>\n",
       "      <td>0.230912</td>\n",
       "    </tr>\n",
       "    <tr>\n",
       "      <th>2</th>\n",
       "      <td>0.271256</td>\n",
       "      <td>-0.789386</td>\n",
       "    </tr>\n",
       "    <tr>\n",
       "      <th>3</th>\n",
       "      <td>0.025945</td>\n",
       "      <td>-0.315195</td>\n",
       "    </tr>\n",
       "    <tr>\n",
       "      <th>4</th>\n",
       "      <td>0.637155</td>\n",
       "      <td>0.097302</td>\n",
       "    </tr>\n",
       "    <tr>\n",
       "      <th>5</th>\n",
       "      <td>0.733780</td>\n",
       "      <td>-0.883858</td>\n",
       "    </tr>\n",
       "    <tr>\n",
       "      <th>6</th>\n",
       "      <td>0.977021</td>\n",
       "      <td>1.273051</td>\n",
       "    </tr>\n",
       "    <tr>\n",
       "      <th>7</th>\n",
       "      <td>0.281810</td>\n",
       "      <td>0.225796</td>\n",
       "    </tr>\n",
       "    <tr>\n",
       "      <th>8</th>\n",
       "      <td>0.966738</td>\n",
       "      <td>-0.231460</td>\n",
       "    </tr>\n",
       "    <tr>\n",
       "      <th>9</th>\n",
       "      <td>0.317818</td>\n",
       "      <td>0.640574</td>\n",
       "    </tr>\n",
       "    <tr>\n",
       "      <th>10</th>\n",
       "      <td>0.711286</td>\n",
       "      <td>1.185529</td>\n",
       "    </tr>\n",
       "    <tr>\n",
       "      <th>11</th>\n",
       "      <td>0.638792</td>\n",
       "      <td>0.564000</td>\n",
       "    </tr>\n",
       "    <tr>\n",
       "      <th>12</th>\n",
       "      <td>0.949090</td>\n",
       "      <td>0.104755</td>\n",
       "    </tr>\n",
       "    <tr>\n",
       "      <th>13</th>\n",
       "      <td>0.525355</td>\n",
       "      <td>0.191235</td>\n",
       "    </tr>\n",
       "    <tr>\n",
       "      <th>14</th>\n",
       "      <td>0.334544</td>\n",
       "      <td>-0.135788</td>\n",
       "    </tr>\n",
       "    <tr>\n",
       "      <th>15</th>\n",
       "      <td>0.807437</td>\n",
       "      <td>-1.267652</td>\n",
       "    </tr>\n",
       "    <tr>\n",
       "      <th>16</th>\n",
       "      <td>0.410282</td>\n",
       "      <td>-2.062685</td>\n",
       "    </tr>\n",
       "    <tr>\n",
       "      <th>17</th>\n",
       "      <td>0.535178</td>\n",
       "      <td>-0.267979</td>\n",
       "    </tr>\n",
       "    <tr>\n",
       "      <th>18</th>\n",
       "      <td>0.722912</td>\n",
       "      <td>-0.207980</td>\n",
       "    </tr>\n",
       "    <tr>\n",
       "      <th>19</th>\n",
       "      <td>0.152385</td>\n",
       "      <td>-0.578028</td>\n",
       "    </tr>\n",
       "  </tbody>\n",
       "</table>\n",
       "</div>"
      ],
      "text/plain": [
       "        col1      col2\n",
       "0   0.555543  0.918825\n",
       "1   0.431699  0.230912\n",
       "2   0.271256 -0.789386\n",
       "3   0.025945 -0.315195\n",
       "4   0.637155  0.097302\n",
       "5   0.733780 -0.883858\n",
       "6   0.977021  1.273051\n",
       "7   0.281810  0.225796\n",
       "8   0.966738 -0.231460\n",
       "9   0.317818  0.640574\n",
       "10  0.711286  1.185529\n",
       "11  0.638792  0.564000\n",
       "12  0.949090  0.104755\n",
       "13  0.525355  0.191235\n",
       "14  0.334544 -0.135788\n",
       "15  0.807437 -1.267652\n",
       "16  0.410282 -2.062685\n",
       "17  0.535178 -0.267979\n",
       "18  0.722912 -0.207980\n",
       "19  0.152385 -0.578028"
      ]
     },
     "execution_count": 5,
     "metadata": {},
     "output_type": "execute_result"
    }
   ],
   "source": [
    "s1 = pd.Series(np.random.rand(20))\n",
    "s2 = pd.Series(np.random.randn(20))\n",
    "\n",
    "# Start your code here\n",
    "df = pd.concat([s1, s2], axis=1)\n",
    "df.columns = ['col1', 'col2']\n",
    "df"
   ]
  },
  {
   "cell_type": "markdown",
   "metadata": {},
   "source": [
    "---"
   ]
  },
  {
   "cell_type": "markdown",
   "metadata": {},
   "source": [
    "### 2. The df DataFrame is given below. Extract rows from this DataFrame for which the col2 column is between 0.0 and 1.0 (inclusive). In response, print result to the console."
   ]
  },
  {
   "cell_type": "code",
   "execution_count": 7,
   "metadata": {},
   "outputs": [
    {
     "name": "stdout",
     "output_type": "stream",
     "text": [
      "        col1      col2\n",
      "0   0.555543  0.918825\n",
      "1   0.431699  0.230912\n",
      "4   0.637155  0.097302\n",
      "7   0.281810  0.225796\n",
      "9   0.317818  0.640574\n",
      "11  0.638792  0.564000\n",
      "12  0.949090  0.104755\n",
      "13  0.525355  0.191235\n",
      "        col1      col2\n",
      "0   0.555543  0.918825\n",
      "1   0.431699  0.230912\n",
      "4   0.637155  0.097302\n",
      "7   0.281810  0.225796\n",
      "9   0.317818  0.640574\n",
      "11  0.638792  0.564000\n",
      "12  0.949090  0.104755\n",
      "13  0.525355  0.191235\n"
     ]
    }
   ],
   "source": [
    "# Method 1\n",
    "print(df[df['col2'].between(0.0, 1.0)])\n",
    "\n",
    "# Method2\n",
    "print(df[(df['col2'] >= 0.0) & (df['col2'] <= 1.0)])"
   ]
  },
  {
   "cell_type": "markdown",
   "metadata": {},
   "source": [
    "---"
   ]
  },
  {
   "cell_type": "markdown",
   "metadata": {},
   "source": [
    "### 3. The df DataFrame is given below. Assign a new column named 'col3', which will store 1 when the value in the column col2 is non-negative and -1 opposite. In response. print DataFrame to the console."
   ]
  },
  {
   "cell_type": "code",
   "execution_count": 10,
   "metadata": {},
   "outputs": [
    {
     "name": "stdout",
     "output_type": "stream",
     "text": [
      "        col1      col2  col3\n",
      "0   0.555543  0.918825     1\n",
      "1   0.431699  0.230912     1\n",
      "2   0.271256 -0.789386    -1\n",
      "3   0.025945 -0.315195    -1\n",
      "4   0.637155  0.097302     1\n",
      "5   0.733780 -0.883858    -1\n",
      "6   0.977021  1.273051     1\n",
      "7   0.281810  0.225796     1\n",
      "8   0.966738 -0.231460    -1\n",
      "9   0.317818  0.640574     1\n",
      "10  0.711286  1.185529     1\n",
      "11  0.638792  0.564000     1\n",
      "12  0.949090  0.104755     1\n",
      "13  0.525355  0.191235     1\n",
      "14  0.334544 -0.135788    -1\n",
      "15  0.807437 -1.267652    -1\n",
      "16  0.410282 -2.062685    -1\n",
      "17  0.535178 -0.267979    -1\n",
      "18  0.722912 -0.207980    -1\n",
      "19  0.152385 -0.578028    -1\n"
     ]
    }
   ],
   "source": [
    "df['col3'] = df['col2'].map(lambda x: 1 if x >= 0 else -1)\n",
    "print(df)"
   ]
  },
  {
   "cell_type": "markdown",
   "metadata": {},
   "source": [
    "---"
   ]
  },
  {
   "cell_type": "markdown",
   "metadata": {},
   "source": [
    "### 4. The df DataFrame is given below. Assign a new column 'col4', which will truncate the values from the column col2 to the range [−1.0, 1.0]. In other words, for values less than -1.0 set -1.0 and for values greater than 1.0 set 1.0. In response, print DataFrame to the console."
   ]
  },
  {
   "cell_type": "code",
   "execution_count": 11,
   "metadata": {},
   "outputs": [
    {
     "name": "stdout",
     "output_type": "stream",
     "text": [
      "        col1      col2  col3      col4\n",
      "0   0.555543  0.918825     1  0.918825\n",
      "1   0.431699  0.230912     1  0.230912\n",
      "2   0.271256 -0.789386    -1 -0.789386\n",
      "3   0.025945 -0.315195    -1 -0.315195\n",
      "4   0.637155  0.097302     1  0.097302\n",
      "5   0.733780 -0.883858    -1 -0.883858\n",
      "6   0.977021  1.273051     1  1.000000\n",
      "7   0.281810  0.225796     1  0.225796\n",
      "8   0.966738 -0.231460    -1 -0.231460\n",
      "9   0.317818  0.640574     1  0.640574\n",
      "10  0.711286  1.185529     1  1.000000\n",
      "11  0.638792  0.564000     1  0.564000\n",
      "12  0.949090  0.104755     1  0.104755\n",
      "13  0.525355  0.191235     1  0.191235\n",
      "14  0.334544 -0.135788    -1 -0.135788\n",
      "15  0.807437 -1.267652    -1 -1.000000\n",
      "16  0.410282 -2.062685    -1 -1.000000\n",
      "17  0.535178 -0.267979    -1 -0.267979\n",
      "18  0.722912 -0.207980    -1 -0.207980\n",
      "19  0.152385 -0.578028    -1 -0.578028\n"
     ]
    }
   ],
   "source": [
    "# Method 1\n",
    "df['col4'] = df['col2'].map(lambda x: 1.0 if x >= 1.0 else -1.0 if x <= -1.0 else x)\n",
    "\n",
    "# Method 2\n",
    "df['col4'] = df['col2'].clip(-1.0, 1.0)\n",
    "\n",
    "print(df)"
   ]
  },
  {
   "cell_type": "markdown",
   "metadata": {},
   "source": [
    "---"
   ]
  },
  {
   "cell_type": "markdown",
   "metadata": {},
   "source": [
    "### 5. The df DataFrame is given below. Print the five largest values for the col2. Then print blank line and print the five lowest values for the col2."
   ]
  },
  {
   "cell_type": "code",
   "execution_count": 12,
   "metadata": {},
   "outputs": [
    {
     "name": "stdout",
     "output_type": "stream",
     "text": [
      "6     1.273051\n",
      "10    1.185529\n",
      "0     0.918825\n",
      "9     0.640574\n",
      "11    0.564000\n",
      "Name: col2, dtype: float64\n",
      "\n",
      "16   -2.062685\n",
      "15   -1.267652\n",
      "5    -0.883858\n",
      "2    -0.789386\n",
      "19   -0.578028\n",
      "Name: col2, dtype: float64\n"
     ]
    }
   ],
   "source": [
    "print(df['col2'].nlargest(5))\n",
    "print()\n",
    "print(df['col2'].nsmallest(5))"
   ]
  },
  {
   "cell_type": "markdown",
   "metadata": {},
   "source": [
    "## Congratulate, Day 9 Finished!"
   ]
  }
 ],
 "metadata": {
  "kernelspec": {
   "display_name": "Python 3",
   "language": "python",
   "name": "python3"
  },
  "language_info": {
   "codemirror_mode": {
    "name": "ipython",
    "version": 3
   },
   "file_extension": ".py",
   "mimetype": "text/x-python",
   "name": "python",
   "nbconvert_exporter": "python",
   "pygments_lexer": "ipython3",
   "version": "3.9.5"
  }
 },
 "nbformat": 4,
 "nbformat_minor": 2
}
